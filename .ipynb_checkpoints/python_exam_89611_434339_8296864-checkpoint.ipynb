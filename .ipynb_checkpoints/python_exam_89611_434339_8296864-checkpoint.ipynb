{
 "cells": [
  {
   "cell_type": "markdown",
   "metadata": {
    "id": "W7lec7Uu8k3w"
   },
   "source": [
    "### 1.\tRead the dataset (tab, csv, xls, txt, inbuilt dataset)"
   ]
  },
  {
   "cell_type": "markdown",
   "metadata": {},
   "source": [
    "A non-profit healt organization has collected data baout patients in a diabetic speciality hospital, recently has turned into a covid-cure center. The organization has to see if there is any pattern to classify the patiets who has `survived` and `passed away`. Given below is the detail of the dataset.\n",
    "\n",
    "**Detail of the dataset**\n",
    "\n",
    "`Patient I.D.` --> Index of patient enrolment number\n",
    "\n",
    "`Age`  --> Age of the patient\n",
    "\n",
    "`Sex` --> Gender of the patient\n",
    "\n",
    "`cp` --> Chest Pain type chest pain type\n",
    "\n",
    "`trtbps` --> resting blood pressure (in mm Hg)\n",
    "\n",
    "`chol` --> cholestoral in mg/dl fetched via BMI sensor\n",
    "\n",
    "`fbs` --> fasting blood sugar , which has been categorised into three group based on a different magnitude\n",
    "\n",
    "`restecg` --> resting electrocardiographic results\n",
    "\n",
    "`thalachh` --> maximum heart rate achieved\n",
    "\n",
    "`Addiction` --> Addiction of the patient\n",
    "\n",
    "`keratin_type` --> Keratin type of the patient\n",
    "\n",
    "`Diabetes_type` --> type of diabetes of the patient     \n",
    "\n",
    "`Hemoglobin_level` --> level of hemoglobin of the patient \n",
    "\n",
    "`blood_group`  --> Blood group of the patient\n",
    "\n",
    "`Immunity_level` --> Immunity level of the patient,which has been categorised into different group\n",
    "\n",
    "`Affected_portion` --> Portion of organ effect by virus\n",
    "\n",
    "`Breath_ratio` -->  state air to the time of inhalation ratio.\n",
    "\n",
    "`Survive` --> whether a patient has overcome or passed away"
   ]
  },
  {
   "cell_type": "markdown",
   "metadata": {
    "id": "m6IBywq48k3-"
   },
   "source": [
    "### 1.\tData Understanding (4 marks)\n",
    "\n",
    "a.\tRead the dataset (tab, csv, xls, txt, inbuilt dataset). What are the number of rows and no. of cols & types of variables (continuous, categorical etc.)? (1 MARK)\n",
    "\n",
    "b.\tCalculate five-point summary for numerical variables (1 MARK)\n",
    "\n",
    "c.\tSummarize observations for categorical variables – no. of categories, % observations in each category. (1 mark)\n",
    "\n",
    "d.\tCheck for defects in the data such as missing values, null, outliers, etc and also check for class imbalance. (1 marks)\n"
   ]
  },
  {
   "cell_type": "markdown",
   "metadata": {
    "_cell_guid": "bfca2f2a-d078-4f0a-ad8a-3d3571a08f76",
    "_execution_state": "idle",
    "_uuid": "e5e4b5ee88062058ceff62de7993eac563c1582b",
    "id": "hDa-ztgd8k4C"
   },
   "source": [
    "First, we need to load all of our libraries we will use for this project."
   ]
  },
  {
   "cell_type": "code",
   "execution_count": 83,
   "metadata": {},
   "outputs": [],
   "source": [
    "import numpy as np\n",
    "import pandas as pd\n",
    "import matplotlib.pyplot as plt\n",
    "import seaborn as sns"
   ]
  },
  {
   "cell_type": "code",
   "execution_count": 84,
   "metadata": {},
   "outputs": [],
   "source": [
    "# a\n",
    "data = pd.read_csv('data_set.csv')"
   ]
  },
  {
   "cell_type": "code",
   "execution_count": 85,
   "metadata": {},
   "outputs": [
    {
     "data": {
      "text/html": [
       "<div>\n",
       "<style scoped>\n",
       "    .dataframe tbody tr th:only-of-type {\n",
       "        vertical-align: middle;\n",
       "    }\n",
       "\n",
       "    .dataframe tbody tr th {\n",
       "        vertical-align: top;\n",
       "    }\n",
       "\n",
       "    .dataframe thead th {\n",
       "        text-align: right;\n",
       "    }\n",
       "</style>\n",
       "<table border=\"1\" class=\"dataframe\">\n",
       "  <thead>\n",
       "    <tr style=\"text-align: right;\">\n",
       "      <th></th>\n",
       "      <th>count</th>\n",
       "      <th>mean</th>\n",
       "      <th>std</th>\n",
       "      <th>min</th>\n",
       "      <th>25%</th>\n",
       "      <th>50%</th>\n",
       "      <th>75%</th>\n",
       "      <th>max</th>\n",
       "    </tr>\n",
       "  </thead>\n",
       "  <tbody>\n",
       "    <tr>\n",
       "      <th>Patient I.D.</th>\n",
       "      <td>7000.0</td>\n",
       "      <td>3500.500000</td>\n",
       "      <td>2020.870275</td>\n",
       "      <td>1.000000</td>\n",
       "      <td>1750.750000</td>\n",
       "      <td>3500.500000</td>\n",
       "      <td>5250.250000</td>\n",
       "      <td>7000.000000</td>\n",
       "    </tr>\n",
       "    <tr>\n",
       "      <th>Age</th>\n",
       "      <td>6401.0</td>\n",
       "      <td>60.390564</td>\n",
       "      <td>18.420775</td>\n",
       "      <td>29.000000</td>\n",
       "      <td>45.000000</td>\n",
       "      <td>64.000000</td>\n",
       "      <td>77.000000</td>\n",
       "      <td>91.000000</td>\n",
       "    </tr>\n",
       "    <tr>\n",
       "      <th>cp</th>\n",
       "      <td>7000.0</td>\n",
       "      <td>1.654286</td>\n",
       "      <td>1.061300</td>\n",
       "      <td>0.000000</td>\n",
       "      <td>1.000000</td>\n",
       "      <td>2.000000</td>\n",
       "      <td>3.000000</td>\n",
       "      <td>3.000000</td>\n",
       "    </tr>\n",
       "    <tr>\n",
       "      <th>trtbps</th>\n",
       "      <td>7000.0</td>\n",
       "      <td>14.096497</td>\n",
       "      <td>5.131444</td>\n",
       "      <td>1.241648</td>\n",
       "      <td>9.422638</td>\n",
       "      <td>14.669709</td>\n",
       "      <td>18.366243</td>\n",
       "      <td>27.644734</td>\n",
       "    </tr>\n",
       "    <tr>\n",
       "      <th>chol</th>\n",
       "      <td>6376.0</td>\n",
       "      <td>248.497664</td>\n",
       "      <td>10.323672</td>\n",
       "      <td>212.122186</td>\n",
       "      <td>240.673116</td>\n",
       "      <td>249.221050</td>\n",
       "      <td>255.371556</td>\n",
       "      <td>283.852277</td>\n",
       "    </tr>\n",
       "    <tr>\n",
       "      <th>fbs</th>\n",
       "      <td>7000.0</td>\n",
       "      <td>1.676714</td>\n",
       "      <td>1.159972</td>\n",
       "      <td>0.000000</td>\n",
       "      <td>1.000000</td>\n",
       "      <td>2.000000</td>\n",
       "      <td>3.000000</td>\n",
       "      <td>3.000000</td>\n",
       "    </tr>\n",
       "    <tr>\n",
       "      <th>restecg</th>\n",
       "      <td>7000.0</td>\n",
       "      <td>0.914429</td>\n",
       "      <td>0.709753</td>\n",
       "      <td>0.000000</td>\n",
       "      <td>0.000000</td>\n",
       "      <td>1.000000</td>\n",
       "      <td>1.000000</td>\n",
       "      <td>2.000000</td>\n",
       "    </tr>\n",
       "    <tr>\n",
       "      <th>keratin_type</th>\n",
       "      <td>7000.0</td>\n",
       "      <td>1.555143</td>\n",
       "      <td>0.667956</td>\n",
       "      <td>1.000000</td>\n",
       "      <td>1.000000</td>\n",
       "      <td>1.000000</td>\n",
       "      <td>2.000000</td>\n",
       "      <td>3.000000</td>\n",
       "    </tr>\n",
       "    <tr>\n",
       "      <th>Hemoglobin_level</th>\n",
       "      <td>7000.0</td>\n",
       "      <td>9.518857</td>\n",
       "      <td>2.285818</td>\n",
       "      <td>6.000000</td>\n",
       "      <td>8.000000</td>\n",
       "      <td>10.000000</td>\n",
       "      <td>12.000000</td>\n",
       "      <td>13.000000</td>\n",
       "    </tr>\n",
       "    <tr>\n",
       "      <th>Immunity_level</th>\n",
       "      <td>7000.0</td>\n",
       "      <td>2.517000</td>\n",
       "      <td>1.116834</td>\n",
       "      <td>1.000000</td>\n",
       "      <td>2.000000</td>\n",
       "      <td>3.000000</td>\n",
       "      <td>4.000000</td>\n",
       "      <td>4.000000</td>\n",
       "    </tr>\n",
       "    <tr>\n",
       "      <th>Affected_portion</th>\n",
       "      <td>7000.0</td>\n",
       "      <td>40.878998</td>\n",
       "      <td>11.183186</td>\n",
       "      <td>1.242888</td>\n",
       "      <td>33.232875</td>\n",
       "      <td>40.948939</td>\n",
       "      <td>48.629448</td>\n",
       "      <td>84.045723</td>\n",
       "    </tr>\n",
       "    <tr>\n",
       "      <th>Breath_ratio</th>\n",
       "      <td>6593.0</td>\n",
       "      <td>40.465292</td>\n",
       "      <td>11.633303</td>\n",
       "      <td>3.010000</td>\n",
       "      <td>32.410000</td>\n",
       "      <td>39.890000</td>\n",
       "      <td>48.750000</td>\n",
       "      <td>86.030000</td>\n",
       "    </tr>\n",
       "  </tbody>\n",
       "</table>\n",
       "</div>"
      ],
      "text/plain": [
       "                   count         mean          std         min          25%  \\\n",
       "Patient I.D.      7000.0  3500.500000  2020.870275    1.000000  1750.750000   \n",
       "Age               6401.0    60.390564    18.420775   29.000000    45.000000   \n",
       "cp                7000.0     1.654286     1.061300    0.000000     1.000000   \n",
       "trtbps            7000.0    14.096497     5.131444    1.241648     9.422638   \n",
       "chol              6376.0   248.497664    10.323672  212.122186   240.673116   \n",
       "fbs               7000.0     1.676714     1.159972    0.000000     1.000000   \n",
       "restecg           7000.0     0.914429     0.709753    0.000000     0.000000   \n",
       "keratin_type      7000.0     1.555143     0.667956    1.000000     1.000000   \n",
       "Hemoglobin_level  7000.0     9.518857     2.285818    6.000000     8.000000   \n",
       "Immunity_level    7000.0     2.517000     1.116834    1.000000     2.000000   \n",
       "Affected_portion  7000.0    40.878998    11.183186    1.242888    33.232875   \n",
       "Breath_ratio      6593.0    40.465292    11.633303    3.010000    32.410000   \n",
       "\n",
       "                          50%          75%          max  \n",
       "Patient I.D.      3500.500000  5250.250000  7000.000000  \n",
       "Age                 64.000000    77.000000    91.000000  \n",
       "cp                   2.000000     3.000000     3.000000  \n",
       "trtbps              14.669709    18.366243    27.644734  \n",
       "chol               249.221050   255.371556   283.852277  \n",
       "fbs                  2.000000     3.000000     3.000000  \n",
       "restecg              1.000000     1.000000     2.000000  \n",
       "keratin_type         1.000000     2.000000     3.000000  \n",
       "Hemoglobin_level    10.000000    12.000000    13.000000  \n",
       "Immunity_level       3.000000     4.000000     4.000000  \n",
       "Affected_portion    40.948939    48.629448    84.045723  \n",
       "Breath_ratio        39.890000    48.750000    86.030000  "
      ]
     },
     "execution_count": 85,
     "metadata": {},
     "output_type": "execute_result"
    }
   ],
   "source": [
    "# b\n",
    "data.describe().T"
   ]
  },
  {
   "cell_type": "code",
   "execution_count": 86,
   "metadata": {
    "scrolled": true
   },
   "outputs": [
    {
     "data": {
      "text/plain": [
       "Index(['Patient I.D.', 'Age', 'cp', 'trtbps', 'chol', 'fbs', 'restecg',\n",
       "       'keratin_type', 'Hemoglobin_level', 'Immunity_level',\n",
       "       'Affected_portion', 'Breath_ratio'],\n",
       "      dtype='object')"
      ]
     },
     "execution_count": 86,
     "metadata": {},
     "output_type": "execute_result"
    }
   ],
   "source": [
    "data.select_dtypes(include='number').columns"
   ]
  },
  {
   "cell_type": "code",
   "execution_count": 87,
   "metadata": {},
   "outputs": [
    {
     "data": {
      "text/plain": [
       "Index(['Sex', 'thalachh', 'Addiction', 'Diabetes_type', 'blood_group',\n",
       "       'Survive'],\n",
       "      dtype='object')"
      ]
     },
     "execution_count": 87,
     "metadata": {},
     "output_type": "execute_result"
    }
   ],
   "source": [
    "data.select_dtypes(object).columns"
   ]
  },
  {
   "cell_type": "code",
   "execution_count": 88,
   "metadata": {},
   "outputs": [],
   "source": [
    "num_col = ['Age', 'trtbps', 'chol', 'Hemoglobin_level','Affected_portion', 'Breath_ratio', 'thalachh']\n",
    "cat_col = ['cp','fbs', 'restecg','keratin_type','Immunity_level','Sex', 'Addiction', 'Diabetes_type', 'blood_group',\n",
    "       'Survive']"
   ]
  },
  {
   "cell_type": "code",
   "execution_count": 89,
   "metadata": {},
   "outputs": [
    {
     "data": {
      "text/plain": [
       "['Age',\n",
       " 'trtbps',\n",
       " 'chol',\n",
       " 'Hemoglobin_level',\n",
       " 'Affected_portion',\n",
       " 'Breath_ratio',\n",
       " 'thalachh']"
      ]
     },
     "execution_count": 89,
     "metadata": {},
     "output_type": "execute_result"
    }
   ],
   "source": [
    "num_col"
   ]
  },
  {
   "cell_type": "code",
   "execution_count": 90,
   "metadata": {},
   "outputs": [
    {
     "data": {
      "text/plain": [
       "['cp',\n",
       " 'fbs',\n",
       " 'restecg',\n",
       " 'keratin_type',\n",
       " 'Immunity_level',\n",
       " 'Sex',\n",
       " 'Addiction',\n",
       " 'Diabetes_type',\n",
       " 'blood_group',\n",
       " 'Survive']"
      ]
     },
     "execution_count": 90,
     "metadata": {},
     "output_type": "execute_result"
    }
   ],
   "source": [
    "cat_col"
   ]
  },
  {
   "cell_type": "code",
   "execution_count": 91,
   "metadata": {},
   "outputs": [
    {
     "data": {
      "image/png": "[encoded data removed]",
      "text/plain": [
       "<Figure size 1224x864 with 10 Axes>"
      ]
     },
     "metadata": {
      "needs_background": "light"
     },
     "output_type": "display_data"
    }
   ],
   "source": [
    "# c\n",
    "t=1\n",
    "plt.figure(figsize=(17,12))\n",
    "for i in cat_col:\n",
    "    plt.subplot(6,2,t)\n",
    "    data[i].value_counts(normalize=True).plot(kind='bar')\n",
    "    plt.title(i)\n",
    "    t+=1\n",
    "\n",
    "plt.tight_layout()\n",
    "plt.show()"
   ]
  },
  {
   "cell_type": "markdown",
   "metadata": {},
   "source": [
    "from the above plot we can see that \n",
    "* Chest pain group 1 has higher percentage of happening and then chest pain group 3. Then comes 2 and 0.\n",
    "* fasting blood sugar group 3 has higher percentage of happening and then fbs 1. Then later comes 0 and 2\n",
    "* restecg type 1 has higher percentage and then fbs 0. Then later comes 2\n",
    "* keratin_type 1 has higher percentage and then fbs 2. Then later comes type 3\n",
    "* immunity level, group 3 has higher percentage and then fbs 4. Then later comes 2 and 3"
   ]
  },
  {
   "cell_type": "code",
   "execution_count": 12,
   "metadata": {},
   "outputs": [
    {
     "data": {
      "text/plain": [
       "Patient I.D.          0\n",
       "Age                 599\n",
       "Sex                   0\n",
       "cp                    0\n",
       "trtbps                0\n",
       "chol                624\n",
       "fbs                   0\n",
       "restecg               0\n",
       "thalachh              0\n",
       "Addiction             0\n",
       "keratin_type          0\n",
       "Diabetes_type         0\n",
       "Hemoglobin_level      0\n",
       "blood_group           0\n",
       "Immunity_level        0\n",
       "Affected_portion      0\n",
       "Breath_ratio        407\n",
       "Survive               0\n",
       "dtype: int64"
      ]
     },
     "execution_count": 12,
     "metadata": {},
     "output_type": "execute_result"
    }
   ],
   "source": [
    "# d\n",
    "data.isnull().sum()"
   ]
  },
  {
   "cell_type": "markdown",
   "metadata": {},
   "source": [
    "from above information we can see that there is highest null values in chol, then age and then breadth_ratio "
   ]
  },
  {
   "cell_type": "code",
   "execution_count": 13,
   "metadata": {
    "scrolled": true
   },
   "outputs": [
    {
     "data": {
      "image/png": "[encoded data removed]",
      "text/plain": [
       "<Figure size 864x576 with 6 Axes>"
      ]
     },
     "metadata": {
      "needs_background": "light"
     },
     "output_type": "display_data"
    }
   ],
   "source": [
    "# For Outlier check\n",
    "t=1\n",
    "plt.figure(figsize=(12,8))\n",
    "for i in num_col:\n",
    "    plt.subplot(3,2,t)\n",
    "    sns.boxplot(data[i], orient='h')\n",
    "    plt.title(i)\n",
    "    t+=1\n",
    "    \n",
    "plt.tight_layout()\n",
    "plt.show()"
   ]
  },
  {
   "cell_type": "markdown",
   "metadata": {},
   "source": [
    "there is not much outlier in the data. In chol there is 1 extreme outlier which is near 210, In Affted_portion there is on extreme outlier above 80 and in breath_ratio outlier is around 0-5."
   ]
  },
  {
   "cell_type": "code",
   "execution_count": 16,
   "metadata": {
    "scrolled": true
   },
   "outputs": [
    {
     "data": {
      "text/plain": [
       "Survived       0.845\n",
       "Passed away    0.155\n",
       "Name: Survive, dtype: float64"
      ]
     },
     "execution_count": 16,
     "metadata": {},
     "output_type": "execute_result"
    }
   ],
   "source": [
    "data['Survive'].value_counts(normalize=True)"
   ]
  },
  {
   "cell_type": "markdown",
   "metadata": {},
   "source": [
    "There is unbalanced data little unbalanced data of 85 and 15 percent"
   ]
  },
  {
   "cell_type": "markdown",
   "metadata": {
    "id": "KVo5f1MA8k4u"
   },
   "source": [
    "#### 2.\tData Preparation (10 marks)\n",
    "\n",
    "a.\tFix the defects found above and do appropriate treatment if any. (4 marks)\n",
    "\n",
    "b.\tVisualize the data using relevant plots. Find out the variables which are highly correlated with Target? (3 marks)\n",
    "\n",
    "c.\tDo you want to exclude some variables from the model based on this analysis? What other actions will you take? (2 marks)\n",
    "\n",
    " d.\tSplit dataset into train and test (70:30). Are both train and test representative of the overall data? How would you ascertain this statistically? (1 marks)"
   ]
  },
  {
   "cell_type": "code",
   "execution_count": 55,
   "metadata": {
    "scrolled": true
   },
   "outputs": [
    {
     "data": {
      "text/html": [
       "<div>\n",
       "<style scoped>\n",
       "    .dataframe tbody tr th:only-of-type {\n",
       "        vertical-align: middle;\n",
       "    }\n",
       "\n",
       "    .dataframe tbody tr th {\n",
       "        vertical-align: top;\n",
       "    }\n",
       "\n",
       "    .dataframe thead th {\n",
       "        text-align: right;\n",
       "    }\n",
       "</style>\n",
       "<table border=\"1\" class=\"dataframe\">\n",
       "  <thead>\n",
       "    <tr style=\"text-align: right;\">\n",
       "      <th></th>\n",
       "      <th>Patient I.D.</th>\n",
       "      <th>Age</th>\n",
       "      <th>Sex</th>\n",
       "      <th>cp</th>\n",
       "      <th>trtbps</th>\n",
       "      <th>chol</th>\n",
       "      <th>fbs</th>\n",
       "      <th>restecg</th>\n",
       "      <th>thalachh</th>\n",
       "      <th>Addiction</th>\n",
       "      <th>keratin_type</th>\n",
       "      <th>Diabetes_type</th>\n",
       "      <th>Hemoglobin_level</th>\n",
       "      <th>blood_group</th>\n",
       "      <th>Immunity_level</th>\n",
       "      <th>Affected_portion</th>\n",
       "      <th>Breath_ratio</th>\n",
       "      <th>Survive</th>\n",
       "    </tr>\n",
       "  </thead>\n",
       "  <tbody>\n",
       "    <tr>\n",
       "      <th>1820</th>\n",
       "      <td>1821</td>\n",
       "      <td>NaN</td>\n",
       "      <td>Male</td>\n",
       "      <td>0</td>\n",
       "      <td>11.577928</td>\n",
       "      <td>252.578051</td>\n",
       "      <td>2</td>\n",
       "      <td>1</td>\n",
       "      <td>100.6780445</td>\n",
       "      <td>Drug-type C</td>\n",
       "      <td>1</td>\n",
       "      <td>type 1</td>\n",
       "      <td>7</td>\n",
       "      <td>A+</td>\n",
       "      <td>2</td>\n",
       "      <td>64.575908</td>\n",
       "      <td>34.14</td>\n",
       "      <td>Passed away</td>\n",
       "    </tr>\n",
       "    <tr>\n",
       "      <th>1823</th>\n",
       "      <td>1824</td>\n",
       "      <td>NaN</td>\n",
       "      <td>Male</td>\n",
       "      <td>1</td>\n",
       "      <td>7.389982</td>\n",
       "      <td>254.769239</td>\n",
       "      <td>0</td>\n",
       "      <td>1</td>\n",
       "      <td>108.9136285</td>\n",
       "      <td>Nicotine - type B</td>\n",
       "      <td>2</td>\n",
       "      <td>type 2</td>\n",
       "      <td>9</td>\n",
       "      <td>O-</td>\n",
       "      <td>2</td>\n",
       "      <td>40.761615</td>\n",
       "      <td>38.16</td>\n",
       "      <td>Survived</td>\n",
       "    </tr>\n",
       "    <tr>\n",
       "      <th>1829</th>\n",
       "      <td>1830</td>\n",
       "      <td>NaN</td>\n",
       "      <td>Male</td>\n",
       "      <td>2</td>\n",
       "      <td>21.352360</td>\n",
       "      <td>268.924815</td>\n",
       "      <td>1</td>\n",
       "      <td>1</td>\n",
       "      <td>122.0248763</td>\n",
       "      <td>Nicotine - type B</td>\n",
       "      <td>2</td>\n",
       "      <td>type 2</td>\n",
       "      <td>13</td>\n",
       "      <td>B+</td>\n",
       "      <td>4</td>\n",
       "      <td>48.099836</td>\n",
       "      <td>NaN</td>\n",
       "      <td>Passed away</td>\n",
       "    </tr>\n",
       "    <tr>\n",
       "      <th>1848</th>\n",
       "      <td>1849</td>\n",
       "      <td>NaN</td>\n",
       "      <td>Male</td>\n",
       "      <td>0</td>\n",
       "      <td>24.333838</td>\n",
       "      <td>227.342740</td>\n",
       "      <td>1</td>\n",
       "      <td>0</td>\n",
       "      <td>115.6972417</td>\n",
       "      <td>Drug-type C</td>\n",
       "      <td>1</td>\n",
       "      <td>type 2</td>\n",
       "      <td>7</td>\n",
       "      <td>O+</td>\n",
       "      <td>2</td>\n",
       "      <td>34.135571</td>\n",
       "      <td>51.86</td>\n",
       "      <td>Survived</td>\n",
       "    </tr>\n",
       "    <tr>\n",
       "      <th>1857</th>\n",
       "      <td>1858</td>\n",
       "      <td>NaN</td>\n",
       "      <td>Male</td>\n",
       "      <td>3</td>\n",
       "      <td>9.209021</td>\n",
       "      <td>249.912132</td>\n",
       "      <td>1</td>\n",
       "      <td>2</td>\n",
       "      <td>116.039881</td>\n",
       "      <td>Nicotine - type A</td>\n",
       "      <td>1</td>\n",
       "      <td>type 3</td>\n",
       "      <td>11</td>\n",
       "      <td>O+</td>\n",
       "      <td>3</td>\n",
       "      <td>46.687369</td>\n",
       "      <td>49.80</td>\n",
       "      <td>Survived</td>\n",
       "    </tr>\n",
       "    <tr>\n",
       "      <th>...</th>\n",
       "      <td>...</td>\n",
       "      <td>...</td>\n",
       "      <td>...</td>\n",
       "      <td>...</td>\n",
       "      <td>...</td>\n",
       "      <td>...</td>\n",
       "      <td>...</td>\n",
       "      <td>...</td>\n",
       "      <td>...</td>\n",
       "      <td>...</td>\n",
       "      <td>...</td>\n",
       "      <td>...</td>\n",
       "      <td>...</td>\n",
       "      <td>...</td>\n",
       "      <td>...</td>\n",
       "      <td>...</td>\n",
       "      <td>...</td>\n",
       "      <td>...</td>\n",
       "    </tr>\n",
       "    <tr>\n",
       "      <th>5163</th>\n",
       "      <td>5164</td>\n",
       "      <td>NaN</td>\n",
       "      <td>Male</td>\n",
       "      <td>1</td>\n",
       "      <td>16.729447</td>\n",
       "      <td>253.928532</td>\n",
       "      <td>3</td>\n",
       "      <td>1</td>\n",
       "      <td>104.6485536</td>\n",
       "      <td>Drug-type A</td>\n",
       "      <td>1</td>\n",
       "      <td>type 2</td>\n",
       "      <td>10</td>\n",
       "      <td>O+</td>\n",
       "      <td>4</td>\n",
       "      <td>76.217297</td>\n",
       "      <td>52.42</td>\n",
       "      <td>Passed away</td>\n",
       "    </tr>\n",
       "    <tr>\n",
       "      <th>5164</th>\n",
       "      <td>5165</td>\n",
       "      <td>NaN</td>\n",
       "      <td>Female</td>\n",
       "      <td>1</td>\n",
       "      <td>20.305134</td>\n",
       "      <td>253.719571</td>\n",
       "      <td>3</td>\n",
       "      <td>0</td>\n",
       "      <td>?</td>\n",
       "      <td>Alcohol</td>\n",
       "      <td>1</td>\n",
       "      <td>type 2</td>\n",
       "      <td>7</td>\n",
       "      <td>A+</td>\n",
       "      <td>1</td>\n",
       "      <td>51.824544</td>\n",
       "      <td>45.76</td>\n",
       "      <td>Survived</td>\n",
       "    </tr>\n",
       "    <tr>\n",
       "      <th>5167</th>\n",
       "      <td>5168</td>\n",
       "      <td>NaN</td>\n",
       "      <td>Male</td>\n",
       "      <td>2</td>\n",
       "      <td>7.467350</td>\n",
       "      <td>272.243519</td>\n",
       "      <td>3</td>\n",
       "      <td>1</td>\n",
       "      <td>105.8658489</td>\n",
       "      <td>Alcohol</td>\n",
       "      <td>1</td>\n",
       "      <td>type 1</td>\n",
       "      <td>6</td>\n",
       "      <td>O+</td>\n",
       "      <td>2</td>\n",
       "      <td>52.061611</td>\n",
       "      <td>14.89</td>\n",
       "      <td>Passed away</td>\n",
       "    </tr>\n",
       "    <tr>\n",
       "      <th>5168</th>\n",
       "      <td>5169</td>\n",
       "      <td>NaN</td>\n",
       "      <td>Male</td>\n",
       "      <td>1</td>\n",
       "      <td>8.416659</td>\n",
       "      <td>240.253711</td>\n",
       "      <td>3</td>\n",
       "      <td>1</td>\n",
       "      <td>108.0900342</td>\n",
       "      <td>Drug-type C</td>\n",
       "      <td>1</td>\n",
       "      <td>type 1</td>\n",
       "      <td>12</td>\n",
       "      <td>O+</td>\n",
       "      <td>2</td>\n",
       "      <td>50.904230</td>\n",
       "      <td>25.31</td>\n",
       "      <td>Survived</td>\n",
       "    </tr>\n",
       "    <tr>\n",
       "      <th>5175</th>\n",
       "      <td>5176</td>\n",
       "      <td>NaN</td>\n",
       "      <td>Male</td>\n",
       "      <td>1</td>\n",
       "      <td>15.660770</td>\n",
       "      <td>255.947825</td>\n",
       "      <td>3</td>\n",
       "      <td>1</td>\n",
       "      <td>116.8222819</td>\n",
       "      <td>others</td>\n",
       "      <td>2</td>\n",
       "      <td>type 2</td>\n",
       "      <td>8</td>\n",
       "      <td>B+</td>\n",
       "      <td>2</td>\n",
       "      <td>32.165401</td>\n",
       "      <td>45.17</td>\n",
       "      <td>Survived</td>\n",
       "    </tr>\n",
       "  </tbody>\n",
       "</table>\n",
       "<p>599 rows × 18 columns</p>\n",
       "</div>"
      ],
      "text/plain": [
       "      Patient I.D.  Age     Sex  cp     trtbps        chol  fbs  restecg  \\\n",
       "1820          1821  NaN    Male   0  11.577928  252.578051    2        1   \n",
       "1823          1824  NaN    Male   1   7.389982  254.769239    0        1   \n",
       "1829          1830  NaN    Male   2  21.352360  268.924815    1        1   \n",
       "1848          1849  NaN    Male   0  24.333838  227.342740    1        0   \n",
       "1857          1858  NaN    Male   3   9.209021  249.912132    1        2   \n",
       "...            ...  ...     ...  ..        ...         ...  ...      ...   \n",
       "5163          5164  NaN    Male   1  16.729447  253.928532    3        1   \n",
       "5164          5165  NaN  Female   1  20.305134  253.719571    3        0   \n",
       "5167          5168  NaN    Male   2   7.467350  272.243519    3        1   \n",
       "5168          5169  NaN    Male   1   8.416659  240.253711    3        1   \n",
       "5175          5176  NaN    Male   1  15.660770  255.947825    3        1   \n",
       "\n",
       "         thalachh          Addiction  keratin_type Diabetes_type  \\\n",
       "1820  100.6780445        Drug-type C             1        type 1   \n",
       "1823  108.9136285  Nicotine - type B             2        type 2   \n",
       "1829  122.0248763  Nicotine - type B             2        type 2   \n",
       "1848  115.6972417        Drug-type C             1        type 2   \n",
       "1857   116.039881  Nicotine - type A             1        type 3   \n",
       "...           ...                ...           ...           ...   \n",
       "5163  104.6485536        Drug-type A             1        type 2   \n",
       "5164            ?            Alcohol             1        type 2   \n",
       "5167  105.8658489            Alcohol             1        type 1   \n",
       "5168  108.0900342        Drug-type C             1        type 1   \n",
       "5175  116.8222819             others             2        type 2   \n",
       "\n",
       "      Hemoglobin_level blood_group  Immunity_level  Affected_portion  \\\n",
       "1820                 7          A+               2         64.575908   \n",
       "1823                 9          O-               2         40.761615   \n",
       "1829                13          B+               4         48.099836   \n",
       "1848                 7          O+               2         34.135571   \n",
       "1857                11          O+               3         46.687369   \n",
       "...                ...         ...             ...               ...   \n",
       "5163                10          O+               4         76.217297   \n",
       "5164                 7          A+               1         51.824544   \n",
       "5167                 6          O+               2         52.061611   \n",
       "5168                12          O+               2         50.904230   \n",
       "5175                 8          B+               2         32.165401   \n",
       "\n",
       "      Breath_ratio      Survive  \n",
       "1820         34.14  Passed away  \n",
       "1823         38.16     Survived  \n",
       "1829           NaN  Passed away  \n",
       "1848         51.86     Survived  \n",
       "1857         49.80     Survived  \n",
       "...            ...          ...  \n",
       "5163         52.42  Passed away  \n",
       "5164         45.76     Survived  \n",
       "5167         14.89  Passed away  \n",
       "5168         25.31     Survived  \n",
       "5175         45.17     Survived  \n",
       "\n",
       "[599 rows x 18 columns]"
      ]
     },
     "execution_count": 55,
     "metadata": {},
     "output_type": "execute_result"
    }
   ],
   "source": [
    "# a\n",
    "# missing value treatment\n",
    "\n",
    "data.loc[data.Age.isnull()]"
   ]
  },
  {
   "cell_type": "code",
   "execution_count": null,
   "metadata": {},
   "outputs": [],
   "source": [
    "data.groupby(by='Age').mean().to_dict()"
   ]
  },
  {
   "cell_type": "code",
   "execution_count": null,
   "metadata": {},
   "outputs": [],
   "source": []
  },
  {
   "cell_type": "code",
   "execution_count": 56,
   "metadata": {
    "scrolled": true
   },
   "outputs": [
    {
     "data": {
      "image/png": "[encoded data removed]",
      "text/plain": [
       "<Figure size 864x720 with 2 Axes>"
      ]
     },
     "metadata": {
      "needs_background": "light"
     },
     "output_type": "display_data"
    }
   ],
   "source": [
    "# b\n",
    "plt.figure(figsize=(12,10))\n",
    "sns.heatmap(data.corr(), annot = True, vmax = 1, vmin=-1)\n",
    "plt.show()"
   ]
  },
  {
   "cell_type": "raw",
   "metadata": {},
   "source": [
    "# c\n",
    "Patient I.D is unique for each patient so we will remove that from the data "
   ]
  },
  {
   "cell_type": "code",
   "execution_count": 57,
   "metadata": {},
   "outputs": [],
   "source": [
    "del data['Patient I.D.']"
   ]
  },
  {
   "cell_type": "code",
   "execution_count": null,
   "metadata": {},
   "outputs": [],
   "source": [
    "# Changing the Female to 1 and Male to 0\n",
    "data = data[data['Sex']=='Female']['Sex']=1"
   ]
  },
  {
   "cell_type": "code",
   "execution_count": null,
   "metadata": {},
   "outputs": [],
   "source": [
    "data = data[data['Sex']=='Male']['Sex']=0"
   ]
  },
  {
   "cell_type": "code",
   "execution_count": 58,
   "metadata": {},
   "outputs": [],
   "source": [
    "# d\n",
    "from sklearn.model_selection import train_test_split"
   ]
  },
  {
   "cell_type": "code",
   "execution_count": 60,
   "metadata": {},
   "outputs": [],
   "source": [
    "x = data.drop('Survive', axis=1)\n",
    "y = data['Survive']"
   ]
  },
  {
   "cell_type": "code",
   "execution_count": 62,
   "metadata": {},
   "outputs": [],
   "source": [
    "xtrain, xtest, ytrain, ytest = train_test_split(x,y,\n",
    "                                               train_size = 0.70,\n",
    "                                               random_state = 0,\n",
    "                                               stratify = y)"
   ]
  },
  {
   "cell_type": "code",
   "execution_count": 63,
   "metadata": {},
   "outputs": [
    {
     "name": "stdout",
     "output_type": "stream",
     "text": [
      "(4900, 16) (2100, 16) (4900,)\n"
     ]
    }
   ],
   "source": [
    "print(xtrain.shape, xtest.shape, ytrain.shape)"
   ]
  },
  {
   "cell_type": "code",
   "execution_count": 64,
   "metadata": {},
   "outputs": [],
   "source": [
    "# Applying statistically\n",
    "from scipy.stats import stats"
   ]
  },
  {
   "cell_type": "code",
   "execution_count": 66,
   "metadata": {},
   "outputs": [],
   "source": [
    "sc = stats.chisquare(y.value_counts(normalize=True),ytrain.value_counts(normalize=True))"
   ]
  },
  {
   "cell_type": "code",
   "execution_count": 67,
   "metadata": {},
   "outputs": [
    {
     "data": {
      "text/plain": [
       "Power_divergenceResult(statistic=7.954135816552433e-08, pvalue=0.9997749720017719)"
      ]
     },
     "execution_count": 67,
     "metadata": {},
     "output_type": "execute_result"
    }
   ],
   "source": [
    "sc"
   ]
  },
  {
   "cell_type": "code",
   "execution_count": 69,
   "metadata": {},
   "outputs": [],
   "source": [
    "sc = stats.chisquare(y.value_counts(normalize=True),ytest.value_counts(normalize=True))"
   ]
  },
  {
   "cell_type": "code",
   "execution_count": 70,
   "metadata": {},
   "outputs": [
    {
     "data": {
      "text/plain": [
       "Power_divergenceResult(statistic=4.3228363339580516e-07, pvalue=0.9994754046620148)"
      ]
     },
     "execution_count": 70,
     "metadata": {},
     "output_type": "execute_result"
    }
   ],
   "source": [
    "sc"
   ]
  },
  {
   "cell_type": "markdown",
   "metadata": {},
   "source": [
    "pvalue is around 0.99 so  "
   ]
  },
  {
   "cell_type": "markdown",
   "metadata": {
    "id": "grc_AesJ8k5B"
   },
   "source": [
    "#### 3.\tModel Building (16 marks)\n",
    "\n",
    "a.\tFit a base model and explain the reason of selecting that model. Please write your key observations. (4 marks)\n",
    "\n",
    "b.\tWhat is the overall Accuracy? Please comment on whether it is good or not.  (2 mark)\n",
    "\n",
    "c.\tEvaluate the model built using Precision, Recall and F1 Score and what will be the optimization objective keeping in mind the problem statement. (4 marks) \n",
    "\n",
    "d.\tHow do you improve the accuracy of the model? Write clearly the changes that you will make before re-fitting the model. Fit the final model.  (4 marks)\n",
    "\n",
    "e.\tWrite down a business interpretation/explanation of the model – which variables are affecting the target the most and explain the relationship. Feel free to use charts or graphs to explain. (2 marks)\n"
   ]
  },
  {
   "cell_type": "code",
   "execution_count": 71,
   "metadata": {},
   "outputs": [],
   "source": [
    "from sklearn.metrics import accuracy_score, recall_score, precision_score, f1_score, \\\n",
    "cohen_kappa_score, classification_report, confusion_matrix"
   ]
  },
  {
   "cell_type": "code",
   "execution_count": 72,
   "metadata": {},
   "outputs": [],
   "source": [
    "perf_score = pd.DataFrame(columns = ['Model','Accuracy','Recall','Precision','F1_score','Reliability'])"
   ]
  },
  {
   "cell_type": "code",
   "execution_count": 73,
   "metadata": {},
   "outputs": [],
   "source": [
    "def measures(model, x_train, y_train, x_test, y_test):\n",
    "    new = model.fit(x_train,y_train)\n",
    "    x = new.predict_proba(xtest)[:,1]\n",
    "    pred = [0 if i<0.5 else 1 for i in x]\n",
    "    Accuracy = accuracy_score(y_test, pred)\n",
    "    Recall = recall_score(y_test, pred)\n",
    "    Precision = precision_score(y_test, pred)\n",
    "    F1_score = f1_score(y_test, pred)\n",
    "    Reliability = cohen_kappa_score(y_test, pred)\n",
    "    return(Accuracy, Recall, Precision, F1_score, Reliability)"
   ]
  },
  {
   "cell_type": "code",
   "execution_count": 74,
   "metadata": {},
   "outputs": [],
   "source": [
    "def report(model, x_train, y_train, x_test, y_test):\n",
    "    new = model.fit(x_train,y_train)\n",
    "    x = new.predict_proba(xtest)[:,1]\n",
    "    pred = [0 if i<0.5 else 1 for i in x]\n",
    "    Classification_report = classification_report(y_test, pred)\n",
    "    Confusion_matrix = confusion_report(y_test, pred)\n",
    "    print(Classification_report)\n",
    "    print(Confusion_matrix)"
   ]
  },
  {
   "cell_type": "code",
   "execution_count": 75,
   "metadata": {},
   "outputs": [],
   "source": [
    "def updated_perf(name, model, x_test, x_train, y_train,  y_test):\n",
    "    global perf_score\n",
    "    perf_score = perf_score.append({'Model': name,\n",
    "                                  'Accuracy': measures(model, x_train, y_train, x_test, y_test)[0],\n",
    "                                   'Recall': measures(model, x_train, y_train, x_test, y_test)[1],\n",
    "                                   'Precision': measures(model, x_train, y_train, x_test, y_test)[2],\n",
    "                                   'F1_score': measures(model, x_train, y_train, x_test, y_test)[3],\n",
    "                                   'Reliability':measures(model, x_train, y_train, x_test, y_test)[4]})"
   ]
  },
  {
   "cell_type": "code",
   "execution_count": 76,
   "metadata": {},
   "outputs": [],
   "source": [
    "# a \n",
    "from sklearn.linear_model import LogisticRegression"
   ]
  },
  {
   "cell_type": "code",
   "execution_count": 77,
   "metadata": {},
   "outputs": [],
   "source": [
    "lr = LogisticRegression()"
   ]
  },
  {
   "cell_type": "code",
   "execution_count": null,
   "metadata": {},
   "outputs": [],
   "source": [
    "measures(model = lr, \n",
    "        x_train = xtrain,\n",
    "        y_train = ytrain,\n",
    "        x_test = xtest,\n",
    "        y_test = ytest)"
   ]
  },
  {
   "cell_type": "code",
   "execution_count": null,
   "metadata": {},
   "outputs": [],
   "source": [
    "report(model = lr, \n",
    "        x_train = xtrain,\n",
    "        y_train = ytrain,\n",
    "        x_test = xtest,\n",
    "        y_test = ytest)"
   ]
  },
  {
   "cell_type": "code",
   "execution_count": null,
   "metadata": {},
   "outputs": [],
   "source": [
    "update_perf(name = 'Logistic Regression', model = lr, \n",
    "            x_train = xtrain, y_train = ytrain, x_test = xtest, y_test = ytest)"
   ]
  },
  {
   "cell_type": "raw",
   "metadata": {},
   "source": [
    "# b\n",
    "Accuracy of the model is low. Its shows that the model is accurate or not. \n",
    "So if the model is good, Accuracy will be high and if the model is not good, accuracy will be low."
   ]
  },
  {
   "cell_type": "raw",
   "metadata": {},
   "source": [
    "# d\n",
    "to improve the accuracy we will either 'apply SMOTE' or 'Change the Model'"
   ]
  },
  {
   "cell_type": "code",
   "execution_count": 79,
   "metadata": {},
   "outputs": [],
   "source": [
    "# Apply SMOTE\n",
    "from imblearn.over_sampling import SMOTE"
   ]
  },
  {
   "cell_type": "code",
   "execution_count": null,
   "metadata": {},
   "outputs": [],
   "source": [
    "xtrain_sm, y_train = SMOTE(sampling_strategy = 0.30)"
   ]
  },
  {
   "cell_type": "code",
   "execution_count": null,
   "metadata": {},
   "outputs": [],
   "source": [
    "xtrain_sm"
   ]
  },
  {
   "cell_type": "code",
   "execution_count": null,
   "metadata": {},
   "outputs": [],
   "source": [
    "ytrain_sm"
   ]
  },
  {
   "cell_type": "code",
   "execution_count": null,
   "metadata": {},
   "outputs": [],
   "source": [
    "lr = LogisticRegression()"
   ]
  },
  {
   "cell_type": "code",
   "execution_count": null,
   "metadata": {},
   "outputs": [],
   "source": [
    "measures(model = lr, \n",
    "        x_train = xtrain,\n",
    "        y_train = ytrain,\n",
    "        x_test = xtest,\n",
    "        y_test = ytest)"
   ]
  },
  {
   "cell_type": "code",
   "execution_count": null,
   "metadata": {},
   "outputs": [],
   "source": [
    "report(model = lr, \n",
    "        x_train = xtrain,\n",
    "        y_train = ytrain,\n",
    "        x_test = xtest,\n",
    "        y_test = ytest)"
   ]
  },
  {
   "cell_type": "code",
   "execution_count": null,
   "metadata": {},
   "outputs": [],
   "source": [
    "update_perf(name = 'Logistic Regression - Smote', model = lr, \n",
    "            x_train = xtrain, y_train = ytrain, x_test = xtest, y_test = ytest)"
   ]
  },
  {
   "cell_type": "code",
   "execution_count": null,
   "metadata": {},
   "outputs": [],
   "source": [
    "# Change the Model\n",
    "# KNN\n",
    "from sklearn.neighbors import KNeighborsClassifier"
   ]
  },
  {
   "cell_type": "code",
   "execution_count": null,
   "metadata": {},
   "outputs": [],
   "source": [
    "knn = KNeighborsClassifier()"
   ]
  },
  {
   "cell_type": "code",
   "execution_count": null,
   "metadata": {},
   "outputs": [],
   "source": [
    "measures(model = lr, \n",
    "        x_train = xtrain,\n",
    "        y_train = ytrain,\n",
    "        x_test = xtest,\n",
    "        y_test = ytest)"
   ]
  },
  {
   "cell_type": "code",
   "execution_count": null,
   "metadata": {},
   "outputs": [],
   "source": [
    "report(model = lr, \n",
    "        x_train = xtrain,\n",
    "        y_train = ytrain,\n",
    "        x_test = xtest,\n",
    "        y_test = ytest)"
   ]
  },
  {
   "cell_type": "code",
   "execution_count": null,
   "metadata": {},
   "outputs": [],
   "source": [
    "update_perf(name = 'KNN', model = lr, \n",
    "            x_train = xtrain, y_train = ytrain, x_test = xtest, y_test = ytest)"
   ]
  },
  {
   "cell_type": "code",
   "execution_count": null,
   "metadata": {},
   "outputs": [],
   "source": [
    "# Applying KNN with SMOTE"
   ]
  },
  {
   "cell_type": "markdown",
   "metadata": {},
   "source": [
    "knn = KNeighborsClassifier()"
   ]
  },
  {
   "cell_type": "code",
   "execution_count": null,
   "metadata": {},
   "outputs": [],
   "source": [
    "measures(model = lr, \n",
    "        x_train = xtrain_sm,\n",
    "        y_train = ytrain_sm,\n",
    "        x_test = xtest,\n",
    "        y_test = ytest)"
   ]
  },
  {
   "cell_type": "code",
   "execution_count": null,
   "metadata": {},
   "outputs": [],
   "source": [
    "report(model = lr, \n",
    "        x_train = xtrain_sm,\n",
    "        y_train = ytrain_sm,\n",
    "        x_test = xtest,\n",
    "        y_test = ytest)"
   ]
  },
  {
   "cell_type": "code",
   "execution_count": null,
   "metadata": {},
   "outputs": [],
   "source": [
    "update_perf(name = 'KNN - Smote', model = lr, \n",
    "            x_train = xtrain, y_train = ytrain, x_test = xtest, y_test = ytest)"
   ]
  },
  {
   "cell_type": "markdown",
   "metadata": {},
   "source": [
    "KNN is better with smote. since f1 score is better."
   ]
  }
 ],
 "metadata": {
  "kernelspec": {
   "display_name": "Python 3 (ipykernel)",
   "language": "python",
   "name": "python3"
  },
  "language_info": {
   "codemirror_mode": {
    "name": "ipython",
    "version": 3
   },
   "file_extension": ".py",
   "mimetype": "text/x-python",
   "name": "python",
   "nbconvert_exporter": "python",
   "pygments_lexer": "ipython3",
   "version": "3.9.12"
  }
 },
 "nbformat": 4,
 "nbformat_minor": 4
}
