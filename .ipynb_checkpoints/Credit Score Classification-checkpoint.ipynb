{
 "cells": [
  {
   "cell_type": "markdown",
   "id": "29f08a38",
   "metadata": {},
   "source": [
    "# Credit Score Classification"
   ]
  },
  {
   "cell_type": "markdown",
   "id": "016b39ab",
   "metadata": {},
   "source": [
    "# Problem Statement:"
   ]
  },
  {
   "cell_type": "markdown",
   "id": "633797ae",
   "metadata": {},
   "source": [
    "To develop a predictive model for classifying individuals into credit score categories based on their financial data and other relevant factors. Accurate credit scoring is crucial for the financial institutions to assess the reliability of applicants and manage risk effectively as it leads to less default."
   ]
  },
  {
   "cell_type": "code",
   "execution_count": 1,
   "id": "3c78048b",
   "metadata": {},
   "outputs": [],
   "source": [
    "# Importing Related Libraries\n",
    "import pandas as pd\n",
    "import numpy as np\n",
    "import seaborn as sns\n",
    "import matplotlib.pyplot as plt\n",
    "\n",
    "import warnings\n",
    "warnings.filterwarnings('ignore')\n",
    "\n",
    "# Libraries for KNN IMPUTER \n",
    "from sklearn.impute import KNNImputer\n",
    "from sklearn.preprocessing import StandardScaler"
   ]
  },
  {
   "cell_type": "code",
   "execution_count": 2,
   "id": "680263f6",
   "metadata": {},
   "outputs": [],
   "source": [
    "# Reading the file\n",
    "df = pd.read_csv('train.csv')"
   ]
  },
  {
   "cell_type": "code",
   "execution_count": 3,
   "id": "fc262375",
   "metadata": {},
   "outputs": [
    {
     "name": "stdout",
     "output_type": "stream",
     "text": [
      "Rows: 100000\n",
      "Columns: 28\n"
     ]
    }
   ],
   "source": [
    "print('Rows:',df.shape[0])\n",
    "print('Columns:',df.shape[1])"
   ]
  },
  {
   "cell_type": "code",
   "execution_count": 4,
   "id": "3475e807",
   "metadata": {},
   "outputs": [
    {
     "data": {
      "text/html": [
       "<div>\n",
       "<style scoped>\n",
       "    .dataframe tbody tr th:only-of-type {\n",
       "        vertical-align: middle;\n",
       "    }\n",
       "\n",
       "    .dataframe tbody tr th {\n",
       "        vertical-align: top;\n",
       "    }\n",
       "\n",
       "    .dataframe thead th {\n",
       "        text-align: right;\n",
       "    }\n",
       "</style>\n",
       "<table border=\"1\" class=\"dataframe\">\n",
       "  <thead>\n",
       "    <tr style=\"text-align: right;\">\n",
       "      <th></th>\n",
       "      <th>ID</th>\n",
       "      <th>Customer_ID</th>\n",
       "      <th>Month</th>\n",
       "      <th>Name</th>\n",
       "      <th>Age</th>\n",
       "      <th>SSN</th>\n",
       "      <th>Occupation</th>\n",
       "      <th>Annual_Income</th>\n",
       "      <th>Monthly_Inhand_Salary</th>\n",
       "      <th>Num_Bank_Accounts</th>\n",
       "      <th>...</th>\n",
       "      <th>Credit_Mix</th>\n",
       "      <th>Outstanding_Debt</th>\n",
       "      <th>Credit_Utilization_Ratio</th>\n",
       "      <th>Credit_History_Age</th>\n",
       "      <th>Payment_of_Min_Amount</th>\n",
       "      <th>Total_EMI_per_month</th>\n",
       "      <th>Amount_invested_monthly</th>\n",
       "      <th>Payment_Behaviour</th>\n",
       "      <th>Monthly_Balance</th>\n",
       "      <th>Credit_Score</th>\n",
       "    </tr>\n",
       "  </thead>\n",
       "  <tbody>\n",
       "    <tr>\n",
       "      <th>0</th>\n",
       "      <td>0x1602</td>\n",
       "      <td>CUS_0xd40</td>\n",
       "      <td>January</td>\n",
       "      <td>Aaron Maashoh</td>\n",
       "      <td>23</td>\n",
       "      <td>821-00-0265</td>\n",
       "      <td>Scientist</td>\n",
       "      <td>19114.12</td>\n",
       "      <td>1824.843333</td>\n",
       "      <td>3</td>\n",
       "      <td>...</td>\n",
       "      <td>_</td>\n",
       "      <td>809.98</td>\n",
       "      <td>26.822620</td>\n",
       "      <td>22 Years and 1 Months</td>\n",
       "      <td>No</td>\n",
       "      <td>49.574949</td>\n",
       "      <td>80.41529543900253</td>\n",
       "      <td>High_spent_Small_value_payments</td>\n",
       "      <td>312.49408867943663</td>\n",
       "      <td>Good</td>\n",
       "    </tr>\n",
       "    <tr>\n",
       "      <th>1</th>\n",
       "      <td>0x1603</td>\n",
       "      <td>CUS_0xd40</td>\n",
       "      <td>February</td>\n",
       "      <td>Aaron Maashoh</td>\n",
       "      <td>23</td>\n",
       "      <td>821-00-0265</td>\n",
       "      <td>Scientist</td>\n",
       "      <td>19114.12</td>\n",
       "      <td>NaN</td>\n",
       "      <td>3</td>\n",
       "      <td>...</td>\n",
       "      <td>Good</td>\n",
       "      <td>809.98</td>\n",
       "      <td>31.944960</td>\n",
       "      <td>NaN</td>\n",
       "      <td>No</td>\n",
       "      <td>49.574949</td>\n",
       "      <td>118.28022162236736</td>\n",
       "      <td>Low_spent_Large_value_payments</td>\n",
       "      <td>284.62916249607184</td>\n",
       "      <td>Good</td>\n",
       "    </tr>\n",
       "    <tr>\n",
       "      <th>2</th>\n",
       "      <td>0x1604</td>\n",
       "      <td>CUS_0xd40</td>\n",
       "      <td>March</td>\n",
       "      <td>Aaron Maashoh</td>\n",
       "      <td>-500</td>\n",
       "      <td>821-00-0265</td>\n",
       "      <td>Scientist</td>\n",
       "      <td>19114.12</td>\n",
       "      <td>NaN</td>\n",
       "      <td>3</td>\n",
       "      <td>...</td>\n",
       "      <td>Good</td>\n",
       "      <td>809.98</td>\n",
       "      <td>28.609352</td>\n",
       "      <td>22 Years and 3 Months</td>\n",
       "      <td>No</td>\n",
       "      <td>49.574949</td>\n",
       "      <td>81.699521264648</td>\n",
       "      <td>Low_spent_Medium_value_payments</td>\n",
       "      <td>331.2098628537912</td>\n",
       "      <td>Good</td>\n",
       "    </tr>\n",
       "    <tr>\n",
       "      <th>3</th>\n",
       "      <td>0x1605</td>\n",
       "      <td>CUS_0xd40</td>\n",
       "      <td>April</td>\n",
       "      <td>Aaron Maashoh</td>\n",
       "      <td>23</td>\n",
       "      <td>821-00-0265</td>\n",
       "      <td>Scientist</td>\n",
       "      <td>19114.12</td>\n",
       "      <td>NaN</td>\n",
       "      <td>3</td>\n",
       "      <td>...</td>\n",
       "      <td>Good</td>\n",
       "      <td>809.98</td>\n",
       "      <td>31.377862</td>\n",
       "      <td>22 Years and 4 Months</td>\n",
       "      <td>No</td>\n",
       "      <td>49.574949</td>\n",
       "      <td>199.4580743910713</td>\n",
       "      <td>Low_spent_Small_value_payments</td>\n",
       "      <td>223.45130972736786</td>\n",
       "      <td>Good</td>\n",
       "    </tr>\n",
       "    <tr>\n",
       "      <th>4</th>\n",
       "      <td>0x1606</td>\n",
       "      <td>CUS_0xd40</td>\n",
       "      <td>May</td>\n",
       "      <td>Aaron Maashoh</td>\n",
       "      <td>23</td>\n",
       "      <td>821-00-0265</td>\n",
       "      <td>Scientist</td>\n",
       "      <td>19114.12</td>\n",
       "      <td>1824.843333</td>\n",
       "      <td>3</td>\n",
       "      <td>...</td>\n",
       "      <td>Good</td>\n",
       "      <td>809.98</td>\n",
       "      <td>24.797347</td>\n",
       "      <td>22 Years and 5 Months</td>\n",
       "      <td>No</td>\n",
       "      <td>49.574949</td>\n",
       "      <td>41.420153086217326</td>\n",
       "      <td>High_spent_Medium_value_payments</td>\n",
       "      <td>341.48923103222177</td>\n",
       "      <td>Good</td>\n",
       "    </tr>\n",
       "  </tbody>\n",
       "</table>\n",
       "<p>5 rows × 28 columns</p>\n",
       "</div>"
      ],
      "text/plain": [
       "       ID Customer_ID     Month           Name   Age          SSN Occupation  \\\n",
       "0  0x1602   CUS_0xd40   January  Aaron Maashoh    23  821-00-0265  Scientist   \n",
       "1  0x1603   CUS_0xd40  February  Aaron Maashoh    23  821-00-0265  Scientist   \n",
       "2  0x1604   CUS_0xd40     March  Aaron Maashoh  -500  821-00-0265  Scientist   \n",
       "3  0x1605   CUS_0xd40     April  Aaron Maashoh    23  821-00-0265  Scientist   \n",
       "4  0x1606   CUS_0xd40       May  Aaron Maashoh    23  821-00-0265  Scientist   \n",
       "\n",
       "  Annual_Income  Monthly_Inhand_Salary  Num_Bank_Accounts  ...  Credit_Mix  \\\n",
       "0      19114.12            1824.843333                  3  ...           _   \n",
       "1      19114.12                    NaN                  3  ...        Good   \n",
       "2      19114.12                    NaN                  3  ...        Good   \n",
       "3      19114.12                    NaN                  3  ...        Good   \n",
       "4      19114.12            1824.843333                  3  ...        Good   \n",
       "\n",
       "   Outstanding_Debt Credit_Utilization_Ratio     Credit_History_Age  \\\n",
       "0            809.98                26.822620  22 Years and 1 Months   \n",
       "1            809.98                31.944960                    NaN   \n",
       "2            809.98                28.609352  22 Years and 3 Months   \n",
       "3            809.98                31.377862  22 Years and 4 Months   \n",
       "4            809.98                24.797347  22 Years and 5 Months   \n",
       "\n",
       "   Payment_of_Min_Amount Total_EMI_per_month Amount_invested_monthly  \\\n",
       "0                     No           49.574949       80.41529543900253   \n",
       "1                     No           49.574949      118.28022162236736   \n",
       "2                     No           49.574949         81.699521264648   \n",
       "3                     No           49.574949       199.4580743910713   \n",
       "4                     No           49.574949      41.420153086217326   \n",
       "\n",
       "                  Payment_Behaviour     Monthly_Balance Credit_Score  \n",
       "0   High_spent_Small_value_payments  312.49408867943663         Good  \n",
       "1    Low_spent_Large_value_payments  284.62916249607184         Good  \n",
       "2   Low_spent_Medium_value_payments   331.2098628537912         Good  \n",
       "3    Low_spent_Small_value_payments  223.45130972736786         Good  \n",
       "4  High_spent_Medium_value_payments  341.48923103222177         Good  \n",
       "\n",
       "[5 rows x 28 columns]"
      ]
     },
     "execution_count": 4,
     "metadata": {},
     "output_type": "execute_result"
    }
   ],
   "source": [
    "# Displaying First 5 Rows of the data\n",
    "df.head()"
   ]
  },
  {
   "cell_type": "code",
   "execution_count": 5,
   "id": "213e67b3",
   "metadata": {},
   "outputs": [
    {
     "data": {
      "text/plain": [
       "ID                              0\n",
       "Customer_ID                     0\n",
       "Month                           0\n",
       "Name                         9985\n",
       "Age                             0\n",
       "SSN                             0\n",
       "Occupation                      0\n",
       "Annual_Income                   0\n",
       "Monthly_Inhand_Salary       15002\n",
       "Num_Bank_Accounts               0\n",
       "Num_Credit_Card                 0\n",
       "Interest_Rate                   0\n",
       "Num_of_Loan                     0\n",
       "Type_of_Loan                11408\n",
       "Delay_from_due_date             0\n",
       "Num_of_Delayed_Payment       7002\n",
       "Changed_Credit_Limit            0\n",
       "Num_Credit_Inquiries         1965\n",
       "Credit_Mix                      0\n",
       "Outstanding_Debt                0\n",
       "Credit_Utilization_Ratio        0\n",
       "Credit_History_Age           9030\n",
       "Payment_of_Min_Amount           0\n",
       "Total_EMI_per_month             0\n",
       "Amount_invested_monthly      4479\n",
       "Payment_Behaviour               0\n",
       "Monthly_Balance              1200\n",
       "Credit_Score                    0\n",
       "dtype: int64"
      ]
     },
     "execution_count": 5,
     "metadata": {},
     "output_type": "execute_result"
    }
   ],
   "source": [
    "# Checking for the null columns\n",
    "df.isnull().sum()"
   ]
  },
  {
   "cell_type": "code",
   "execution_count": 6,
   "id": "2a529b12",
   "metadata": {
    "scrolled": true
   },
   "outputs": [
    {
     "data": {
      "text/html": [
       "<div>\n",
       "<style scoped>\n",
       "    .dataframe tbody tr th:only-of-type {\n",
       "        vertical-align: middle;\n",
       "    }\n",
       "\n",
       "    .dataframe tbody tr th {\n",
       "        vertical-align: top;\n",
       "    }\n",
       "\n",
       "    .dataframe thead th {\n",
       "        text-align: right;\n",
       "    }\n",
       "</style>\n",
       "<table border=\"1\" class=\"dataframe\">\n",
       "  <thead>\n",
       "    <tr style=\"text-align: right;\">\n",
       "      <th></th>\n",
       "      <th>count</th>\n",
       "      <th>mean</th>\n",
       "      <th>std</th>\n",
       "      <th>min</th>\n",
       "      <th>25%</th>\n",
       "      <th>50%</th>\n",
       "      <th>75%</th>\n",
       "      <th>max</th>\n",
       "    </tr>\n",
       "  </thead>\n",
       "  <tbody>\n",
       "    <tr>\n",
       "      <th>Monthly_Inhand_Salary</th>\n",
       "      <td>84998.0</td>\n",
       "      <td>4194.170850</td>\n",
       "      <td>3183.686167</td>\n",
       "      <td>303.645417</td>\n",
       "      <td>1625.568229</td>\n",
       "      <td>3093.745000</td>\n",
       "      <td>5957.448333</td>\n",
       "      <td>15204.633333</td>\n",
       "    </tr>\n",
       "    <tr>\n",
       "      <th>Num_Bank_Accounts</th>\n",
       "      <td>100000.0</td>\n",
       "      <td>17.091280</td>\n",
       "      <td>117.404834</td>\n",
       "      <td>-1.000000</td>\n",
       "      <td>3.000000</td>\n",
       "      <td>6.000000</td>\n",
       "      <td>7.000000</td>\n",
       "      <td>1798.000000</td>\n",
       "    </tr>\n",
       "    <tr>\n",
       "      <th>Num_Credit_Card</th>\n",
       "      <td>100000.0</td>\n",
       "      <td>22.474430</td>\n",
       "      <td>129.057410</td>\n",
       "      <td>0.000000</td>\n",
       "      <td>4.000000</td>\n",
       "      <td>5.000000</td>\n",
       "      <td>7.000000</td>\n",
       "      <td>1499.000000</td>\n",
       "    </tr>\n",
       "    <tr>\n",
       "      <th>Interest_Rate</th>\n",
       "      <td>100000.0</td>\n",
       "      <td>72.466040</td>\n",
       "      <td>466.422621</td>\n",
       "      <td>1.000000</td>\n",
       "      <td>8.000000</td>\n",
       "      <td>13.000000</td>\n",
       "      <td>20.000000</td>\n",
       "      <td>5797.000000</td>\n",
       "    </tr>\n",
       "    <tr>\n",
       "      <th>Delay_from_due_date</th>\n",
       "      <td>100000.0</td>\n",
       "      <td>21.068780</td>\n",
       "      <td>14.860104</td>\n",
       "      <td>-5.000000</td>\n",
       "      <td>10.000000</td>\n",
       "      <td>18.000000</td>\n",
       "      <td>28.000000</td>\n",
       "      <td>67.000000</td>\n",
       "    </tr>\n",
       "    <tr>\n",
       "      <th>Num_Credit_Inquiries</th>\n",
       "      <td>98035.0</td>\n",
       "      <td>27.754251</td>\n",
       "      <td>193.177339</td>\n",
       "      <td>0.000000</td>\n",
       "      <td>3.000000</td>\n",
       "      <td>6.000000</td>\n",
       "      <td>9.000000</td>\n",
       "      <td>2597.000000</td>\n",
       "    </tr>\n",
       "    <tr>\n",
       "      <th>Credit_Utilization_Ratio</th>\n",
       "      <td>100000.0</td>\n",
       "      <td>32.285173</td>\n",
       "      <td>5.116875</td>\n",
       "      <td>20.000000</td>\n",
       "      <td>28.052567</td>\n",
       "      <td>32.305784</td>\n",
       "      <td>36.496663</td>\n",
       "      <td>50.000000</td>\n",
       "    </tr>\n",
       "    <tr>\n",
       "      <th>Total_EMI_per_month</th>\n",
       "      <td>100000.0</td>\n",
       "      <td>1403.118217</td>\n",
       "      <td>8306.041270</td>\n",
       "      <td>0.000000</td>\n",
       "      <td>30.306660</td>\n",
       "      <td>69.249473</td>\n",
       "      <td>161.224249</td>\n",
       "      <td>82331.000000</td>\n",
       "    </tr>\n",
       "  </tbody>\n",
       "</table>\n",
       "</div>"
      ],
      "text/plain": [
       "                             count         mean          std         min  \\\n",
       "Monthly_Inhand_Salary      84998.0  4194.170850  3183.686167  303.645417   \n",
       "Num_Bank_Accounts         100000.0    17.091280   117.404834   -1.000000   \n",
       "Num_Credit_Card           100000.0    22.474430   129.057410    0.000000   \n",
       "Interest_Rate             100000.0    72.466040   466.422621    1.000000   \n",
       "Delay_from_due_date       100000.0    21.068780    14.860104   -5.000000   \n",
       "Num_Credit_Inquiries       98035.0    27.754251   193.177339    0.000000   \n",
       "Credit_Utilization_Ratio  100000.0    32.285173     5.116875   20.000000   \n",
       "Total_EMI_per_month       100000.0  1403.118217  8306.041270    0.000000   \n",
       "\n",
       "                                  25%          50%          75%           max  \n",
       "Monthly_Inhand_Salary     1625.568229  3093.745000  5957.448333  15204.633333  \n",
       "Num_Bank_Accounts            3.000000     6.000000     7.000000   1798.000000  \n",
       "Num_Credit_Card              4.000000     5.000000     7.000000   1499.000000  \n",
       "Interest_Rate                8.000000    13.000000    20.000000   5797.000000  \n",
       "Delay_from_due_date         10.000000    18.000000    28.000000     67.000000  \n",
       "Num_Credit_Inquiries         3.000000     6.000000     9.000000   2597.000000  \n",
       "Credit_Utilization_Ratio    28.052567    32.305784    36.496663     50.000000  \n",
       "Total_EMI_per_month         30.306660    69.249473   161.224249  82331.000000  "
      ]
     },
     "execution_count": 6,
     "metadata": {},
     "output_type": "execute_result"
    }
   ],
   "source": [
    "# Five point summary of the Numerical columns\n",
    "df.describe().T"
   ]
  },
  {
   "cell_type": "code",
   "execution_count": 7,
   "id": "8e3f5ba6",
   "metadata": {
    "scrolled": true
   },
   "outputs": [
    {
     "data": {
      "text/html": [
       "<div>\n",
       "<style scoped>\n",
       "    .dataframe tbody tr th:only-of-type {\n",
       "        vertical-align: middle;\n",
       "    }\n",
       "\n",
       "    .dataframe tbody tr th {\n",
       "        vertical-align: top;\n",
       "    }\n",
       "\n",
       "    .dataframe thead th {\n",
       "        text-align: right;\n",
       "    }\n",
       "</style>\n",
       "<table border=\"1\" class=\"dataframe\">\n",
       "  <thead>\n",
       "    <tr style=\"text-align: right;\">\n",
       "      <th></th>\n",
       "      <th>count</th>\n",
       "      <th>unique</th>\n",
       "      <th>top</th>\n",
       "      <th>freq</th>\n",
       "    </tr>\n",
       "  </thead>\n",
       "  <tbody>\n",
       "    <tr>\n",
       "      <th>ID</th>\n",
       "      <td>100000</td>\n",
       "      <td>100000</td>\n",
       "      <td>0x1602</td>\n",
       "      <td>1</td>\n",
       "    </tr>\n",
       "    <tr>\n",
       "      <th>Customer_ID</th>\n",
       "      <td>100000</td>\n",
       "      <td>12500</td>\n",
       "      <td>CUS_0xd40</td>\n",
       "      <td>8</td>\n",
       "    </tr>\n",
       "    <tr>\n",
       "      <th>Month</th>\n",
       "      <td>100000</td>\n",
       "      <td>8</td>\n",
       "      <td>January</td>\n",
       "      <td>12500</td>\n",
       "    </tr>\n",
       "    <tr>\n",
       "      <th>Name</th>\n",
       "      <td>90015</td>\n",
       "      <td>10139</td>\n",
       "      <td>Langep</td>\n",
       "      <td>44</td>\n",
       "    </tr>\n",
       "    <tr>\n",
       "      <th>Age</th>\n",
       "      <td>100000</td>\n",
       "      <td>1788</td>\n",
       "      <td>38</td>\n",
       "      <td>2833</td>\n",
       "    </tr>\n",
       "    <tr>\n",
       "      <th>SSN</th>\n",
       "      <td>100000</td>\n",
       "      <td>12501</td>\n",
       "      <td>#F%$D@*&amp;8</td>\n",
       "      <td>5572</td>\n",
       "    </tr>\n",
       "    <tr>\n",
       "      <th>Occupation</th>\n",
       "      <td>100000</td>\n",
       "      <td>16</td>\n",
       "      <td>_______</td>\n",
       "      <td>7062</td>\n",
       "    </tr>\n",
       "    <tr>\n",
       "      <th>Annual_Income</th>\n",
       "      <td>100000</td>\n",
       "      <td>18940</td>\n",
       "      <td>36585.12</td>\n",
       "      <td>16</td>\n",
       "    </tr>\n",
       "    <tr>\n",
       "      <th>Num_of_Loan</th>\n",
       "      <td>100000</td>\n",
       "      <td>434</td>\n",
       "      <td>3</td>\n",
       "      <td>14386</td>\n",
       "    </tr>\n",
       "    <tr>\n",
       "      <th>Type_of_Loan</th>\n",
       "      <td>88592</td>\n",
       "      <td>6260</td>\n",
       "      <td>Not Specified</td>\n",
       "      <td>1408</td>\n",
       "    </tr>\n",
       "    <tr>\n",
       "      <th>Num_of_Delayed_Payment</th>\n",
       "      <td>92998</td>\n",
       "      <td>749</td>\n",
       "      <td>19</td>\n",
       "      <td>5327</td>\n",
       "    </tr>\n",
       "    <tr>\n",
       "      <th>Changed_Credit_Limit</th>\n",
       "      <td>100000</td>\n",
       "      <td>4384</td>\n",
       "      <td>_</td>\n",
       "      <td>2091</td>\n",
       "    </tr>\n",
       "    <tr>\n",
       "      <th>Credit_Mix</th>\n",
       "      <td>100000</td>\n",
       "      <td>4</td>\n",
       "      <td>Standard</td>\n",
       "      <td>36479</td>\n",
       "    </tr>\n",
       "    <tr>\n",
       "      <th>Outstanding_Debt</th>\n",
       "      <td>100000</td>\n",
       "      <td>13178</td>\n",
       "      <td>1360.45</td>\n",
       "      <td>24</td>\n",
       "    </tr>\n",
       "    <tr>\n",
       "      <th>Credit_History_Age</th>\n",
       "      <td>90970</td>\n",
       "      <td>404</td>\n",
       "      <td>15 Years and 11 Months</td>\n",
       "      <td>446</td>\n",
       "    </tr>\n",
       "    <tr>\n",
       "      <th>Payment_of_Min_Amount</th>\n",
       "      <td>100000</td>\n",
       "      <td>3</td>\n",
       "      <td>Yes</td>\n",
       "      <td>52326</td>\n",
       "    </tr>\n",
       "    <tr>\n",
       "      <th>Amount_invested_monthly</th>\n",
       "      <td>95521</td>\n",
       "      <td>91049</td>\n",
       "      <td>__10000__</td>\n",
       "      <td>4305</td>\n",
       "    </tr>\n",
       "    <tr>\n",
       "      <th>Payment_Behaviour</th>\n",
       "      <td>100000</td>\n",
       "      <td>7</td>\n",
       "      <td>Low_spent_Small_value_payments</td>\n",
       "      <td>25513</td>\n",
       "    </tr>\n",
       "    <tr>\n",
       "      <th>Monthly_Balance</th>\n",
       "      <td>98800</td>\n",
       "      <td>98792</td>\n",
       "      <td>__-333333333333333333333333333__</td>\n",
       "      <td>9</td>\n",
       "    </tr>\n",
       "    <tr>\n",
       "      <th>Credit_Score</th>\n",
       "      <td>100000</td>\n",
       "      <td>3</td>\n",
       "      <td>Standard</td>\n",
       "      <td>53174</td>\n",
       "    </tr>\n",
       "  </tbody>\n",
       "</table>\n",
       "</div>"
      ],
      "text/plain": [
       "                          count  unique                               top  \\\n",
       "ID                       100000  100000                            0x1602   \n",
       "Customer_ID              100000   12500                         CUS_0xd40   \n",
       "Month                    100000       8                           January   \n",
       "Name                      90015   10139                            Langep   \n",
       "Age                      100000    1788                                38   \n",
       "SSN                      100000   12501                         #F%$D@*&8   \n",
       "Occupation               100000      16                           _______   \n",
       "Annual_Income            100000   18940                          36585.12   \n",
       "Num_of_Loan              100000     434                                 3   \n",
       "Type_of_Loan              88592    6260                     Not Specified   \n",
       "Num_of_Delayed_Payment    92998     749                                19   \n",
       "Changed_Credit_Limit     100000    4384                                 _   \n",
       "Credit_Mix               100000       4                          Standard   \n",
       "Outstanding_Debt         100000   13178                           1360.45   \n",
       "Credit_History_Age        90970     404            15 Years and 11 Months   \n",
       "Payment_of_Min_Amount    100000       3                               Yes   \n",
       "Amount_invested_monthly   95521   91049                         __10000__   \n",
       "Payment_Behaviour        100000       7    Low_spent_Small_value_payments   \n",
       "Monthly_Balance           98800   98792  __-333333333333333333333333333__   \n",
       "Credit_Score             100000       3                          Standard   \n",
       "\n",
       "                          freq  \n",
       "ID                           1  \n",
       "Customer_ID                  8  \n",
       "Month                    12500  \n",
       "Name                        44  \n",
       "Age                       2833  \n",
       "SSN                       5572  \n",
       "Occupation                7062  \n",
       "Annual_Income               16  \n",
       "Num_of_Loan              14386  \n",
       "Type_of_Loan              1408  \n",
       "Num_of_Delayed_Payment    5327  \n",
       "Changed_Credit_Limit      2091  \n",
       "Credit_Mix               36479  \n",
       "Outstanding_Debt            24  \n",
       "Credit_History_Age         446  \n",
       "Payment_of_Min_Amount    52326  \n",
       "Amount_invested_monthly   4305  \n",
       "Payment_Behaviour        25513  \n",
       "Monthly_Balance              9  \n",
       "Credit_Score             53174  "
      ]
     },
     "execution_count": 7,
     "metadata": {},
     "output_type": "execute_result"
    }
   ],
   "source": [
    "# Summary of Categorical Columns\n",
    "df.describe(include = object).T"
   ]
  },
  {
   "cell_type": "markdown",
   "id": "f725f149",
   "metadata": {},
   "source": [
    "# Data cleaning"
   ]
  },
  {
   "cell_type": "code",
   "execution_count": 8,
   "id": "41dcce17",
   "metadata": {},
   "outputs": [
    {
     "data": {
      "text/plain": [
       "12500"
      ]
     },
     "execution_count": 8,
     "metadata": {},
     "output_type": "execute_result"
    }
   ],
   "source": [
    "# Checking for the unique value count in Customer_ID\n",
    "df.Customer_ID.nunique()"
   ]
  },
  {
   "cell_type": "code",
   "execution_count": 9,
   "id": "53019217",
   "metadata": {},
   "outputs": [
    {
     "data": {
      "text/plain": [
       "4"
      ]
     },
     "execution_count": 9,
     "metadata": {},
     "output_type": "execute_result"
    }
   ],
   "source": [
    "# Splitting the sub category and getting the count of Type_of_Loan \n",
    "\n",
    "len(df.Type_of_Loan[0].split(','))"
   ]
  },
  {
   "cell_type": "code",
   "execution_count": 10,
   "id": "987e54bc",
   "metadata": {},
   "outputs": [],
   "source": [
    "# Treating the noise in the Num_of_Loan\n",
    "\n",
    "df.Num_of_Loan =df.Num_of_Loan.str.replace('_','')\n",
    "df.Num_of_Loan = df.Num_of_Loan.replace('-','')"
   ]
  },
  {
   "cell_type": "code",
   "execution_count": 11,
   "id": "6f8bb14a",
   "metadata": {},
   "outputs": [
    {
     "data": {
      "text/plain": [
       "0"
      ]
     },
     "execution_count": 11,
     "metadata": {},
     "output_type": "execute_result"
    }
   ],
   "source": [
    "df.Num_of_Loan.isnull().sum()"
   ]
  },
  {
   "cell_type": "code",
   "execution_count": 12,
   "id": "7565e97a",
   "metadata": {},
   "outputs": [
    {
     "data": {
      "text/plain": [
       "dtype('O')"
      ]
     },
     "execution_count": 12,
     "metadata": {},
     "output_type": "execute_result"
    }
   ],
   "source": [
    "df.Num_of_Loan.dtype"
   ]
  },
  {
   "cell_type": "code",
   "execution_count": 13,
   "id": "ddd26072",
   "metadata": {},
   "outputs": [
    {
     "data": {
      "text/plain": [
       "array(['4', '1', '3', '967', '-100', '0', '2', '7', '5', '6', '8', '9',\n",
       "       '1464', '622', '352', '472', '1017', '945', '146', '563', '341',\n",
       "       '444', '720', '1485', '49', '737', '1106', '466', '728', '313',\n",
       "       '843', '597', '617', '119', '663', '640', '92', '1019', '501',\n",
       "       '1302', '39', '716', '848', '931', '1214', '186', '424', '1001',\n",
       "       '1110', '1152', '457', '1433', '1187', '52', '1480', '1047',\n",
       "       '1035', '1347', '33', '193', '699', '329', '1451', '484', '132',\n",
       "       '649', '995', '545', '684', '1135', '1094', '1204', '654', '58',\n",
       "       '348', '614', '1363', '323', '1406', '1348', '430', '153', '1461',\n",
       "       '905', '1312', '1424', '1154', '95', '1353', '1228', '819', '1006',\n",
       "       '795', '359', '1209', '590', '696', '1185', '1465', '911', '1181',\n",
       "       '70', '816', '1369', '143', '1416', '455', '55', '1096', '1474',\n",
       "       '420', '1131', '904', '89', '1259', '527', '1241', '449', '983',\n",
       "       '418', '319', '23', '238', '638', '138', '235', '280', '1070',\n",
       "       '1484', '274', '494', '1459', '404', '1354', '1495', '1391', '601',\n",
       "       '1313', '1319', '898', '231', '752', '174', '961', '1046', '834',\n",
       "       '284', '438', '288', '1463', '1151', '719', '198', '1015', '855',\n",
       "       '841', '392', '1444', '103', '1320', '745', '172', '252', '630',\n",
       "       '241', '31', '405', '1217', '1030', '1257', '137', '157', '164',\n",
       "       '1088', '1236', '777', '1048', '613', '330', '1439', '321', '661',\n",
       "       '952', '939', '562', '1202', '302', '943', '394', '955', '1318',\n",
       "       '936', '781', '100', '1329', '1365', '860', '217', '191', '32',\n",
       "       '282', '351', '1387', '757', '416', '833', '292', '1225', '1227',\n",
       "       '639', '859', '243', '267', '510', '332', '996', '311', '492',\n",
       "       '820', '336', '123', '540', '131', '1311', '1441', '895', '891',\n",
       "       '50', '940', '935', '596', '29', '1182', '1129', '1014', '251',\n",
       "       '365', '291', '1447', '742', '1085', '148', '462', '832', '881',\n",
       "       '1412', '785', '1127', '910', '538', '999', '733', '101', '237',\n",
       "       '87', '659', '633', '387', '447', '629', '831', '1384', '773',\n",
       "       '621', '1419', '289', '285', '1393', '27', '1359', '1482', '1189',\n",
       "       '1294', '201', '579', '814', '141', '581', '1171', '295', '290',\n",
       "       '433', '679', '1040', '1054', '1430', '1023', '1077', '1457',\n",
       "       '1150', '701', '1382', '889', '437', '372', '1222', '126', '1159',\n",
       "       '868', '19', '1297', '227', '190', '809', '1216', '1074', '571',\n",
       "       '520', '1274', '1340', '991', '316', '697', '926', '873', '1002',\n",
       "       '378', '65', '875', '867', '548', '652', '1372', '606', '1036',\n",
       "       '1300', '17', '1178', '802', '1219', '1271', '1137', '1496', '439',\n",
       "       '196', '636', '192', '228', '1053', '229', '753', '1296', '1371',\n",
       "       '254', '863', '464', '515', '838', '1160', '1289', '1298', '799',\n",
       "       '182', '574', '242', '415', '869', '958', '54', '1265', '656',\n",
       "       '275', '778', '208', '147', '350', '507', '463', '497', '927',\n",
       "       '653', '662', '529', '635', '1027', '897', '1039', '1345', '924',\n",
       "       '1279', '546', '1112', '1210', '526', '300', '1103', '504', '136',\n",
       "       '1400', '78', '686', '1091', '344', '215', '84', '628', '1470',\n",
       "       '968', '1478', '83', '1196', '1307', '1132', '1008', '917', '657',\n",
       "       '56', '18', '41', '801', '978', '216', '349', '966'], dtype=object)"
      ]
     },
     "execution_count": 13,
     "metadata": {},
     "output_type": "execute_result"
    }
   ],
   "source": [
    "# Exploring Num_of_Loan column for more possible noise\n",
    "\n",
    "df.Num_of_Loan.unique()\n",
    "\n",
    "# Num of loan has many absurd values so we will not use it and remove it"
   ]
  },
  {
   "cell_type": "code",
   "execution_count": 14,
   "id": "618c14b4",
   "metadata": {},
   "outputs": [
    {
     "data": {
      "text/html": [
       "<div>\n",
       "<style scoped>\n",
       "    .dataframe tbody tr th:only-of-type {\n",
       "        vertical-align: middle;\n",
       "    }\n",
       "\n",
       "    .dataframe tbody tr th {\n",
       "        vertical-align: top;\n",
       "    }\n",
       "\n",
       "    .dataframe thead th {\n",
       "        text-align: right;\n",
       "    }\n",
       "</style>\n",
       "<table border=\"1\" class=\"dataframe\">\n",
       "  <thead>\n",
       "    <tr style=\"text-align: right;\">\n",
       "      <th></th>\n",
       "      <th>ID</th>\n",
       "      <th>Customer_ID</th>\n",
       "      <th>Month</th>\n",
       "      <th>Name</th>\n",
       "      <th>Age</th>\n",
       "      <th>SSN</th>\n",
       "      <th>Occupation</th>\n",
       "      <th>Annual_Income</th>\n",
       "      <th>Monthly_Inhand_Salary</th>\n",
       "      <th>Num_Bank_Accounts</th>\n",
       "      <th>...</th>\n",
       "      <th>Credit_Mix</th>\n",
       "      <th>Outstanding_Debt</th>\n",
       "      <th>Credit_Utilization_Ratio</th>\n",
       "      <th>Credit_History_Age</th>\n",
       "      <th>Payment_of_Min_Amount</th>\n",
       "      <th>Total_EMI_per_month</th>\n",
       "      <th>Amount_invested_monthly</th>\n",
       "      <th>Payment_Behaviour</th>\n",
       "      <th>Monthly_Balance</th>\n",
       "      <th>Credit_Score</th>\n",
       "    </tr>\n",
       "  </thead>\n",
       "  <tbody>\n",
       "    <tr>\n",
       "      <th>0</th>\n",
       "      <td>0x1602</td>\n",
       "      <td>CUS_0xd40</td>\n",
       "      <td>January</td>\n",
       "      <td>Aaron Maashoh</td>\n",
       "      <td>23</td>\n",
       "      <td>821-00-0265</td>\n",
       "      <td>Scientist</td>\n",
       "      <td>19114.12</td>\n",
       "      <td>1824.843333</td>\n",
       "      <td>3</td>\n",
       "      <td>...</td>\n",
       "      <td>_</td>\n",
       "      <td>809.98</td>\n",
       "      <td>26.822620</td>\n",
       "      <td>22 Years and 1 Months</td>\n",
       "      <td>No</td>\n",
       "      <td>49.574949</td>\n",
       "      <td>80.41529543900253</td>\n",
       "      <td>High_spent_Small_value_payments</td>\n",
       "      <td>312.49408867943663</td>\n",
       "      <td>Good</td>\n",
       "    </tr>\n",
       "    <tr>\n",
       "      <th>1</th>\n",
       "      <td>0x1603</td>\n",
       "      <td>CUS_0xd40</td>\n",
       "      <td>February</td>\n",
       "      <td>Aaron Maashoh</td>\n",
       "      <td>23</td>\n",
       "      <td>821-00-0265</td>\n",
       "      <td>Scientist</td>\n",
       "      <td>19114.12</td>\n",
       "      <td>NaN</td>\n",
       "      <td>3</td>\n",
       "      <td>...</td>\n",
       "      <td>Good</td>\n",
       "      <td>809.98</td>\n",
       "      <td>31.944960</td>\n",
       "      <td>NaN</td>\n",
       "      <td>No</td>\n",
       "      <td>49.574949</td>\n",
       "      <td>118.28022162236736</td>\n",
       "      <td>Low_spent_Large_value_payments</td>\n",
       "      <td>284.62916249607184</td>\n",
       "      <td>Good</td>\n",
       "    </tr>\n",
       "    <tr>\n",
       "      <th>2</th>\n",
       "      <td>0x1604</td>\n",
       "      <td>CUS_0xd40</td>\n",
       "      <td>March</td>\n",
       "      <td>Aaron Maashoh</td>\n",
       "      <td>-500</td>\n",
       "      <td>821-00-0265</td>\n",
       "      <td>Scientist</td>\n",
       "      <td>19114.12</td>\n",
       "      <td>NaN</td>\n",
       "      <td>3</td>\n",
       "      <td>...</td>\n",
       "      <td>Good</td>\n",
       "      <td>809.98</td>\n",
       "      <td>28.609352</td>\n",
       "      <td>22 Years and 3 Months</td>\n",
       "      <td>No</td>\n",
       "      <td>49.574949</td>\n",
       "      <td>81.699521264648</td>\n",
       "      <td>Low_spent_Medium_value_payments</td>\n",
       "      <td>331.2098628537912</td>\n",
       "      <td>Good</td>\n",
       "    </tr>\n",
       "    <tr>\n",
       "      <th>3</th>\n",
       "      <td>0x1605</td>\n",
       "      <td>CUS_0xd40</td>\n",
       "      <td>April</td>\n",
       "      <td>Aaron Maashoh</td>\n",
       "      <td>23</td>\n",
       "      <td>821-00-0265</td>\n",
       "      <td>Scientist</td>\n",
       "      <td>19114.12</td>\n",
       "      <td>NaN</td>\n",
       "      <td>3</td>\n",
       "      <td>...</td>\n",
       "      <td>Good</td>\n",
       "      <td>809.98</td>\n",
       "      <td>31.377862</td>\n",
       "      <td>22 Years and 4 Months</td>\n",
       "      <td>No</td>\n",
       "      <td>49.574949</td>\n",
       "      <td>199.4580743910713</td>\n",
       "      <td>Low_spent_Small_value_payments</td>\n",
       "      <td>223.45130972736786</td>\n",
       "      <td>Good</td>\n",
       "    </tr>\n",
       "    <tr>\n",
       "      <th>4</th>\n",
       "      <td>0x1606</td>\n",
       "      <td>CUS_0xd40</td>\n",
       "      <td>May</td>\n",
       "      <td>Aaron Maashoh</td>\n",
       "      <td>23</td>\n",
       "      <td>821-00-0265</td>\n",
       "      <td>Scientist</td>\n",
       "      <td>19114.12</td>\n",
       "      <td>1824.843333</td>\n",
       "      <td>3</td>\n",
       "      <td>...</td>\n",
       "      <td>Good</td>\n",
       "      <td>809.98</td>\n",
       "      <td>24.797347</td>\n",
       "      <td>22 Years and 5 Months</td>\n",
       "      <td>No</td>\n",
       "      <td>49.574949</td>\n",
       "      <td>41.420153086217326</td>\n",
       "      <td>High_spent_Medium_value_payments</td>\n",
       "      <td>341.48923103222177</td>\n",
       "      <td>Good</td>\n",
       "    </tr>\n",
       "    <tr>\n",
       "      <th>...</th>\n",
       "      <td>...</td>\n",
       "      <td>...</td>\n",
       "      <td>...</td>\n",
       "      <td>...</td>\n",
       "      <td>...</td>\n",
       "      <td>...</td>\n",
       "      <td>...</td>\n",
       "      <td>...</td>\n",
       "      <td>...</td>\n",
       "      <td>...</td>\n",
       "      <td>...</td>\n",
       "      <td>...</td>\n",
       "      <td>...</td>\n",
       "      <td>...</td>\n",
       "      <td>...</td>\n",
       "      <td>...</td>\n",
       "      <td>...</td>\n",
       "      <td>...</td>\n",
       "      <td>...</td>\n",
       "      <td>...</td>\n",
       "      <td>...</td>\n",
       "    </tr>\n",
       "    <tr>\n",
       "      <th>99995</th>\n",
       "      <td>0x25fe9</td>\n",
       "      <td>CUS_0x942c</td>\n",
       "      <td>April</td>\n",
       "      <td>Nicks</td>\n",
       "      <td>25</td>\n",
       "      <td>078-73-5990</td>\n",
       "      <td>Mechanic</td>\n",
       "      <td>39628.99</td>\n",
       "      <td>3359.415833</td>\n",
       "      <td>4</td>\n",
       "      <td>...</td>\n",
       "      <td>_</td>\n",
       "      <td>502.38</td>\n",
       "      <td>34.663572</td>\n",
       "      <td>31 Years and 6 Months</td>\n",
       "      <td>No</td>\n",
       "      <td>35.104023</td>\n",
       "      <td>60.97133255718485</td>\n",
       "      <td>High_spent_Large_value_payments</td>\n",
       "      <td>479.866228</td>\n",
       "      <td>Poor</td>\n",
       "    </tr>\n",
       "    <tr>\n",
       "      <th>99996</th>\n",
       "      <td>0x25fea</td>\n",
       "      <td>CUS_0x942c</td>\n",
       "      <td>May</td>\n",
       "      <td>Nicks</td>\n",
       "      <td>25</td>\n",
       "      <td>078-73-5990</td>\n",
       "      <td>Mechanic</td>\n",
       "      <td>39628.99</td>\n",
       "      <td>3359.415833</td>\n",
       "      <td>4</td>\n",
       "      <td>...</td>\n",
       "      <td>_</td>\n",
       "      <td>502.38</td>\n",
       "      <td>40.565631</td>\n",
       "      <td>31 Years and 7 Months</td>\n",
       "      <td>No</td>\n",
       "      <td>35.104023</td>\n",
       "      <td>54.18595028760385</td>\n",
       "      <td>High_spent_Medium_value_payments</td>\n",
       "      <td>496.65161</td>\n",
       "      <td>Poor</td>\n",
       "    </tr>\n",
       "    <tr>\n",
       "      <th>99997</th>\n",
       "      <td>0x25feb</td>\n",
       "      <td>CUS_0x942c</td>\n",
       "      <td>June</td>\n",
       "      <td>Nicks</td>\n",
       "      <td>25</td>\n",
       "      <td>078-73-5990</td>\n",
       "      <td>Mechanic</td>\n",
       "      <td>39628.99</td>\n",
       "      <td>3359.415833</td>\n",
       "      <td>4</td>\n",
       "      <td>...</td>\n",
       "      <td>Good</td>\n",
       "      <td>502.38</td>\n",
       "      <td>41.255522</td>\n",
       "      <td>31 Years and 8 Months</td>\n",
       "      <td>No</td>\n",
       "      <td>35.104023</td>\n",
       "      <td>24.02847744864441</td>\n",
       "      <td>High_spent_Large_value_payments</td>\n",
       "      <td>516.809083</td>\n",
       "      <td>Poor</td>\n",
       "    </tr>\n",
       "    <tr>\n",
       "      <th>99998</th>\n",
       "      <td>0x25fec</td>\n",
       "      <td>CUS_0x942c</td>\n",
       "      <td>July</td>\n",
       "      <td>Nicks</td>\n",
       "      <td>25</td>\n",
       "      <td>078-73-5990</td>\n",
       "      <td>Mechanic</td>\n",
       "      <td>39628.99</td>\n",
       "      <td>3359.415833</td>\n",
       "      <td>4</td>\n",
       "      <td>...</td>\n",
       "      <td>Good</td>\n",
       "      <td>502.38</td>\n",
       "      <td>33.638208</td>\n",
       "      <td>31 Years and 9 Months</td>\n",
       "      <td>No</td>\n",
       "      <td>35.104023</td>\n",
       "      <td>251.67258219721603</td>\n",
       "      <td>Low_spent_Large_value_payments</td>\n",
       "      <td>319.164979</td>\n",
       "      <td>Standard</td>\n",
       "    </tr>\n",
       "    <tr>\n",
       "      <th>99999</th>\n",
       "      <td>0x25fed</td>\n",
       "      <td>CUS_0x942c</td>\n",
       "      <td>August</td>\n",
       "      <td>Nicks</td>\n",
       "      <td>25</td>\n",
       "      <td>078-73-5990</td>\n",
       "      <td>Mechanic</td>\n",
       "      <td>39628.99_</td>\n",
       "      <td>3359.415833</td>\n",
       "      <td>4</td>\n",
       "      <td>...</td>\n",
       "      <td>Good</td>\n",
       "      <td>502.38</td>\n",
       "      <td>34.192463</td>\n",
       "      <td>31 Years and 10 Months</td>\n",
       "      <td>No</td>\n",
       "      <td>35.104023</td>\n",
       "      <td>167.1638651610451</td>\n",
       "      <td>!@9#%8</td>\n",
       "      <td>393.673696</td>\n",
       "      <td>Poor</td>\n",
       "    </tr>\n",
       "  </tbody>\n",
       "</table>\n",
       "<p>88592 rows × 28 columns</p>\n",
       "</div>"
      ],
      "text/plain": [
       "            ID Customer_ID     Month           Name   Age          SSN  \\\n",
       "0       0x1602   CUS_0xd40   January  Aaron Maashoh    23  821-00-0265   \n",
       "1       0x1603   CUS_0xd40  February  Aaron Maashoh    23  821-00-0265   \n",
       "2       0x1604   CUS_0xd40     March  Aaron Maashoh  -500  821-00-0265   \n",
       "3       0x1605   CUS_0xd40     April  Aaron Maashoh    23  821-00-0265   \n",
       "4       0x1606   CUS_0xd40       May  Aaron Maashoh    23  821-00-0265   \n",
       "...        ...         ...       ...            ...   ...          ...   \n",
       "99995  0x25fe9  CUS_0x942c     April          Nicks    25  078-73-5990   \n",
       "99996  0x25fea  CUS_0x942c       May          Nicks    25  078-73-5990   \n",
       "99997  0x25feb  CUS_0x942c      June          Nicks    25  078-73-5990   \n",
       "99998  0x25fec  CUS_0x942c      July          Nicks    25  078-73-5990   \n",
       "99999  0x25fed  CUS_0x942c    August          Nicks    25  078-73-5990   \n",
       "\n",
       "      Occupation Annual_Income  Monthly_Inhand_Salary  Num_Bank_Accounts  ...  \\\n",
       "0      Scientist      19114.12            1824.843333                  3  ...   \n",
       "1      Scientist      19114.12                    NaN                  3  ...   \n",
       "2      Scientist      19114.12                    NaN                  3  ...   \n",
       "3      Scientist      19114.12                    NaN                  3  ...   \n",
       "4      Scientist      19114.12            1824.843333                  3  ...   \n",
       "...          ...           ...                    ...                ...  ...   \n",
       "99995   Mechanic      39628.99            3359.415833                  4  ...   \n",
       "99996   Mechanic      39628.99            3359.415833                  4  ...   \n",
       "99997   Mechanic      39628.99            3359.415833                  4  ...   \n",
       "99998   Mechanic      39628.99            3359.415833                  4  ...   \n",
       "99999   Mechanic     39628.99_            3359.415833                  4  ...   \n",
       "\n",
       "       Credit_Mix  Outstanding_Debt Credit_Utilization_Ratio  \\\n",
       "0               _            809.98                26.822620   \n",
       "1            Good            809.98                31.944960   \n",
       "2            Good            809.98                28.609352   \n",
       "3            Good            809.98                31.377862   \n",
       "4            Good            809.98                24.797347   \n",
       "...           ...               ...                      ...   \n",
       "99995           _            502.38                34.663572   \n",
       "99996           _            502.38                40.565631   \n",
       "99997        Good            502.38                41.255522   \n",
       "99998        Good            502.38                33.638208   \n",
       "99999        Good            502.38                34.192463   \n",
       "\n",
       "           Credit_History_Age  Payment_of_Min_Amount Total_EMI_per_month  \\\n",
       "0       22 Years and 1 Months                     No           49.574949   \n",
       "1                         NaN                     No           49.574949   \n",
       "2       22 Years and 3 Months                     No           49.574949   \n",
       "3       22 Years and 4 Months                     No           49.574949   \n",
       "4       22 Years and 5 Months                     No           49.574949   \n",
       "...                       ...                    ...                 ...   \n",
       "99995   31 Years and 6 Months                     No           35.104023   \n",
       "99996   31 Years and 7 Months                     No           35.104023   \n",
       "99997   31 Years and 8 Months                     No           35.104023   \n",
       "99998   31 Years and 9 Months                     No           35.104023   \n",
       "99999  31 Years and 10 Months                     No           35.104023   \n",
       "\n",
       "      Amount_invested_monthly                 Payment_Behaviour  \\\n",
       "0           80.41529543900253   High_spent_Small_value_payments   \n",
       "1          118.28022162236736    Low_spent_Large_value_payments   \n",
       "2             81.699521264648   Low_spent_Medium_value_payments   \n",
       "3           199.4580743910713    Low_spent_Small_value_payments   \n",
       "4          41.420153086217326  High_spent_Medium_value_payments   \n",
       "...                       ...                               ...   \n",
       "99995       60.97133255718485   High_spent_Large_value_payments   \n",
       "99996       54.18595028760385  High_spent_Medium_value_payments   \n",
       "99997       24.02847744864441   High_spent_Large_value_payments   \n",
       "99998      251.67258219721603    Low_spent_Large_value_payments   \n",
       "99999       167.1638651610451                            !@9#%8   \n",
       "\n",
       "          Monthly_Balance Credit_Score  \n",
       "0      312.49408867943663         Good  \n",
       "1      284.62916249607184         Good  \n",
       "2       331.2098628537912         Good  \n",
       "3      223.45130972736786         Good  \n",
       "4      341.48923103222177         Good  \n",
       "...                   ...          ...  \n",
       "99995          479.866228         Poor  \n",
       "99996           496.65161         Poor  \n",
       "99997          516.809083         Poor  \n",
       "99998          319.164979     Standard  \n",
       "99999          393.673696         Poor  \n",
       "\n",
       "[88592 rows x 28 columns]"
      ]
     },
     "execution_count": 14,
     "metadata": {},
     "output_type": "execute_result"
    }
   ],
   "source": [
    "# Now we will try to find out the possible pattern through Type_of_Loan.\n",
    "\n",
    "df[df.Type_of_Loan.notnull()]"
   ]
  },
  {
   "cell_type": "code",
   "execution_count": 15,
   "id": "7f68cae6",
   "metadata": {},
   "outputs": [],
   "source": [
    "# Generating a new column by deriving values through the segmentation of data in Type_of_Loan\n",
    "\n",
    "list = []\n",
    "for i in range(df.shape[0]):\n",
    "    if pd.isna(df.iloc[i,13]) == True:\n",
    "        list.append(np.nan)\n",
    "    else:\n",
    "        list.append(len(df.Type_of_Loan[i].split(',')))"
   ]
  },
  {
   "cell_type": "code",
   "execution_count": 16,
   "id": "e12a7e98",
   "metadata": {},
   "outputs": [],
   "source": [
    "list = pd.Series(list)\n",
    "df['Num_of_loan2'] = list"
   ]
  },
  {
   "cell_type": "code",
   "execution_count": 17,
   "id": "cfe467c1",
   "metadata": {},
   "outputs": [],
   "source": [
    "## cleaning credit history age and converting it into number\n",
    "extracted_Data = df['Credit_History_Age'].str.extract(r'(\\d+) Years and (\\d+) Months')\n"
   ]
  },
  {
   "cell_type": "code",
   "execution_count": 18,
   "id": "a051b5ed",
   "metadata": {},
   "outputs": [],
   "source": [
    "df['Credit_History_Age'] = extracted_Data[0]+'.'+extracted_Data[1]\n",
    "#converted extracted date to year.months\n",
    "#now we can either round off or remove month"
   ]
  },
  {
   "cell_type": "code",
   "execution_count": 19,
   "id": "d37395a2",
   "metadata": {},
   "outputs": [],
   "source": [
    "df['Age'] = df.Age.str.replace('-','')\n",
    "#cleaning age\n"
   ]
  },
  {
   "cell_type": "code",
   "execution_count": 20,
   "id": "71d21f74",
   "metadata": {},
   "outputs": [],
   "source": [
    "df['Age'] = df.Age.str.replace('_','')\n",
    "#now we have cleaned age"
   ]
  },
  {
   "cell_type": "code",
   "execution_count": 21,
   "id": "0e3e916e",
   "metadata": {},
   "outputs": [],
   "source": [
    "#as age has no null value we will try to change it to int\n",
    "df['Age'] = df.Age.astype(int)\n"
   ]
  },
  {
   "cell_type": "code",
   "execution_count": 22,
   "id": "2b3ed90c",
   "metadata": {},
   "outputs": [
    {
     "data": {
      "text/plain": [
       "36585.12     16\n",
       "20867.67     16\n",
       "17273.83     16\n",
       "9141.63      15\n",
       "33029.66     15\n",
       "             ..\n",
       "20269.93_     1\n",
       "15157.25_     1\n",
       "44955.64_     1\n",
       "76650.12_     1\n",
       "4262933.0     1\n",
       "Name: Annual_Income, Length: 18940, dtype: int64"
      ]
     },
     "execution_count": 22,
     "metadata": {},
     "output_type": "execute_result"
    }
   ],
   "source": [
    "## Treating Annual Income\n",
    "df.Annual_Income.value_counts()"
   ]
  },
  {
   "cell_type": "code",
   "execution_count": 23,
   "id": "402b2168",
   "metadata": {},
   "outputs": [],
   "source": [
    "df.Annual_Income = df.Annual_Income.str.replace('_','')\n"
   ]
  },
  {
   "cell_type": "code",
   "execution_count": 24,
   "id": "9bafa7a9",
   "metadata": {},
   "outputs": [],
   "source": [
    "df.Annual_Income = df.Annual_Income.str.replace('-','')\n"
   ]
  },
  {
   "cell_type": "code",
   "execution_count": 25,
   "id": "0c5140f2",
   "metadata": {},
   "outputs": [
    {
     "data": {
      "text/plain": [
       "dtype('float64')"
      ]
     },
     "execution_count": 25,
     "metadata": {},
     "output_type": "execute_result"
    }
   ],
   "source": [
    "df.Annual_Income = df.Annual_Income.astype(float)\n",
    "df.Annual_Income.dtype\n"
   ]
  },
  {
   "cell_type": "code",
   "execution_count": 26,
   "id": "80271c17",
   "metadata": {},
   "outputs": [
    {
     "data": {
      "text/plain": [
       "__10000__             4305\n",
       "0.0                    169\n",
       "80.41529543900253        1\n",
       "36.66235139442514        1\n",
       "89.7384893604547         1\n",
       "                      ... \n",
       "36.541908593249026       1\n",
       "93.45116318631192        1\n",
       "140.80972223052834       1\n",
       "38.73937670100975        1\n",
       "167.1638651610451        1\n",
       "Name: Amount_invested_monthly, Length: 91049, dtype: int64"
      ]
     },
     "execution_count": 26,
     "metadata": {},
     "output_type": "execute_result"
    }
   ],
   "source": [
    "#now we take up amount invested monthly\n",
    "df.Amount_invested_monthly.value_counts()"
   ]
  },
  {
   "cell_type": "code",
   "execution_count": 27,
   "id": "509d4b87",
   "metadata": {},
   "outputs": [],
   "source": [
    "#cleaning Amount_invested_monthly\n",
    "df.Amount_invested_monthly = df.Amount_invested_monthly.str.replace('_','').replace('-','')\n"
   ]
  },
  {
   "cell_type": "code",
   "execution_count": 28,
   "id": "c598a9dd",
   "metadata": {},
   "outputs": [],
   "source": [
    "df.Amount_invested_monthly = df.Amount_invested_monthly.astype(float)\n",
    "#after cleaning we convert it to float"
   ]
  },
  {
   "cell_type": "code",
   "execution_count": 29,
   "id": "3cc9cecc",
   "metadata": {},
   "outputs": [],
   "source": [
    "df.Monthly_Balance = df.Monthly_Balance.str.replace('_','').replace('-','')\n"
   ]
  },
  {
   "cell_type": "code",
   "execution_count": 30,
   "id": "fcc6dfdd",
   "metadata": {},
   "outputs": [],
   "source": [
    "df.Monthly_Balance = df.Monthly_Balance.astype(float)\n"
   ]
  },
  {
   "cell_type": "code",
   "execution_count": 31,
   "id": "7a984636",
   "metadata": {},
   "outputs": [],
   "source": [
    "df.Num_of_Delayed_Payment = df.Num_of_Delayed_Payment.str.replace('_','').replace('-','')\n",
    "\n",
    "df.Num_of_Delayed_Payment = df.Num_of_Delayed_Payment.astype(float)\n"
   ]
  },
  {
   "cell_type": "code",
   "execution_count": 32,
   "id": "3525b6f7",
   "metadata": {},
   "outputs": [],
   "source": [
    "df.Num_Credit_Inquiries = df.Num_Credit_Inquiries.astype(float)\n"
   ]
  },
  {
   "cell_type": "code",
   "execution_count": 33,
   "id": "1893248d",
   "metadata": {},
   "outputs": [],
   "source": [
    "df.Credit_History_Age = df.Credit_History_Age.astype(float)\n"
   ]
  },
  {
   "cell_type": "code",
   "execution_count": 34,
   "id": "1e9b7335",
   "metadata": {},
   "outputs": [
    {
     "data": {
      "text/plain": [
       "1360.45     24\n",
       "460.46      23\n",
       "1151.7      23\n",
       "1109.03     23\n",
       "467.7       16\n",
       "            ..\n",
       "245.46_      1\n",
       "645.77_      1\n",
       "174.79_      1\n",
       "1181.13_     1\n",
       "1013.53_     1\n",
       "Name: Outstanding_Debt, Length: 13178, dtype: int64"
      ]
     },
     "execution_count": 34,
     "metadata": {},
     "output_type": "execute_result"
    }
   ],
   "source": [
    "\n",
    "df.Outstanding_Debt.value_counts()\n",
    "#now we will clean it"
   ]
  },
  {
   "cell_type": "code",
   "execution_count": 35,
   "id": "96aa4215",
   "metadata": {},
   "outputs": [],
   "source": [
    "df.Outstanding_Debt = df.Outstanding_Debt.str.replace('_','').replace('-','')\n",
    "df.Outstanding_Debt = df.Outstanding_Debt.astype(float)\n"
   ]
  },
  {
   "cell_type": "code",
   "execution_count": 36,
   "id": "2f1dd3ca",
   "metadata": {},
   "outputs": [
    {
     "data": {
      "text/plain": [
       "_                     2091\n",
       "8.22                   133\n",
       "11.5                   127\n",
       "11.32                  126\n",
       "7.35                   121\n",
       "                      ... \n",
       "-1.84                    1\n",
       "0.8899999999999999       1\n",
       "28.06                    1\n",
       "1.5599999999999996       1\n",
       "21.17                    1\n",
       "Name: Changed_Credit_Limit, Length: 4384, dtype: int64"
      ]
     },
     "execution_count": 36,
     "metadata": {},
     "output_type": "execute_result"
    }
   ],
   "source": [
    "#now we will take up changed credit limit\n",
    "df.Changed_Credit_Limit.value_counts()"
   ]
  },
  {
   "cell_type": "code",
   "execution_count": 37,
   "id": "9f3c66f1",
   "metadata": {},
   "outputs": [],
   "source": [
    "df.Changed_Credit_Limit = df.Changed_Credit_Limit.str.replace('_','')\n",
    "\n",
    "df.Changed_Credit_Limit[df.Changed_Credit_Limit == ''] = np.nan\n",
    "\n",
    "df.Changed_Credit_Limit = df.Changed_Credit_Limit.astype('float')\n"
   ]
  },
  {
   "cell_type": "code",
   "execution_count": 38,
   "id": "ff4e71eb",
   "metadata": {},
   "outputs": [],
   "source": [
    "##all the data has been cleaned of junk characters and variables, now we will begin with missing values and garbage cleaning"
   ]
  },
  {
   "cell_type": "markdown",
   "id": "78bd47cb",
   "metadata": {},
   "source": [
    "# Garbage and Missing value treatment"
   ]
  },
  {
   "cell_type": "code",
   "execution_count": 39,
   "id": "c7bfafbd",
   "metadata": {},
   "outputs": [
    {
     "data": {
      "text/plain": [
       "11408"
      ]
     },
     "execution_count": 39,
     "metadata": {},
     "output_type": "execute_result"
    }
   ],
   "source": [
    "df[\"Num_of_loan2\"].isnull().sum()"
   ]
  },
  {
   "cell_type": "code",
   "execution_count": 40,
   "id": "3857b1ae",
   "metadata": {},
   "outputs": [
    {
     "data": {
      "text/plain": [
       "3.0    15752\n",
       "2.0    15712\n",
       "4.0    15456\n",
       "1.0    11128\n",
       "6.0     8144\n",
       "7.0     7680\n",
       "5.0     7528\n",
       "9.0     3856\n",
       "8.0     3336\n",
       "Name: Num_of_loan2, dtype: int64"
      ]
     },
     "execution_count": 40,
     "metadata": {},
     "output_type": "execute_result"
    }
   ],
   "source": [
    "df.Num_of_loan2.value_counts()"
   ]
  },
  {
   "cell_type": "code",
   "execution_count": 41,
   "id": "b0495330",
   "metadata": {},
   "outputs": [],
   "source": [
    "# Filling null values in the Num_of_loan2 column by replacing them with zeros obtained from the old loan column(Num_of_Loan).\n",
    "\n",
    "df.loc[(df.Num_of_loan2.isnull()) & (df.Num_of_Loan == '0'), 'Num_of_loan2'] = 0"
   ]
  },
  {
   "cell_type": "code",
   "execution_count": 42,
   "id": "711a7330",
   "metadata": {},
   "outputs": [],
   "source": [
    "#df['Num_of_loan2'] = df['Num_of_loan2'].astype(int)\n",
    "# after fixing null values we will covert to int"
   ]
  },
  {
   "cell_type": "code",
   "execution_count": 43,
   "id": "e2d7f664",
   "metadata": {
    "scrolled": false
   },
   "outputs": [
    {
     "data": {
      "text/html": [
       "<div>\n",
       "<style scoped>\n",
       "    .dataframe tbody tr th:only-of-type {\n",
       "        vertical-align: middle;\n",
       "    }\n",
       "\n",
       "    .dataframe tbody tr th {\n",
       "        vertical-align: top;\n",
       "    }\n",
       "\n",
       "    .dataframe thead th {\n",
       "        text-align: right;\n",
       "    }\n",
       "</style>\n",
       "<table border=\"1\" class=\"dataframe\">\n",
       "  <thead>\n",
       "    <tr style=\"text-align: right;\">\n",
       "      <th></th>\n",
       "      <th>ID</th>\n",
       "      <th>Customer_ID</th>\n",
       "      <th>Month</th>\n",
       "      <th>Name</th>\n",
       "      <th>Age</th>\n",
       "      <th>SSN</th>\n",
       "      <th>Occupation</th>\n",
       "      <th>Annual_Income</th>\n",
       "      <th>Monthly_Inhand_Salary</th>\n",
       "      <th>Num_Bank_Accounts</th>\n",
       "      <th>...</th>\n",
       "      <th>Outstanding_Debt</th>\n",
       "      <th>Credit_Utilization_Ratio</th>\n",
       "      <th>Credit_History_Age</th>\n",
       "      <th>Payment_of_Min_Amount</th>\n",
       "      <th>Total_EMI_per_month</th>\n",
       "      <th>Amount_invested_monthly</th>\n",
       "      <th>Payment_Behaviour</th>\n",
       "      <th>Monthly_Balance</th>\n",
       "      <th>Credit_Score</th>\n",
       "      <th>Num_of_loan2</th>\n",
       "    </tr>\n",
       "  </thead>\n",
       "  <tbody>\n",
       "    <tr>\n",
       "      <th>34</th>\n",
       "      <td>0x1634</td>\n",
       "      <td>CUS_0x1cdb</td>\n",
       "      <td>March</td>\n",
       "      <td>Deepaa</td>\n",
       "      <td>21</td>\n",
       "      <td>615-06-7821</td>\n",
       "      <td>Developer</td>\n",
       "      <td>35547.710</td>\n",
       "      <td>2853.309167</td>\n",
       "      <td>7</td>\n",
       "      <td>...</td>\n",
       "      <td>943.86</td>\n",
       "      <td>23.462303</td>\n",
       "      <td>30.1</td>\n",
       "      <td>Yes</td>\n",
       "      <td>0.000000</td>\n",
       "      <td>173.138651</td>\n",
       "      <td>Low_spent_Medium_value_payments</td>\n",
       "      <td>392.192266</td>\n",
       "      <td>Standard</td>\n",
       "      <td>NaN</td>\n",
       "    </tr>\n",
       "    <tr>\n",
       "      <th>39</th>\n",
       "      <td>0x1639</td>\n",
       "      <td>CUS_0x1cdb</td>\n",
       "      <td>August</td>\n",
       "      <td>Deepaa</td>\n",
       "      <td>21</td>\n",
       "      <td>615-06-7821</td>\n",
       "      <td>Developer</td>\n",
       "      <td>35547.710</td>\n",
       "      <td>2853.309167</td>\n",
       "      <td>7</td>\n",
       "      <td>...</td>\n",
       "      <td>943.86</td>\n",
       "      <td>25.862922</td>\n",
       "      <td>31.3</td>\n",
       "      <td>Yes</td>\n",
       "      <td>0.000000</td>\n",
       "      <td>181.330901</td>\n",
       "      <td>High_spent_Small_value_payments</td>\n",
       "      <td>364.000016</td>\n",
       "      <td>Standard</td>\n",
       "      <td>NaN</td>\n",
       "    </tr>\n",
       "    <tr>\n",
       "      <th>180</th>\n",
       "      <td>0x170e</td>\n",
       "      <td>CUS_0xac86</td>\n",
       "      <td>May</td>\n",
       "      <td>Nickb</td>\n",
       "      <td>20</td>\n",
       "      <td>028-16-4402</td>\n",
       "      <td>Entrepreneur</td>\n",
       "      <td>106733.130</td>\n",
       "      <td>8873.427500</td>\n",
       "      <td>4</td>\n",
       "      <td>...</td>\n",
       "      <td>76.23</td>\n",
       "      <td>28.820554</td>\n",
       "      <td>33.1</td>\n",
       "      <td>No</td>\n",
       "      <td>0.000000</td>\n",
       "      <td>345.609135</td>\n",
       "      <td>High_spent_Medium_value_payments</td>\n",
       "      <td>791.733615</td>\n",
       "      <td>Good</td>\n",
       "      <td>NaN</td>\n",
       "    </tr>\n",
       "    <tr>\n",
       "      <th>327</th>\n",
       "      <td>0x17e9</td>\n",
       "      <td>CUS_0xb5ff</td>\n",
       "      <td>August</td>\n",
       "      <td>Nateg</td>\n",
       "      <td>33</td>\n",
       "      <td>060-81-1328</td>\n",
       "      <td>Media_Manager</td>\n",
       "      <td>12909.895</td>\n",
       "      <td>853.824583</td>\n",
       "      <td>5</td>\n",
       "      <td>...</td>\n",
       "      <td>602.50</td>\n",
       "      <td>23.579851</td>\n",
       "      <td>17.8</td>\n",
       "      <td>No</td>\n",
       "      <td>0.000000</td>\n",
       "      <td>60.052635</td>\n",
       "      <td>Low_spent_Medium_value_payments</td>\n",
       "      <td>305.329824</td>\n",
       "      <td>Standard</td>\n",
       "      <td>NaN</td>\n",
       "    </tr>\n",
       "    <tr>\n",
       "      <th>355</th>\n",
       "      <td>0x1815</td>\n",
       "      <td>CUS_0xaedb</td>\n",
       "      <td>April</td>\n",
       "      <td>Olivia Oranr</td>\n",
       "      <td>19</td>\n",
       "      <td>272-47-1135</td>\n",
       "      <td>Musician</td>\n",
       "      <td>85554.030</td>\n",
       "      <td>7185.502500</td>\n",
       "      <td>4</td>\n",
       "      <td>...</td>\n",
       "      <td>1095.73</td>\n",
       "      <td>31.360245</td>\n",
       "      <td>19.1</td>\n",
       "      <td>No</td>\n",
       "      <td>0.000000</td>\n",
       "      <td>303.664687</td>\n",
       "      <td>Low_spent_Large_value_payments</td>\n",
       "      <td>684.885563</td>\n",
       "      <td>Good</td>\n",
       "      <td>NaN</td>\n",
       "    </tr>\n",
       "    <tr>\n",
       "      <th>...</th>\n",
       "      <td>...</td>\n",
       "      <td>...</td>\n",
       "      <td>...</td>\n",
       "      <td>...</td>\n",
       "      <td>...</td>\n",
       "      <td>...</td>\n",
       "      <td>...</td>\n",
       "      <td>...</td>\n",
       "      <td>...</td>\n",
       "      <td>...</td>\n",
       "      <td>...</td>\n",
       "      <td>...</td>\n",
       "      <td>...</td>\n",
       "      <td>...</td>\n",
       "      <td>...</td>\n",
       "      <td>...</td>\n",
       "      <td>...</td>\n",
       "      <td>...</td>\n",
       "      <td>...</td>\n",
       "      <td>...</td>\n",
       "      <td>...</td>\n",
       "    </tr>\n",
       "    <tr>\n",
       "      <th>99611</th>\n",
       "      <td>0x25da9</td>\n",
       "      <td>CUS_0x2829</td>\n",
       "      <td>April</td>\n",
       "      <td>Alistair Barre</td>\n",
       "      <td>31</td>\n",
       "      <td>172-85-1573</td>\n",
       "      <td>Journalist</td>\n",
       "      <td>64901.370</td>\n",
       "      <td>5298.447500</td>\n",
       "      <td>3</td>\n",
       "      <td>...</td>\n",
       "      <td>442.06</td>\n",
       "      <td>29.639741</td>\n",
       "      <td>31.1</td>\n",
       "      <td>Yes</td>\n",
       "      <td>0.000000</td>\n",
       "      <td>162.171160</td>\n",
       "      <td>High_spent_Medium_value_payments</td>\n",
       "      <td>NaN</td>\n",
       "      <td>Standard</td>\n",
       "      <td>NaN</td>\n",
       "    </tr>\n",
       "    <tr>\n",
       "      <th>99612</th>\n",
       "      <td>0x25daa</td>\n",
       "      <td>CUS_0x2829</td>\n",
       "      <td>May</td>\n",
       "      <td>Alistair Barre</td>\n",
       "      <td>32</td>\n",
       "      <td>172-85-1573</td>\n",
       "      <td>Journalist</td>\n",
       "      <td>64901.370</td>\n",
       "      <td>5298.447500</td>\n",
       "      <td>3</td>\n",
       "      <td>...</td>\n",
       "      <td>442.06</td>\n",
       "      <td>37.699808</td>\n",
       "      <td>NaN</td>\n",
       "      <td>Yes</td>\n",
       "      <td>0.000000</td>\n",
       "      <td>97.413190</td>\n",
       "      <td>High_spent_Large_value_payments</td>\n",
       "      <td>NaN</td>\n",
       "      <td>Standard</td>\n",
       "      <td>NaN</td>\n",
       "    </tr>\n",
       "    <tr>\n",
       "      <th>99630</th>\n",
       "      <td>0x25dc4</td>\n",
       "      <td>CUS_0x738b</td>\n",
       "      <td>July</td>\n",
       "      <td>Leahh</td>\n",
       "      <td>25</td>\n",
       "      <td>769-44-1950</td>\n",
       "      <td>Accountant</td>\n",
       "      <td>123828.520</td>\n",
       "      <td>9317.324054</td>\n",
       "      <td>4</td>\n",
       "      <td>...</td>\n",
       "      <td>1288.43</td>\n",
       "      <td>39.099750</td>\n",
       "      <td>32.7</td>\n",
       "      <td>NM</td>\n",
       "      <td>999.719279</td>\n",
       "      <td>NaN</td>\n",
       "      <td>Low_spent_Medium_value_payments</td>\n",
       "      <td>NaN</td>\n",
       "      <td>Good</td>\n",
       "      <td>NaN</td>\n",
       "    </tr>\n",
       "    <tr>\n",
       "      <th>99663</th>\n",
       "      <td>0x25df5</td>\n",
       "      <td>CUS_0x30fc</td>\n",
       "      <td>August</td>\n",
       "      <td>Zoran Radosavljevicl</td>\n",
       "      <td>28</td>\n",
       "      <td>209-55-1275</td>\n",
       "      <td>Manager</td>\n",
       "      <td>90781.530</td>\n",
       "      <td>7505.127500</td>\n",
       "      <td>7</td>\n",
       "      <td>...</td>\n",
       "      <td>494.51</td>\n",
       "      <td>36.809951</td>\n",
       "      <td>NaN</td>\n",
       "      <td>Yes</td>\n",
       "      <td>0.000000</td>\n",
       "      <td>688.256875</td>\n",
       "      <td>Low_spent_Medium_value_payments</td>\n",
       "      <td>NaN</td>\n",
       "      <td>Standard</td>\n",
       "      <td>NaN</td>\n",
       "    </tr>\n",
       "    <tr>\n",
       "      <th>99859</th>\n",
       "      <td>0x25f1d</td>\n",
       "      <td>CUS_0x1285</td>\n",
       "      <td>April</td>\n",
       "      <td>Lauriay</td>\n",
       "      <td>43</td>\n",
       "      <td>540-18-1115</td>\n",
       "      <td>Architect</td>\n",
       "      <td>10692.160</td>\n",
       "      <td>817.013333</td>\n",
       "      <td>8</td>\n",
       "      <td>...</td>\n",
       "      <td>1350.85</td>\n",
       "      <td>31.460700</td>\n",
       "      <td>31.8</td>\n",
       "      <td>Yes</td>\n",
       "      <td>0.000000</td>\n",
       "      <td>49.033808</td>\n",
       "      <td>Low_spent_Large_value_payments</td>\n",
       "      <td>NaN</td>\n",
       "      <td>Standard</td>\n",
       "      <td>NaN</td>\n",
       "    </tr>\n",
       "  </tbody>\n",
       "</table>\n",
       "<p>478 rows × 29 columns</p>\n",
       "</div>"
      ],
      "text/plain": [
       "            ID Customer_ID   Month                  Name  Age          SSN  \\\n",
       "34      0x1634  CUS_0x1cdb   March                Deepaa   21  615-06-7821   \n",
       "39      0x1639  CUS_0x1cdb  August                Deepaa   21  615-06-7821   \n",
       "180     0x170e  CUS_0xac86     May                 Nickb   20  028-16-4402   \n",
       "327     0x17e9  CUS_0xb5ff  August                 Nateg   33  060-81-1328   \n",
       "355     0x1815  CUS_0xaedb   April          Olivia Oranr   19  272-47-1135   \n",
       "...        ...         ...     ...                   ...  ...          ...   \n",
       "99611  0x25da9  CUS_0x2829   April        Alistair Barre   31  172-85-1573   \n",
       "99612  0x25daa  CUS_0x2829     May        Alistair Barre   32  172-85-1573   \n",
       "99630  0x25dc4  CUS_0x738b    July                 Leahh   25  769-44-1950   \n",
       "99663  0x25df5  CUS_0x30fc  August  Zoran Radosavljevicl   28  209-55-1275   \n",
       "99859  0x25f1d  CUS_0x1285   April               Lauriay   43  540-18-1115   \n",
       "\n",
       "          Occupation  Annual_Income  Monthly_Inhand_Salary  Num_Bank_Accounts  \\\n",
       "34         Developer      35547.710            2853.309167                  7   \n",
       "39         Developer      35547.710            2853.309167                  7   \n",
       "180     Entrepreneur     106733.130            8873.427500                  4   \n",
       "327    Media_Manager      12909.895             853.824583                  5   \n",
       "355         Musician      85554.030            7185.502500                  4   \n",
       "...              ...            ...                    ...                ...   \n",
       "99611     Journalist      64901.370            5298.447500                  3   \n",
       "99612     Journalist      64901.370            5298.447500                  3   \n",
       "99630     Accountant     123828.520            9317.324054                  4   \n",
       "99663        Manager      90781.530            7505.127500                  7   \n",
       "99859      Architect      10692.160             817.013333                  8   \n",
       "\n",
       "       ...  Outstanding_Debt  Credit_Utilization_Ratio Credit_History_Age  \\\n",
       "34     ...            943.86                 23.462303               30.1   \n",
       "39     ...            943.86                 25.862922               31.3   \n",
       "180    ...             76.23                 28.820554               33.1   \n",
       "327    ...            602.50                 23.579851               17.8   \n",
       "355    ...           1095.73                 31.360245               19.1   \n",
       "...    ...               ...                       ...                ...   \n",
       "99611  ...            442.06                 29.639741               31.1   \n",
       "99612  ...            442.06                 37.699808                NaN   \n",
       "99630  ...           1288.43                 39.099750               32.7   \n",
       "99663  ...            494.51                 36.809951                NaN   \n",
       "99859  ...           1350.85                 31.460700               31.8   \n",
       "\n",
       "      Payment_of_Min_Amount  Total_EMI_per_month  Amount_invested_monthly  \\\n",
       "34                      Yes             0.000000               173.138651   \n",
       "39                      Yes             0.000000               181.330901   \n",
       "180                      No             0.000000               345.609135   \n",
       "327                      No             0.000000                60.052635   \n",
       "355                      No             0.000000               303.664687   \n",
       "...                     ...                  ...                      ...   \n",
       "99611                   Yes             0.000000               162.171160   \n",
       "99612                   Yes             0.000000                97.413190   \n",
       "99630                    NM           999.719279                      NaN   \n",
       "99663                   Yes             0.000000               688.256875   \n",
       "99859                   Yes             0.000000                49.033808   \n",
       "\n",
       "                      Payment_Behaviour  Monthly_Balance Credit_Score  \\\n",
       "34      Low_spent_Medium_value_payments       392.192266     Standard   \n",
       "39      High_spent_Small_value_payments       364.000016     Standard   \n",
       "180    High_spent_Medium_value_payments       791.733615         Good   \n",
       "327     Low_spent_Medium_value_payments       305.329824     Standard   \n",
       "355      Low_spent_Large_value_payments       684.885563         Good   \n",
       "...                                 ...              ...          ...   \n",
       "99611  High_spent_Medium_value_payments              NaN     Standard   \n",
       "99612   High_spent_Large_value_payments              NaN     Standard   \n",
       "99630   Low_spent_Medium_value_payments              NaN         Good   \n",
       "99663   Low_spent_Medium_value_payments              NaN     Standard   \n",
       "99859    Low_spent_Large_value_payments              NaN     Standard   \n",
       "\n",
       "       Num_of_loan2  \n",
       "34              NaN  \n",
       "39              NaN  \n",
       "180             NaN  \n",
       "327             NaN  \n",
       "355             NaN  \n",
       "...             ...  \n",
       "99611           NaN  \n",
       "99612           NaN  \n",
       "99630           NaN  \n",
       "99663           NaN  \n",
       "99859           NaN  \n",
       "\n",
       "[478 rows x 29 columns]"
      ]
     },
     "execution_count": 43,
     "metadata": {},
     "output_type": "execute_result"
    }
   ],
   "source": [
    "df.loc[(df.Num_of_loan2.isnull())]\n",
    "\n",
    "#we can remove these 478 remaining values as they have no pattern or nothong"
   ]
  },
  {
   "cell_type": "code",
   "execution_count": 44,
   "id": "4d5e0a2d",
   "metadata": {},
   "outputs": [],
   "source": [
    "#df.drop(df.loc[(df.Num_of_loan2.isnull())],axis = 0)\n",
    "#df.shape\n",
    "#df.Num_of_loan2.dropna()\n",
    "#df['Num_of_loan2'].dropna(inplace=True,)\n",
    "#df.drop(df.Num_of_loan2.isnull(), axis = 0).reset_index(drop = True)\n",
    "df.dropna(subset = 'Num_of_loan2',inplace= True)\n"
   ]
  },
  {
   "cell_type": "code",
   "execution_count": 45,
   "id": "e4065368",
   "metadata": {},
   "outputs": [
    {
     "data": {
      "text/plain": [
       "0"
      ]
     },
     "execution_count": 45,
     "metadata": {},
     "output_type": "execute_result"
    }
   ],
   "source": [
    "df.Num_of_loan2.isnull().sum()"
   ]
  },
  {
   "cell_type": "code",
   "execution_count": 46,
   "id": "6b50ba69",
   "metadata": {},
   "outputs": [
    {
     "data": {
      "text/plain": [
       "3.0    15752\n",
       "2.0    15712\n",
       "4.0    15456\n",
       "1.0    11128\n",
       "0.0    10930\n",
       "6.0     8144\n",
       "7.0     7680\n",
       "5.0     7528\n",
       "9.0     3856\n",
       "8.0     3336\n",
       "Name: Num_of_loan2, dtype: int64"
      ]
     },
     "execution_count": 46,
     "metadata": {},
     "output_type": "execute_result"
    }
   ],
   "source": [
    "df.Num_of_loan2.value_counts()"
   ]
  },
  {
   "cell_type": "code",
   "execution_count": 47,
   "id": "9cb49191",
   "metadata": {},
   "outputs": [
    {
     "data": {
      "text/plain": [
       "ID                              0\n",
       "Customer_ID                     0\n",
       "Month                           0\n",
       "Name                         9944\n",
       "Age                             0\n",
       "SSN                             0\n",
       "Occupation                      0\n",
       "Annual_Income                   0\n",
       "Monthly_Inhand_Salary       14932\n",
       "Num_Bank_Accounts               0\n",
       "Num_Credit_Card                 0\n",
       "Interest_Rate                   0\n",
       "Num_of_Loan                     0\n",
       "Type_of_Loan                10930\n",
       "Delay_from_due_date             0\n",
       "Num_of_Delayed_Payment       6968\n",
       "Changed_Credit_Limit         2083\n",
       "Num_Credit_Inquiries         1954\n",
       "Credit_Mix                      0\n",
       "Outstanding_Debt                0\n",
       "Credit_Utilization_Ratio        0\n",
       "Credit_History_Age           8993\n",
       "Payment_of_Min_Amount           0\n",
       "Total_EMI_per_month             0\n",
       "Amount_invested_monthly      4451\n",
       "Payment_Behaviour               0\n",
       "Monthly_Balance              2856\n",
       "Credit_Score                    0\n",
       "Num_of_loan2                    0\n",
       "dtype: int64"
      ]
     },
     "execution_count": 47,
     "metadata": {},
     "output_type": "execute_result"
    }
   ],
   "source": [
    "df.isnull().sum()\n",
    "# we will remove name so no need for imputing null value for name\n",
    "# type of loan also remove so no need to impute"
   ]
  },
  {
   "cell_type": "code",
   "execution_count": 48,
   "id": "fc56a653",
   "metadata": {},
   "outputs": [],
   "source": [
    "##cleaning occupation"
   ]
  },
  {
   "cell_type": "code",
   "execution_count": 49,
   "id": "769e2a3a",
   "metadata": {},
   "outputs": [
    {
     "data": {
      "text/plain": [
       "_______          7024\n",
       "Lawyer           6553\n",
       "Architect        6326\n",
       "Engineer         6315\n",
       "Mechanic         6273\n",
       "Scientist        6271\n",
       "Accountant       6239\n",
       "Media_Manager    6202\n",
       "Developer        6197\n",
       "Teacher          6186\n",
       "Entrepreneur     6146\n",
       "Doctor           6069\n",
       "Journalist       6054\n",
       "Manager          5941\n",
       "Musician         5872\n",
       "Writer           5854\n",
       "Name: Occupation, dtype: int64"
      ]
     },
     "execution_count": 49,
     "metadata": {},
     "output_type": "execute_result"
    }
   ],
   "source": [
    "df['Occupation'].value_counts()"
   ]
  },
  {
   "cell_type": "code",
   "execution_count": 50,
   "id": "716805ae",
   "metadata": {},
   "outputs": [
    {
     "data": {
      "text/html": [
       "<div>\n",
       "<style scoped>\n",
       "    .dataframe tbody tr th:only-of-type {\n",
       "        vertical-align: middle;\n",
       "    }\n",
       "\n",
       "    .dataframe tbody tr th {\n",
       "        vertical-align: top;\n",
       "    }\n",
       "\n",
       "    .dataframe thead th {\n",
       "        text-align: right;\n",
       "    }\n",
       "</style>\n",
       "<table border=\"1\" class=\"dataframe\">\n",
       "  <thead>\n",
       "    <tr style=\"text-align: right;\">\n",
       "      <th></th>\n",
       "      <th>ID</th>\n",
       "      <th>Customer_ID</th>\n",
       "      <th>Month</th>\n",
       "      <th>Name</th>\n",
       "      <th>Age</th>\n",
       "      <th>SSN</th>\n",
       "      <th>Occupation</th>\n",
       "      <th>Annual_Income</th>\n",
       "      <th>Monthly_Inhand_Salary</th>\n",
       "      <th>Num_Bank_Accounts</th>\n",
       "      <th>...</th>\n",
       "      <th>Outstanding_Debt</th>\n",
       "      <th>Credit_Utilization_Ratio</th>\n",
       "      <th>Credit_History_Age</th>\n",
       "      <th>Payment_of_Min_Amount</th>\n",
       "      <th>Total_EMI_per_month</th>\n",
       "      <th>Amount_invested_monthly</th>\n",
       "      <th>Payment_Behaviour</th>\n",
       "      <th>Monthly_Balance</th>\n",
       "      <th>Credit_Score</th>\n",
       "      <th>Num_of_loan2</th>\n",
       "    </tr>\n",
       "  </thead>\n",
       "  <tbody>\n",
       "    <tr>\n",
       "      <th>8</th>\n",
       "      <td>0x160e</td>\n",
       "      <td>CUS_0x21b1</td>\n",
       "      <td>January</td>\n",
       "      <td>Rick Rothackerj</td>\n",
       "      <td>28</td>\n",
       "      <td>004-07-5839</td>\n",
       "      <td>_______</td>\n",
       "      <td>34847.84</td>\n",
       "      <td>3037.986667</td>\n",
       "      <td>2</td>\n",
       "      <td>...</td>\n",
       "      <td>605.03</td>\n",
       "      <td>24.464031</td>\n",
       "      <td>26.70</td>\n",
       "      <td>No</td>\n",
       "      <td>18.816215</td>\n",
       "      <td>104.291825</td>\n",
       "      <td>Low_spent_Small_value_payments</td>\n",
       "      <td>470.690627</td>\n",
       "      <td>Standard</td>\n",
       "      <td>1.0</td>\n",
       "    </tr>\n",
       "    <tr>\n",
       "      <th>16</th>\n",
       "      <td>0x161a</td>\n",
       "      <td>CUS_0x2dbc</td>\n",
       "      <td>January</td>\n",
       "      <td>Langep</td>\n",
       "      <td>34</td>\n",
       "      <td>486-85-3974</td>\n",
       "      <td>_______</td>\n",
       "      <td>143162.64</td>\n",
       "      <td>12187.220000</td>\n",
       "      <td>1</td>\n",
       "      <td>...</td>\n",
       "      <td>1303.01</td>\n",
       "      <td>28.616735</td>\n",
       "      <td>17.90</td>\n",
       "      <td>No</td>\n",
       "      <td>246.992319</td>\n",
       "      <td>168.413703</td>\n",
       "      <td>!@9#%8</td>\n",
       "      <td>1043.315978</td>\n",
       "      <td>Good</td>\n",
       "      <td>3.0</td>\n",
       "    </tr>\n",
       "    <tr>\n",
       "      <th>18</th>\n",
       "      <td>0x161c</td>\n",
       "      <td>CUS_0x2dbc</td>\n",
       "      <td>March</td>\n",
       "      <td>Langep</td>\n",
       "      <td>34</td>\n",
       "      <td>486-85-3974</td>\n",
       "      <td>_______</td>\n",
       "      <td>143162.64</td>\n",
       "      <td>NaN</td>\n",
       "      <td>1</td>\n",
       "      <td>...</td>\n",
       "      <td>1303.01</td>\n",
       "      <td>26.519815</td>\n",
       "      <td>17.11</td>\n",
       "      <td>No</td>\n",
       "      <td>246.992319</td>\n",
       "      <td>10000.000000</td>\n",
       "      <td>High_spent_Small_value_payments</td>\n",
       "      <td>715.741367</td>\n",
       "      <td>Good</td>\n",
       "      <td>3.0</td>\n",
       "    </tr>\n",
       "    <tr>\n",
       "      <th>20</th>\n",
       "      <td>0x161e</td>\n",
       "      <td>CUS_0x2dbc</td>\n",
       "      <td>May</td>\n",
       "      <td>Langep</td>\n",
       "      <td>34</td>\n",
       "      <td>486-85-3974</td>\n",
       "      <td>_______</td>\n",
       "      <td>143162.64</td>\n",
       "      <td>12187.220000</td>\n",
       "      <td>1</td>\n",
       "      <td>...</td>\n",
       "      <td>1303.01</td>\n",
       "      <td>31.376150</td>\n",
       "      <td>18.10</td>\n",
       "      <td>No</td>\n",
       "      <td>246.992319</td>\n",
       "      <td>430.947528</td>\n",
       "      <td>Low_spent_Large_value_payments</td>\n",
       "      <td>810.782153</td>\n",
       "      <td>Good</td>\n",
       "      <td>3.0</td>\n",
       "    </tr>\n",
       "    <tr>\n",
       "      <th>29</th>\n",
       "      <td>0x162b</td>\n",
       "      <td>CUS_0xb891</td>\n",
       "      <td>June</td>\n",
       "      <td>Jasond</td>\n",
       "      <td>55</td>\n",
       "      <td>#F%$D@*&amp;8</td>\n",
       "      <td>_______</td>\n",
       "      <td>30689.89</td>\n",
       "      <td>2612.490833</td>\n",
       "      <td>2</td>\n",
       "      <td>...</td>\n",
       "      <td>632.46</td>\n",
       "      <td>27.445422</td>\n",
       "      <td>17.80</td>\n",
       "      <td>No</td>\n",
       "      <td>16.415452</td>\n",
       "      <td>84.952848</td>\n",
       "      <td>High_spent_Small_value_payments</td>\n",
       "      <td>419.880784</td>\n",
       "      <td>Standard</td>\n",
       "      <td>1.0</td>\n",
       "    </tr>\n",
       "    <tr>\n",
       "      <th>...</th>\n",
       "      <td>...</td>\n",
       "      <td>...</td>\n",
       "      <td>...</td>\n",
       "      <td>...</td>\n",
       "      <td>...</td>\n",
       "      <td>...</td>\n",
       "      <td>...</td>\n",
       "      <td>...</td>\n",
       "      <td>...</td>\n",
       "      <td>...</td>\n",
       "      <td>...</td>\n",
       "      <td>...</td>\n",
       "      <td>...</td>\n",
       "      <td>...</td>\n",
       "      <td>...</td>\n",
       "      <td>...</td>\n",
       "      <td>...</td>\n",
       "      <td>...</td>\n",
       "      <td>...</td>\n",
       "      <td>...</td>\n",
       "      <td>...</td>\n",
       "    </tr>\n",
       "    <tr>\n",
       "      <th>99920</th>\n",
       "      <td>0x25f7a</td>\n",
       "      <td>CUS_0x2654</td>\n",
       "      <td>January</td>\n",
       "      <td>enj</td>\n",
       "      <td>37</td>\n",
       "      <td>647-67-8889</td>\n",
       "      <td>_______</td>\n",
       "      <td>139664.96</td>\n",
       "      <td>11777.746667</td>\n",
       "      <td>3</td>\n",
       "      <td>...</td>\n",
       "      <td>365.66</td>\n",
       "      <td>31.043048</td>\n",
       "      <td>29.70</td>\n",
       "      <td>Yes</td>\n",
       "      <td>423.731016</td>\n",
       "      <td>282.782346</td>\n",
       "      <td>High_spent_Large_value_payments</td>\n",
       "      <td>NaN</td>\n",
       "      <td>Standard</td>\n",
       "      <td>4.0</td>\n",
       "    </tr>\n",
       "    <tr>\n",
       "      <th>99935</th>\n",
       "      <td>0x25f8d</td>\n",
       "      <td>CUS_0xb11c</td>\n",
       "      <td>August</td>\n",
       "      <td>Yinka Adegokej</td>\n",
       "      <td>38</td>\n",
       "      <td>546-94-4789</td>\n",
       "      <td>_______</td>\n",
       "      <td>15319.65</td>\n",
       "      <td>1460.637500</td>\n",
       "      <td>6</td>\n",
       "      <td>...</td>\n",
       "      <td>1453.61</td>\n",
       "      <td>34.557510</td>\n",
       "      <td>11.40</td>\n",
       "      <td>Yes</td>\n",
       "      <td>28.182033</td>\n",
       "      <td>191.877779</td>\n",
       "      <td>Low_spent_Small_value_payments</td>\n",
       "      <td>NaN</td>\n",
       "      <td>Poor</td>\n",
       "      <td>4.0</td>\n",
       "    </tr>\n",
       "    <tr>\n",
       "      <th>99937</th>\n",
       "      <td>0x25f93</td>\n",
       "      <td>CUS_0xad4f</td>\n",
       "      <td>February</td>\n",
       "      <td>Sabina Zawadzkig</td>\n",
       "      <td>500</td>\n",
       "      <td>226-45-0652</td>\n",
       "      <td>_______</td>\n",
       "      <td>22620.79</td>\n",
       "      <td>1722.065833</td>\n",
       "      <td>7</td>\n",
       "      <td>...</td>\n",
       "      <td>642.46</td>\n",
       "      <td>31.841872</td>\n",
       "      <td>NaN</td>\n",
       "      <td>No</td>\n",
       "      <td>0.000000</td>\n",
       "      <td>105.076293</td>\n",
       "      <td>Low_spent_Large_value_payments</td>\n",
       "      <td>NaN</td>\n",
       "      <td>Standard</td>\n",
       "      <td>0.0</td>\n",
       "    </tr>\n",
       "    <tr>\n",
       "      <th>99943</th>\n",
       "      <td>0x25f99</td>\n",
       "      <td>CUS_0xad4f</td>\n",
       "      <td>August</td>\n",
       "      <td>Sabina Zawadzkig</td>\n",
       "      <td>48</td>\n",
       "      <td>226-45-0652</td>\n",
       "      <td>_______</td>\n",
       "      <td>22620.79</td>\n",
       "      <td>NaN</td>\n",
       "      <td>6</td>\n",
       "      <td>...</td>\n",
       "      <td>642.46</td>\n",
       "      <td>34.026427</td>\n",
       "      <td>29.10</td>\n",
       "      <td>No</td>\n",
       "      <td>0.000000</td>\n",
       "      <td>205.217280</td>\n",
       "      <td>Low_spent_Small_value_payments</td>\n",
       "      <td>NaN</td>\n",
       "      <td>Poor</td>\n",
       "      <td>0.0</td>\n",
       "    </tr>\n",
       "    <tr>\n",
       "      <th>99989</th>\n",
       "      <td>0x25fdf</td>\n",
       "      <td>CUS_0x8600</td>\n",
       "      <td>June</td>\n",
       "      <td>Sarah McBridec</td>\n",
       "      <td>28</td>\n",
       "      <td>031-35-0942</td>\n",
       "      <td>_______</td>\n",
       "      <td>20002.88</td>\n",
       "      <td>1929.906667</td>\n",
       "      <td>10</td>\n",
       "      <td>...</td>\n",
       "      <td>3571.70</td>\n",
       "      <td>33.359987</td>\n",
       "      <td>6.10</td>\n",
       "      <td>Yes</td>\n",
       "      <td>60.964772</td>\n",
       "      <td>74.366603</td>\n",
       "      <td>!@9#%8</td>\n",
       "      <td>NaN</td>\n",
       "      <td>Standard</td>\n",
       "      <td>5.0</td>\n",
       "    </tr>\n",
       "  </tbody>\n",
       "</table>\n",
       "<p>7024 rows × 29 columns</p>\n",
       "</div>"
      ],
      "text/plain": [
       "            ID Customer_ID     Month              Name  Age          SSN  \\\n",
       "8       0x160e  CUS_0x21b1   January   Rick Rothackerj   28  004-07-5839   \n",
       "16      0x161a  CUS_0x2dbc   January            Langep   34  486-85-3974   \n",
       "18      0x161c  CUS_0x2dbc     March            Langep   34  486-85-3974   \n",
       "20      0x161e  CUS_0x2dbc       May            Langep   34  486-85-3974   \n",
       "29      0x162b  CUS_0xb891      June            Jasond   55    #F%$D@*&8   \n",
       "...        ...         ...       ...               ...  ...          ...   \n",
       "99920  0x25f7a  CUS_0x2654   January               enj   37  647-67-8889   \n",
       "99935  0x25f8d  CUS_0xb11c    August    Yinka Adegokej   38  546-94-4789   \n",
       "99937  0x25f93  CUS_0xad4f  February  Sabina Zawadzkig  500  226-45-0652   \n",
       "99943  0x25f99  CUS_0xad4f    August  Sabina Zawadzkig   48  226-45-0652   \n",
       "99989  0x25fdf  CUS_0x8600      June    Sarah McBridec   28  031-35-0942   \n",
       "\n",
       "      Occupation  Annual_Income  Monthly_Inhand_Salary  Num_Bank_Accounts  \\\n",
       "8        _______       34847.84            3037.986667                  2   \n",
       "16       _______      143162.64           12187.220000                  1   \n",
       "18       _______      143162.64                    NaN                  1   \n",
       "20       _______      143162.64           12187.220000                  1   \n",
       "29       _______       30689.89            2612.490833                  2   \n",
       "...          ...            ...                    ...                ...   \n",
       "99920    _______      139664.96           11777.746667                  3   \n",
       "99935    _______       15319.65            1460.637500                  6   \n",
       "99937    _______       22620.79            1722.065833                  7   \n",
       "99943    _______       22620.79                    NaN                  6   \n",
       "99989    _______       20002.88            1929.906667                 10   \n",
       "\n",
       "       ...  Outstanding_Debt  Credit_Utilization_Ratio Credit_History_Age  \\\n",
       "8      ...            605.03                 24.464031              26.70   \n",
       "16     ...           1303.01                 28.616735              17.90   \n",
       "18     ...           1303.01                 26.519815              17.11   \n",
       "20     ...           1303.01                 31.376150              18.10   \n",
       "29     ...            632.46                 27.445422              17.80   \n",
       "...    ...               ...                       ...                ...   \n",
       "99920  ...            365.66                 31.043048              29.70   \n",
       "99935  ...           1453.61                 34.557510              11.40   \n",
       "99937  ...            642.46                 31.841872                NaN   \n",
       "99943  ...            642.46                 34.026427              29.10   \n",
       "99989  ...           3571.70                 33.359987               6.10   \n",
       "\n",
       "      Payment_of_Min_Amount  Total_EMI_per_month  Amount_invested_monthly  \\\n",
       "8                        No            18.816215               104.291825   \n",
       "16                       No           246.992319               168.413703   \n",
       "18                       No           246.992319             10000.000000   \n",
       "20                       No           246.992319               430.947528   \n",
       "29                       No            16.415452                84.952848   \n",
       "...                     ...                  ...                      ...   \n",
       "99920                   Yes           423.731016               282.782346   \n",
       "99935                   Yes            28.182033               191.877779   \n",
       "99937                    No             0.000000               105.076293   \n",
       "99943                    No             0.000000               205.217280   \n",
       "99989                   Yes            60.964772                74.366603   \n",
       "\n",
       "                     Payment_Behaviour  Monthly_Balance Credit_Score  \\\n",
       "8       Low_spent_Small_value_payments       470.690627     Standard   \n",
       "16                              !@9#%8      1043.315978         Good   \n",
       "18     High_spent_Small_value_payments       715.741367         Good   \n",
       "20      Low_spent_Large_value_payments       810.782153         Good   \n",
       "29     High_spent_Small_value_payments       419.880784     Standard   \n",
       "...                                ...              ...          ...   \n",
       "99920  High_spent_Large_value_payments              NaN     Standard   \n",
       "99935   Low_spent_Small_value_payments              NaN         Poor   \n",
       "99937   Low_spent_Large_value_payments              NaN     Standard   \n",
       "99943   Low_spent_Small_value_payments              NaN         Poor   \n",
       "99989                           !@9#%8              NaN     Standard   \n",
       "\n",
       "       Num_of_loan2  \n",
       "8               1.0  \n",
       "16              3.0  \n",
       "18              3.0  \n",
       "20              3.0  \n",
       "29              1.0  \n",
       "...             ...  \n",
       "99920           4.0  \n",
       "99935           4.0  \n",
       "99937           0.0  \n",
       "99943           0.0  \n",
       "99989           5.0  \n",
       "\n",
       "[7024 rows x 29 columns]"
      ]
     },
     "execution_count": 50,
     "metadata": {},
     "output_type": "execute_result"
    }
   ],
   "source": [
    "df[df.Occupation == '_______']"
   ]
  },
  {
   "cell_type": "code",
   "execution_count": 51,
   "id": "30e6dbe4",
   "metadata": {},
   "outputs": [
    {
     "data": {
      "text/html": [
       "<div>\n",
       "<style scoped>\n",
       "    .dataframe tbody tr th:only-of-type {\n",
       "        vertical-align: middle;\n",
       "    }\n",
       "\n",
       "    .dataframe tbody tr th {\n",
       "        vertical-align: top;\n",
       "    }\n",
       "\n",
       "    .dataframe thead th {\n",
       "        text-align: right;\n",
       "    }\n",
       "</style>\n",
       "<table border=\"1\" class=\"dataframe\">\n",
       "  <thead>\n",
       "    <tr style=\"text-align: right;\">\n",
       "      <th></th>\n",
       "      <th>ID</th>\n",
       "      <th>Customer_ID</th>\n",
       "      <th>Month</th>\n",
       "      <th>Name</th>\n",
       "      <th>Age</th>\n",
       "      <th>SSN</th>\n",
       "      <th>Occupation</th>\n",
       "      <th>Annual_Income</th>\n",
       "      <th>Monthly_Inhand_Salary</th>\n",
       "      <th>Num_Bank_Accounts</th>\n",
       "      <th>...</th>\n",
       "      <th>Outstanding_Debt</th>\n",
       "      <th>Credit_Utilization_Ratio</th>\n",
       "      <th>Credit_History_Age</th>\n",
       "      <th>Payment_of_Min_Amount</th>\n",
       "      <th>Total_EMI_per_month</th>\n",
       "      <th>Amount_invested_monthly</th>\n",
       "      <th>Payment_Behaviour</th>\n",
       "      <th>Monthly_Balance</th>\n",
       "      <th>Credit_Score</th>\n",
       "      <th>Num_of_loan2</th>\n",
       "    </tr>\n",
       "  </thead>\n",
       "  <tbody>\n",
       "    <tr>\n",
       "      <th>16</th>\n",
       "      <td>0x161a</td>\n",
       "      <td>CUS_0x2dbc</td>\n",
       "      <td>January</td>\n",
       "      <td>Langep</td>\n",
       "      <td>34</td>\n",
       "      <td>486-85-3974</td>\n",
       "      <td>_______</td>\n",
       "      <td>143162.640</td>\n",
       "      <td>12187.220000</td>\n",
       "      <td>1</td>\n",
       "      <td>...</td>\n",
       "      <td>1303.01</td>\n",
       "      <td>28.616735</td>\n",
       "      <td>17.90</td>\n",
       "      <td>No</td>\n",
       "      <td>246.992319</td>\n",
       "      <td>168.413703</td>\n",
       "      <td>!@9#%8</td>\n",
       "      <td>1043.315978</td>\n",
       "      <td>Good</td>\n",
       "      <td>3.0</td>\n",
       "    </tr>\n",
       "    <tr>\n",
       "      <th>18</th>\n",
       "      <td>0x161c</td>\n",
       "      <td>CUS_0x2dbc</td>\n",
       "      <td>March</td>\n",
       "      <td>Langep</td>\n",
       "      <td>34</td>\n",
       "      <td>486-85-3974</td>\n",
       "      <td>_______</td>\n",
       "      <td>143162.640</td>\n",
       "      <td>NaN</td>\n",
       "      <td>1</td>\n",
       "      <td>...</td>\n",
       "      <td>1303.01</td>\n",
       "      <td>26.519815</td>\n",
       "      <td>17.11</td>\n",
       "      <td>No</td>\n",
       "      <td>246.992319</td>\n",
       "      <td>10000.000000</td>\n",
       "      <td>High_spent_Small_value_payments</td>\n",
       "      <td>715.741367</td>\n",
       "      <td>Good</td>\n",
       "      <td>3.0</td>\n",
       "    </tr>\n",
       "    <tr>\n",
       "      <th>19</th>\n",
       "      <td>0x161d</td>\n",
       "      <td>CUS_0x2dbc</td>\n",
       "      <td>April</td>\n",
       "      <td>Langep</td>\n",
       "      <td>34</td>\n",
       "      <td>486-85-3974</td>\n",
       "      <td>Engineer</td>\n",
       "      <td>143162.640</td>\n",
       "      <td>12187.220000</td>\n",
       "      <td>1</td>\n",
       "      <td>...</td>\n",
       "      <td>1303.01</td>\n",
       "      <td>39.501648</td>\n",
       "      <td>NaN</td>\n",
       "      <td>No</td>\n",
       "      <td>246.992319</td>\n",
       "      <td>825.216270</td>\n",
       "      <td>Low_spent_Medium_value_payments</td>\n",
       "      <td>426.513411</td>\n",
       "      <td>Good</td>\n",
       "      <td>3.0</td>\n",
       "    </tr>\n",
       "    <tr>\n",
       "      <th>20</th>\n",
       "      <td>0x161e</td>\n",
       "      <td>CUS_0x2dbc</td>\n",
       "      <td>May</td>\n",
       "      <td>Langep</td>\n",
       "      <td>34</td>\n",
       "      <td>486-85-3974</td>\n",
       "      <td>_______</td>\n",
       "      <td>143162.640</td>\n",
       "      <td>12187.220000</td>\n",
       "      <td>1</td>\n",
       "      <td>...</td>\n",
       "      <td>1303.01</td>\n",
       "      <td>31.376150</td>\n",
       "      <td>18.10</td>\n",
       "      <td>No</td>\n",
       "      <td>246.992319</td>\n",
       "      <td>430.947528</td>\n",
       "      <td>Low_spent_Large_value_payments</td>\n",
       "      <td>810.782153</td>\n",
       "      <td>Good</td>\n",
       "      <td>3.0</td>\n",
       "    </tr>\n",
       "    <tr>\n",
       "      <th>21</th>\n",
       "      <td>0x161f</td>\n",
       "      <td>CUS_0x2dbc</td>\n",
       "      <td>June</td>\n",
       "      <td>Langep</td>\n",
       "      <td>34</td>\n",
       "      <td>486-85-3974</td>\n",
       "      <td>Engineer</td>\n",
       "      <td>143162.640</td>\n",
       "      <td>12187.220000</td>\n",
       "      <td>1</td>\n",
       "      <td>...</td>\n",
       "      <td>1303.01</td>\n",
       "      <td>39.783993</td>\n",
       "      <td>18.20</td>\n",
       "      <td>No</td>\n",
       "      <td>246.992319</td>\n",
       "      <td>257.808099</td>\n",
       "      <td>High_spent_Medium_value_payments</td>\n",
       "      <td>963.921581</td>\n",
       "      <td>Good</td>\n",
       "      <td>3.0</td>\n",
       "    </tr>\n",
       "    <tr>\n",
       "      <th>23</th>\n",
       "      <td>0x1621</td>\n",
       "      <td>CUS_0x2dbc</td>\n",
       "      <td>August</td>\n",
       "      <td>Langep</td>\n",
       "      <td>34</td>\n",
       "      <td>486-85-3974</td>\n",
       "      <td>Engineer</td>\n",
       "      <td>143162.640</td>\n",
       "      <td>12187.220000</td>\n",
       "      <td>1</td>\n",
       "      <td>...</td>\n",
       "      <td>1303.01</td>\n",
       "      <td>38.374753</td>\n",
       "      <td>18.40</td>\n",
       "      <td>No</td>\n",
       "      <td>246.992319</td>\n",
       "      <td>10000.000000</td>\n",
       "      <td>High_spent_Small_value_payments</td>\n",
       "      <td>895.494583</td>\n",
       "      <td>Standard</td>\n",
       "      <td>3.0</td>\n",
       "    </tr>\n",
       "    <tr>\n",
       "      <th>11872</th>\n",
       "      <td>0x5b92</td>\n",
       "      <td>CUS_0xaf95</td>\n",
       "      <td>January</td>\n",
       "      <td>Langep</td>\n",
       "      <td>38</td>\n",
       "      <td>917-87-3520</td>\n",
       "      <td>Accountant</td>\n",
       "      <td>10418.045</td>\n",
       "      <td>994.170417</td>\n",
       "      <td>9</td>\n",
       "      <td>...</td>\n",
       "      <td>3599.97</td>\n",
       "      <td>25.100129</td>\n",
       "      <td>8.70</td>\n",
       "      <td>Yes</td>\n",
       "      <td>27.594591</td>\n",
       "      <td>38.346524</td>\n",
       "      <td>Low_spent_Small_value_payments</td>\n",
       "      <td>323.475926</td>\n",
       "      <td>Standard</td>\n",
       "      <td>6.0</td>\n",
       "    </tr>\n",
       "    <tr>\n",
       "      <th>11873</th>\n",
       "      <td>0x5b93</td>\n",
       "      <td>CUS_0xaf95</td>\n",
       "      <td>February</td>\n",
       "      <td>Langep</td>\n",
       "      <td>38</td>\n",
       "      <td>917-87-3520</td>\n",
       "      <td>_______</td>\n",
       "      <td>10418.045</td>\n",
       "      <td>994.170417</td>\n",
       "      <td>9</td>\n",
       "      <td>...</td>\n",
       "      <td>3599.97</td>\n",
       "      <td>39.090271</td>\n",
       "      <td>8.80</td>\n",
       "      <td>Yes</td>\n",
       "      <td>27.594591</td>\n",
       "      <td>91.720676</td>\n",
       "      <td>Low_spent_Large_value_payments</td>\n",
       "      <td>250.101775</td>\n",
       "      <td>Standard</td>\n",
       "      <td>6.0</td>\n",
       "    </tr>\n",
       "    <tr>\n",
       "      <th>11874</th>\n",
       "      <td>0x5b94</td>\n",
       "      <td>CUS_0xaf95</td>\n",
       "      <td>March</td>\n",
       "      <td>Langep</td>\n",
       "      <td>38</td>\n",
       "      <td>917-87-3520</td>\n",
       "      <td>Accountant</td>\n",
       "      <td>10418.045</td>\n",
       "      <td>994.170417</td>\n",
       "      <td>9</td>\n",
       "      <td>...</td>\n",
       "      <td>3599.97</td>\n",
       "      <td>34.731204</td>\n",
       "      <td>NaN</td>\n",
       "      <td>NM</td>\n",
       "      <td>27.594591</td>\n",
       "      <td>107.005518</td>\n",
       "      <td>Low_spent_Small_value_payments</td>\n",
       "      <td>254.816932</td>\n",
       "      <td>Standard</td>\n",
       "      <td>6.0</td>\n",
       "    </tr>\n",
       "    <tr>\n",
       "      <th>11875</th>\n",
       "      <td>0x5b95</td>\n",
       "      <td>CUS_0xaf95</td>\n",
       "      <td>April</td>\n",
       "      <td>Langep</td>\n",
       "      <td>38</td>\n",
       "      <td>917-87-3520</td>\n",
       "      <td>Accountant</td>\n",
       "      <td>10418.045</td>\n",
       "      <td>994.170417</td>\n",
       "      <td>9</td>\n",
       "      <td>...</td>\n",
       "      <td>3599.97</td>\n",
       "      <td>23.725047</td>\n",
       "      <td>8.10</td>\n",
       "      <td>Yes</td>\n",
       "      <td>27.594591</td>\n",
       "      <td>49.791413</td>\n",
       "      <td>Low_spent_Small_value_payments</td>\n",
       "      <td>312.031038</td>\n",
       "      <td>Standard</td>\n",
       "      <td>6.0</td>\n",
       "    </tr>\n",
       "    <tr>\n",
       "      <th>11876</th>\n",
       "      <td>0x5b96</td>\n",
       "      <td>CUS_0xaf95</td>\n",
       "      <td>May</td>\n",
       "      <td>Langep</td>\n",
       "      <td>38</td>\n",
       "      <td>917-87-3520</td>\n",
       "      <td>Accountant</td>\n",
       "      <td>10418.045</td>\n",
       "      <td>994.170417</td>\n",
       "      <td>9</td>\n",
       "      <td>...</td>\n",
       "      <td>3599.97</td>\n",
       "      <td>29.596306</td>\n",
       "      <td>8.11</td>\n",
       "      <td>Yes</td>\n",
       "      <td>27.594591</td>\n",
       "      <td>39.661098</td>\n",
       "      <td>!@9#%8</td>\n",
       "      <td>322.161353</td>\n",
       "      <td>Standard</td>\n",
       "      <td>6.0</td>\n",
       "    </tr>\n",
       "    <tr>\n",
       "      <th>11877</th>\n",
       "      <td>0x5b97</td>\n",
       "      <td>CUS_0xaf95</td>\n",
       "      <td>June</td>\n",
       "      <td>Langep</td>\n",
       "      <td>38</td>\n",
       "      <td>917-87-3520</td>\n",
       "      <td>Accountant</td>\n",
       "      <td>10418.045</td>\n",
       "      <td>994.170417</td>\n",
       "      <td>9</td>\n",
       "      <td>...</td>\n",
       "      <td>3599.97</td>\n",
       "      <td>25.640773</td>\n",
       "      <td>9.00</td>\n",
       "      <td>Yes</td>\n",
       "      <td>54106.000000</td>\n",
       "      <td>88.849888</td>\n",
       "      <td>Low_spent_Small_value_payments</td>\n",
       "      <td>272.972562</td>\n",
       "      <td>Standard</td>\n",
       "      <td>6.0</td>\n",
       "    </tr>\n",
       "    <tr>\n",
       "      <th>11878</th>\n",
       "      <td>0x5b98</td>\n",
       "      <td>CUS_0xaf95</td>\n",
       "      <td>July</td>\n",
       "      <td>Langep</td>\n",
       "      <td>39</td>\n",
       "      <td>#F%$D@*&amp;8</td>\n",
       "      <td>Accountant</td>\n",
       "      <td>10418.045</td>\n",
       "      <td>NaN</td>\n",
       "      <td>9</td>\n",
       "      <td>...</td>\n",
       "      <td>3599.97</td>\n",
       "      <td>24.789920</td>\n",
       "      <td>9.10</td>\n",
       "      <td>Yes</td>\n",
       "      <td>27.594591</td>\n",
       "      <td>83.308248</td>\n",
       "      <td>Low_spent_Small_value_payments</td>\n",
       "      <td>278.514203</td>\n",
       "      <td>Standard</td>\n",
       "      <td>6.0</td>\n",
       "    </tr>\n",
       "    <tr>\n",
       "      <th>11879</th>\n",
       "      <td>0x5b99</td>\n",
       "      <td>CUS_0xaf95</td>\n",
       "      <td>August</td>\n",
       "      <td>Langep</td>\n",
       "      <td>39</td>\n",
       "      <td>917-87-3520</td>\n",
       "      <td>Accountant</td>\n",
       "      <td>10418.045</td>\n",
       "      <td>994.170417</td>\n",
       "      <td>9</td>\n",
       "      <td>...</td>\n",
       "      <td>3599.97</td>\n",
       "      <td>26.751006</td>\n",
       "      <td>9.20</td>\n",
       "      <td>Yes</td>\n",
       "      <td>27.594591</td>\n",
       "      <td>30.093083</td>\n",
       "      <td>Low_spent_Medium_value_payments</td>\n",
       "      <td>321.729368</td>\n",
       "      <td>Standard</td>\n",
       "      <td>6.0</td>\n",
       "    </tr>\n",
       "    <tr>\n",
       "      <th>44856</th>\n",
       "      <td>0x11cd6</td>\n",
       "      <td>CUS_0x109d</td>\n",
       "      <td>January</td>\n",
       "      <td>Langep</td>\n",
       "      <td>500</td>\n",
       "      <td>260-21-1290</td>\n",
       "      <td>Writer</td>\n",
       "      <td>49140.870</td>\n",
       "      <td>4377.072500</td>\n",
       "      <td>10</td>\n",
       "      <td>...</td>\n",
       "      <td>2950.80</td>\n",
       "      <td>28.875662</td>\n",
       "      <td>NaN</td>\n",
       "      <td>NM</td>\n",
       "      <td>154.172426</td>\n",
       "      <td>113.594707</td>\n",
       "      <td>High_spent_Large_value_payments</td>\n",
       "      <td>409.940117</td>\n",
       "      <td>Standard</td>\n",
       "      <td>6.0</td>\n",
       "    </tr>\n",
       "    <tr>\n",
       "      <th>44857</th>\n",
       "      <td>0x11cd7</td>\n",
       "      <td>CUS_0x109d</td>\n",
       "      <td>February</td>\n",
       "      <td>Langep</td>\n",
       "      <td>44</td>\n",
       "      <td>260-21-1290</td>\n",
       "      <td>Writer</td>\n",
       "      <td>49140.870</td>\n",
       "      <td>4377.072500</td>\n",
       "      <td>10</td>\n",
       "      <td>...</td>\n",
       "      <td>2950.80</td>\n",
       "      <td>25.294527</td>\n",
       "      <td>6.00</td>\n",
       "      <td>Yes</td>\n",
       "      <td>154.172426</td>\n",
       "      <td>NaN</td>\n",
       "      <td>!@9#%8</td>\n",
       "      <td>361.536898</td>\n",
       "      <td>Standard</td>\n",
       "      <td>6.0</td>\n",
       "    </tr>\n",
       "    <tr>\n",
       "      <th>44858</th>\n",
       "      <td>0x11cd8</td>\n",
       "      <td>CUS_0x109d</td>\n",
       "      <td>March</td>\n",
       "      <td>Langep</td>\n",
       "      <td>45</td>\n",
       "      <td>#F%$D@*&amp;8</td>\n",
       "      <td>Writer</td>\n",
       "      <td>49140.870</td>\n",
       "      <td>4377.072500</td>\n",
       "      <td>232</td>\n",
       "      <td>...</td>\n",
       "      <td>2950.80</td>\n",
       "      <td>34.142258</td>\n",
       "      <td>6.10</td>\n",
       "      <td>Yes</td>\n",
       "      <td>154.172426</td>\n",
       "      <td>177.298309</td>\n",
       "      <td>High_spent_Small_value_payments</td>\n",
       "      <td>366.236515</td>\n",
       "      <td>Standard</td>\n",
       "      <td>6.0</td>\n",
       "    </tr>\n",
       "    <tr>\n",
       "      <th>44859</th>\n",
       "      <td>0x11cd9</td>\n",
       "      <td>CUS_0x109d</td>\n",
       "      <td>April</td>\n",
       "      <td>Langep</td>\n",
       "      <td>45</td>\n",
       "      <td>260-21-1290</td>\n",
       "      <td>Writer</td>\n",
       "      <td>49140.870</td>\n",
       "      <td>4377.072500</td>\n",
       "      <td>10</td>\n",
       "      <td>...</td>\n",
       "      <td>2950.80</td>\n",
       "      <td>26.586091</td>\n",
       "      <td>6.20</td>\n",
       "      <td>NM</td>\n",
       "      <td>154.172426</td>\n",
       "      <td>102.231219</td>\n",
       "      <td>High_spent_Large_value_payments</td>\n",
       "      <td>421.303604</td>\n",
       "      <td>Standard</td>\n",
       "      <td>6.0</td>\n",
       "    </tr>\n",
       "    <tr>\n",
       "      <th>44860</th>\n",
       "      <td>0x11cda</td>\n",
       "      <td>CUS_0x109d</td>\n",
       "      <td>May</td>\n",
       "      <td>Langep</td>\n",
       "      <td>45</td>\n",
       "      <td>260-21-1290</td>\n",
       "      <td>Writer</td>\n",
       "      <td>49140.870</td>\n",
       "      <td>4377.072500</td>\n",
       "      <td>10</td>\n",
       "      <td>...</td>\n",
       "      <td>2950.80</td>\n",
       "      <td>40.657363</td>\n",
       "      <td>6.30</td>\n",
       "      <td>Yes</td>\n",
       "      <td>154.172426</td>\n",
       "      <td>112.356043</td>\n",
       "      <td>High_spent_Small_value_payments</td>\n",
       "      <td>431.178781</td>\n",
       "      <td>Standard</td>\n",
       "      <td>6.0</td>\n",
       "    </tr>\n",
       "    <tr>\n",
       "      <th>44861</th>\n",
       "      <td>0x11cdb</td>\n",
       "      <td>CUS_0x109d</td>\n",
       "      <td>June</td>\n",
       "      <td>Langep</td>\n",
       "      <td>45</td>\n",
       "      <td>260-21-1290</td>\n",
       "      <td>Writer</td>\n",
       "      <td>49140.870</td>\n",
       "      <td>4377.072500</td>\n",
       "      <td>10</td>\n",
       "      <td>...</td>\n",
       "      <td>2950.80</td>\n",
       "      <td>28.706417</td>\n",
       "      <td>6.40</td>\n",
       "      <td>Yes</td>\n",
       "      <td>154.172426</td>\n",
       "      <td>226.731296</td>\n",
       "      <td>High_spent_Small_value_payments</td>\n",
       "      <td>316.803528</td>\n",
       "      <td>Standard</td>\n",
       "      <td>6.0</td>\n",
       "    </tr>\n",
       "    <tr>\n",
       "      <th>44862</th>\n",
       "      <td>0x11cdc</td>\n",
       "      <td>CUS_0x109d</td>\n",
       "      <td>July</td>\n",
       "      <td>Langep</td>\n",
       "      <td>45</td>\n",
       "      <td>260-21-1290</td>\n",
       "      <td>Writer</td>\n",
       "      <td>49140.870</td>\n",
       "      <td>4377.072500</td>\n",
       "      <td>10</td>\n",
       "      <td>...</td>\n",
       "      <td>2950.80</td>\n",
       "      <td>28.446317</td>\n",
       "      <td>6.50</td>\n",
       "      <td>Yes</td>\n",
       "      <td>154.172426</td>\n",
       "      <td>269.190939</td>\n",
       "      <td>High_spent_Small_value_payments</td>\n",
       "      <td>274.343885</td>\n",
       "      <td>Standard</td>\n",
       "      <td>6.0</td>\n",
       "    </tr>\n",
       "    <tr>\n",
       "      <th>44863</th>\n",
       "      <td>0x11cdd</td>\n",
       "      <td>CUS_0x109d</td>\n",
       "      <td>August</td>\n",
       "      <td>Langep</td>\n",
       "      <td>45</td>\n",
       "      <td>260-21-1290</td>\n",
       "      <td>Writer</td>\n",
       "      <td>49140.870</td>\n",
       "      <td>4377.072500</td>\n",
       "      <td>10</td>\n",
       "      <td>...</td>\n",
       "      <td>2950.80</td>\n",
       "      <td>31.163786</td>\n",
       "      <td>6.60</td>\n",
       "      <td>NM</td>\n",
       "      <td>154.172426</td>\n",
       "      <td>301.593795</td>\n",
       "      <td>Low_spent_Small_value_payments</td>\n",
       "      <td>271.941029</td>\n",
       "      <td>Standard</td>\n",
       "      <td>6.0</td>\n",
       "    </tr>\n",
       "    <tr>\n",
       "      <th>53272</th>\n",
       "      <td>0x14e26</td>\n",
       "      <td>CUS_0x4854</td>\n",
       "      <td>January</td>\n",
       "      <td>Langep</td>\n",
       "      <td>44</td>\n",
       "      <td>564-50-3217</td>\n",
       "      <td>Accountant</td>\n",
       "      <td>66012.280</td>\n",
       "      <td>5400.023333</td>\n",
       "      <td>10</td>\n",
       "      <td>...</td>\n",
       "      <td>3696.36</td>\n",
       "      <td>38.731936</td>\n",
       "      <td>13.70</td>\n",
       "      <td>Yes</td>\n",
       "      <td>227.301860</td>\n",
       "      <td>10000.000000</td>\n",
       "      <td>High_spent_Medium_value_payments</td>\n",
       "      <td>441.231197</td>\n",
       "      <td>Standard</td>\n",
       "      <td>6.0</td>\n",
       "    </tr>\n",
       "    <tr>\n",
       "      <th>53273</th>\n",
       "      <td>0x14e27</td>\n",
       "      <td>CUS_0x4854</td>\n",
       "      <td>February</td>\n",
       "      <td>Langep</td>\n",
       "      <td>44</td>\n",
       "      <td>564-50-3217</td>\n",
       "      <td>Accountant</td>\n",
       "      <td>66012.280</td>\n",
       "      <td>5400.023333</td>\n",
       "      <td>10</td>\n",
       "      <td>...</td>\n",
       "      <td>3696.36</td>\n",
       "      <td>38.395068</td>\n",
       "      <td>13.80</td>\n",
       "      <td>Yes</td>\n",
       "      <td>227.301860</td>\n",
       "      <td>302.328788</td>\n",
       "      <td>High_spent_Small_value_payments</td>\n",
       "      <td>270.371686</td>\n",
       "      <td>Standard</td>\n",
       "      <td>6.0</td>\n",
       "    </tr>\n",
       "    <tr>\n",
       "      <th>53274</th>\n",
       "      <td>0x14e28</td>\n",
       "      <td>CUS_0x4854</td>\n",
       "      <td>March</td>\n",
       "      <td>Langep</td>\n",
       "      <td>44</td>\n",
       "      <td>564-50-3217</td>\n",
       "      <td>Accountant</td>\n",
       "      <td>66012.280</td>\n",
       "      <td>NaN</td>\n",
       "      <td>10</td>\n",
       "      <td>...</td>\n",
       "      <td>3696.36</td>\n",
       "      <td>33.302369</td>\n",
       "      <td>13.90</td>\n",
       "      <td>Yes</td>\n",
       "      <td>227.301860</td>\n",
       "      <td>285.728217</td>\n",
       "      <td>Low_spent_Small_value_payments</td>\n",
       "      <td>316.972257</td>\n",
       "      <td>Standard</td>\n",
       "      <td>6.0</td>\n",
       "    </tr>\n",
       "    <tr>\n",
       "      <th>53275</th>\n",
       "      <td>0x14e29</td>\n",
       "      <td>CUS_0x4854</td>\n",
       "      <td>April</td>\n",
       "      <td>Langep</td>\n",
       "      <td>44</td>\n",
       "      <td>564-50-3217</td>\n",
       "      <td>Accountant</td>\n",
       "      <td>66012.280</td>\n",
       "      <td>5400.023333</td>\n",
       "      <td>10</td>\n",
       "      <td>...</td>\n",
       "      <td>3696.36</td>\n",
       "      <td>39.774138</td>\n",
       "      <td>13.10</td>\n",
       "      <td>Yes</td>\n",
       "      <td>227.301860</td>\n",
       "      <td>226.804565</td>\n",
       "      <td>Low_spent_Small_value_payments</td>\n",
       "      <td>375.895908</td>\n",
       "      <td>Standard</td>\n",
       "      <td>6.0</td>\n",
       "    </tr>\n",
       "    <tr>\n",
       "      <th>53276</th>\n",
       "      <td>0x14e2a</td>\n",
       "      <td>CUS_0x4854</td>\n",
       "      <td>May</td>\n",
       "      <td>Langep</td>\n",
       "      <td>44</td>\n",
       "      <td>564-50-3217</td>\n",
       "      <td>Accountant</td>\n",
       "      <td>66012.280</td>\n",
       "      <td>NaN</td>\n",
       "      <td>10</td>\n",
       "      <td>...</td>\n",
       "      <td>3696.36</td>\n",
       "      <td>26.076722</td>\n",
       "      <td>13.11</td>\n",
       "      <td>Yes</td>\n",
       "      <td>227.301860</td>\n",
       "      <td>NaN</td>\n",
       "      <td>Low_spent_Small_value_payments</td>\n",
       "      <td>NaN</td>\n",
       "      <td>Standard</td>\n",
       "      <td>6.0</td>\n",
       "    </tr>\n",
       "    <tr>\n",
       "      <th>53277</th>\n",
       "      <td>0x14e2b</td>\n",
       "      <td>CUS_0x4854</td>\n",
       "      <td>June</td>\n",
       "      <td>Langep</td>\n",
       "      <td>44</td>\n",
       "      <td>#F%$D@*&amp;8</td>\n",
       "      <td>Accountant</td>\n",
       "      <td>66012.280</td>\n",
       "      <td>5400.023333</td>\n",
       "      <td>10</td>\n",
       "      <td>...</td>\n",
       "      <td>3696.36</td>\n",
       "      <td>23.408542</td>\n",
       "      <td>14.00</td>\n",
       "      <td>Yes</td>\n",
       "      <td>227.301860</td>\n",
       "      <td>353.263028</td>\n",
       "      <td>High_spent_Small_value_payments</td>\n",
       "      <td>219.437445</td>\n",
       "      <td>Standard</td>\n",
       "      <td>6.0</td>\n",
       "    </tr>\n",
       "    <tr>\n",
       "      <th>53278</th>\n",
       "      <td>0x14e2c</td>\n",
       "      <td>CUS_0x4854</td>\n",
       "      <td>July</td>\n",
       "      <td>Langep</td>\n",
       "      <td>44</td>\n",
       "      <td>564-50-3217</td>\n",
       "      <td>Accountant</td>\n",
       "      <td>66012.280</td>\n",
       "      <td>5400.023333</td>\n",
       "      <td>10</td>\n",
       "      <td>...</td>\n",
       "      <td>3696.36</td>\n",
       "      <td>27.893745</td>\n",
       "      <td>14.10</td>\n",
       "      <td>Yes</td>\n",
       "      <td>227.301860</td>\n",
       "      <td>219.868867</td>\n",
       "      <td>Low_spent_Large_value_payments</td>\n",
       "      <td>362.831606</td>\n",
       "      <td>Standard</td>\n",
       "      <td>6.0</td>\n",
       "    </tr>\n",
       "    <tr>\n",
       "      <th>53279</th>\n",
       "      <td>0x14e2d</td>\n",
       "      <td>CUS_0x4854</td>\n",
       "      <td>August</td>\n",
       "      <td>Langep</td>\n",
       "      <td>44</td>\n",
       "      <td>564-50-3217</td>\n",
       "      <td>Accountant</td>\n",
       "      <td>66012.280</td>\n",
       "      <td>5400.023333</td>\n",
       "      <td>10</td>\n",
       "      <td>...</td>\n",
       "      <td>3696.36</td>\n",
       "      <td>29.570505</td>\n",
       "      <td>14.20</td>\n",
       "      <td>Yes</td>\n",
       "      <td>227.301860</td>\n",
       "      <td>118.053016</td>\n",
       "      <td>High_spent_Medium_value_payments</td>\n",
       "      <td>444.647458</td>\n",
       "      <td>Standard</td>\n",
       "      <td>6.0</td>\n",
       "    </tr>\n",
       "    <tr>\n",
       "      <th>61376</th>\n",
       "      <td>0x17da2</td>\n",
       "      <td>CUS_0xba1c</td>\n",
       "      <td>January</td>\n",
       "      <td>Langep</td>\n",
       "      <td>32</td>\n",
       "      <td>419-82-4747</td>\n",
       "      <td>Lawyer</td>\n",
       "      <td>41757.440</td>\n",
       "      <td>3317.786667</td>\n",
       "      <td>6</td>\n",
       "      <td>...</td>\n",
       "      <td>1360.45</td>\n",
       "      <td>33.287966</td>\n",
       "      <td>17.40</td>\n",
       "      <td>Yes</td>\n",
       "      <td>100.069628</td>\n",
       "      <td>35.226764</td>\n",
       "      <td>!@9#%8</td>\n",
       "      <td>436.482274</td>\n",
       "      <td>Poor</td>\n",
       "      <td>3.0</td>\n",
       "    </tr>\n",
       "    <tr>\n",
       "      <th>61377</th>\n",
       "      <td>0x17da3</td>\n",
       "      <td>CUS_0xba1c</td>\n",
       "      <td>February</td>\n",
       "      <td>Langep</td>\n",
       "      <td>32</td>\n",
       "      <td>419-82-4747</td>\n",
       "      <td>Lawyer</td>\n",
       "      <td>41757.440</td>\n",
       "      <td>3317.786667</td>\n",
       "      <td>6</td>\n",
       "      <td>...</td>\n",
       "      <td>1360.45</td>\n",
       "      <td>34.432490</td>\n",
       "      <td>17.50</td>\n",
       "      <td>Yes</td>\n",
       "      <td>100.069628</td>\n",
       "      <td>116.263980</td>\n",
       "      <td>High_spent_Medium_value_payments</td>\n",
       "      <td>365.445059</td>\n",
       "      <td>Poor</td>\n",
       "      <td>3.0</td>\n",
       "    </tr>\n",
       "    <tr>\n",
       "      <th>61378</th>\n",
       "      <td>0x17da4</td>\n",
       "      <td>CUS_0xba1c</td>\n",
       "      <td>March</td>\n",
       "      <td>Langep</td>\n",
       "      <td>32</td>\n",
       "      <td>419-82-4747</td>\n",
       "      <td>Lawyer</td>\n",
       "      <td>41757.440</td>\n",
       "      <td>NaN</td>\n",
       "      <td>6</td>\n",
       "      <td>...</td>\n",
       "      <td>1360.45</td>\n",
       "      <td>34.007853</td>\n",
       "      <td>17.60</td>\n",
       "      <td>Yes</td>\n",
       "      <td>100.069628</td>\n",
       "      <td>66.570683</td>\n",
       "      <td>!@9#%8</td>\n",
       "      <td>425.138356</td>\n",
       "      <td>Poor</td>\n",
       "      <td>3.0</td>\n",
       "    </tr>\n",
       "    <tr>\n",
       "      <th>61379</th>\n",
       "      <td>0x17da5</td>\n",
       "      <td>CUS_0xba1c</td>\n",
       "      <td>April</td>\n",
       "      <td>Langep</td>\n",
       "      <td>32</td>\n",
       "      <td>419-82-4747</td>\n",
       "      <td>Lawyer</td>\n",
       "      <td>41757.440</td>\n",
       "      <td>3317.786667</td>\n",
       "      <td>6</td>\n",
       "      <td>...</td>\n",
       "      <td>1360.45</td>\n",
       "      <td>25.616749</td>\n",
       "      <td>17.70</td>\n",
       "      <td>Yes</td>\n",
       "      <td>100.069628</td>\n",
       "      <td>31.565207</td>\n",
       "      <td>High_spent_Large_value_payments</td>\n",
       "      <td>440.143831</td>\n",
       "      <td>Standard</td>\n",
       "      <td>3.0</td>\n",
       "    </tr>\n",
       "    <tr>\n",
       "      <th>61381</th>\n",
       "      <td>0x17da7</td>\n",
       "      <td>CUS_0xba1c</td>\n",
       "      <td>June</td>\n",
       "      <td>Langep</td>\n",
       "      <td>32</td>\n",
       "      <td>419-82-4747</td>\n",
       "      <td>Lawyer</td>\n",
       "      <td>41757.440</td>\n",
       "      <td>3317.786667</td>\n",
       "      <td>6</td>\n",
       "      <td>...</td>\n",
       "      <td>1360.45</td>\n",
       "      <td>38.816413</td>\n",
       "      <td>17.90</td>\n",
       "      <td>NM</td>\n",
       "      <td>100.069628</td>\n",
       "      <td>79.967735</td>\n",
       "      <td>High_spent_Large_value_payments</td>\n",
       "      <td>391.741304</td>\n",
       "      <td>Poor</td>\n",
       "      <td>3.0</td>\n",
       "    </tr>\n",
       "    <tr>\n",
       "      <th>61382</th>\n",
       "      <td>0x17da8</td>\n",
       "      <td>CUS_0xba1c</td>\n",
       "      <td>July</td>\n",
       "      <td>Langep</td>\n",
       "      <td>32</td>\n",
       "      <td>419-82-4747</td>\n",
       "      <td>Lawyer</td>\n",
       "      <td>41757.440</td>\n",
       "      <td>3317.786667</td>\n",
       "      <td>6</td>\n",
       "      <td>...</td>\n",
       "      <td>1360.45</td>\n",
       "      <td>28.265031</td>\n",
       "      <td>17.10</td>\n",
       "      <td>Yes</td>\n",
       "      <td>100.069628</td>\n",
       "      <td>248.389449</td>\n",
       "      <td>Low_spent_Small_value_payments</td>\n",
       "      <td>273.319589</td>\n",
       "      <td>Poor</td>\n",
       "      <td>3.0</td>\n",
       "    </tr>\n",
       "    <tr>\n",
       "      <th>61383</th>\n",
       "      <td>0x17da9</td>\n",
       "      <td>CUS_0xba1c</td>\n",
       "      <td>August</td>\n",
       "      <td>Langep</td>\n",
       "      <td>33</td>\n",
       "      <td>419-82-4747</td>\n",
       "      <td>Lawyer</td>\n",
       "      <td>41757.440</td>\n",
       "      <td>NaN</td>\n",
       "      <td>6</td>\n",
       "      <td>...</td>\n",
       "      <td>1360.45</td>\n",
       "      <td>37.542362</td>\n",
       "      <td>17.11</td>\n",
       "      <td>Yes</td>\n",
       "      <td>100.069628</td>\n",
       "      <td>117.109002</td>\n",
       "      <td>High_spent_Small_value_payments</td>\n",
       "      <td>374.600037</td>\n",
       "      <td>Poor</td>\n",
       "      <td>3.0</td>\n",
       "    </tr>\n",
       "    <tr>\n",
       "      <th>76872</th>\n",
       "      <td>0x1d86e</td>\n",
       "      <td>CUS_0x7a96</td>\n",
       "      <td>January</td>\n",
       "      <td>Langep</td>\n",
       "      <td>29</td>\n",
       "      <td>255-67-1198</td>\n",
       "      <td>Manager</td>\n",
       "      <td>24424.700</td>\n",
       "      <td>2051.391667</td>\n",
       "      <td>8</td>\n",
       "      <td>...</td>\n",
       "      <td>626.57</td>\n",
       "      <td>26.238410</td>\n",
       "      <td>22.20</td>\n",
       "      <td>Yes</td>\n",
       "      <td>0.000000</td>\n",
       "      <td>NaN</td>\n",
       "      <td>Low_spent_Small_value_payments</td>\n",
       "      <td>336.324382</td>\n",
       "      <td>Standard</td>\n",
       "      <td>0.0</td>\n",
       "    </tr>\n",
       "    <tr>\n",
       "      <th>76873</th>\n",
       "      <td>0x1d86f</td>\n",
       "      <td>CUS_0x7a96</td>\n",
       "      <td>February</td>\n",
       "      <td>Langep</td>\n",
       "      <td>29</td>\n",
       "      <td>255-67-1198</td>\n",
       "      <td>Manager</td>\n",
       "      <td>24424.700</td>\n",
       "      <td>2051.391667</td>\n",
       "      <td>8</td>\n",
       "      <td>...</td>\n",
       "      <td>626.57</td>\n",
       "      <td>27.436075</td>\n",
       "      <td>22.30</td>\n",
       "      <td>NM</td>\n",
       "      <td>0.000000</td>\n",
       "      <td>34.482412</td>\n",
       "      <td>High_spent_Large_value_payments</td>\n",
       "      <td>410.656754</td>\n",
       "      <td>Standard</td>\n",
       "      <td>0.0</td>\n",
       "    </tr>\n",
       "    <tr>\n",
       "      <th>76874</th>\n",
       "      <td>0x1d870</td>\n",
       "      <td>CUS_0x7a96</td>\n",
       "      <td>March</td>\n",
       "      <td>Langep</td>\n",
       "      <td>29</td>\n",
       "      <td>255-67-1198</td>\n",
       "      <td>Manager</td>\n",
       "      <td>24424.700</td>\n",
       "      <td>2051.391667</td>\n",
       "      <td>8</td>\n",
       "      <td>...</td>\n",
       "      <td>626.57</td>\n",
       "      <td>35.133788</td>\n",
       "      <td>22.40</td>\n",
       "      <td>Yes</td>\n",
       "      <td>0.000000</td>\n",
       "      <td>33.299352</td>\n",
       "      <td>High_spent_Medium_value_payments</td>\n",
       "      <td>421.839814</td>\n",
       "      <td>Standard</td>\n",
       "      <td>0.0</td>\n",
       "    </tr>\n",
       "    <tr>\n",
       "      <th>76875</th>\n",
       "      <td>0x1d871</td>\n",
       "      <td>CUS_0x7a96</td>\n",
       "      <td>April</td>\n",
       "      <td>Langep</td>\n",
       "      <td>29</td>\n",
       "      <td>255-67-1198</td>\n",
       "      <td>Manager</td>\n",
       "      <td>24424.700</td>\n",
       "      <td>2051.391667</td>\n",
       "      <td>8</td>\n",
       "      <td>...</td>\n",
       "      <td>626.57</td>\n",
       "      <td>38.554934</td>\n",
       "      <td>22.50</td>\n",
       "      <td>Yes</td>\n",
       "      <td>0.000000</td>\n",
       "      <td>67.214001</td>\n",
       "      <td>Low_spent_Large_value_payments</td>\n",
       "      <td>407.925166</td>\n",
       "      <td>Standard</td>\n",
       "      <td>0.0</td>\n",
       "    </tr>\n",
       "    <tr>\n",
       "      <th>76876</th>\n",
       "      <td>0x1d872</td>\n",
       "      <td>CUS_0x7a96</td>\n",
       "      <td>May</td>\n",
       "      <td>Langep</td>\n",
       "      <td>30</td>\n",
       "      <td>255-67-1198</td>\n",
       "      <td>Manager</td>\n",
       "      <td>24424.700</td>\n",
       "      <td>2051.391667</td>\n",
       "      <td>8</td>\n",
       "      <td>...</td>\n",
       "      <td>626.57</td>\n",
       "      <td>26.159936</td>\n",
       "      <td>22.60</td>\n",
       "      <td>Yes</td>\n",
       "      <td>0.000000</td>\n",
       "      <td>48.404571</td>\n",
       "      <td>High_spent_Small_value_payments</td>\n",
       "      <td>416.734596</td>\n",
       "      <td>Standard</td>\n",
       "      <td>0.0</td>\n",
       "    </tr>\n",
       "    <tr>\n",
       "      <th>76878</th>\n",
       "      <td>0x1d874</td>\n",
       "      <td>CUS_0x7a96</td>\n",
       "      <td>July</td>\n",
       "      <td>Langep</td>\n",
       "      <td>30</td>\n",
       "      <td>255-67-1198</td>\n",
       "      <td>Manager</td>\n",
       "      <td>24424.700</td>\n",
       "      <td>NaN</td>\n",
       "      <td>8</td>\n",
       "      <td>...</td>\n",
       "      <td>626.57</td>\n",
       "      <td>29.053649</td>\n",
       "      <td>22.80</td>\n",
       "      <td>Yes</td>\n",
       "      <td>0.000000</td>\n",
       "      <td>198.737512</td>\n",
       "      <td>Low_spent_Small_value_payments</td>\n",
       "      <td>296.401654</td>\n",
       "      <td>Standard</td>\n",
       "      <td>0.0</td>\n",
       "    </tr>\n",
       "    <tr>\n",
       "      <th>76879</th>\n",
       "      <td>0x1d875</td>\n",
       "      <td>CUS_0x7a96</td>\n",
       "      <td>August</td>\n",
       "      <td>Langep</td>\n",
       "      <td>30</td>\n",
       "      <td>255-67-1198</td>\n",
       "      <td>Manager</td>\n",
       "      <td>24424.700</td>\n",
       "      <td>2051.391667</td>\n",
       "      <td>8</td>\n",
       "      <td>...</td>\n",
       "      <td>626.57</td>\n",
       "      <td>41.621925</td>\n",
       "      <td>22.90</td>\n",
       "      <td>Yes</td>\n",
       "      <td>0.000000</td>\n",
       "      <td>NaN</td>\n",
       "      <td>!@9#%8</td>\n",
       "      <td>364.518337</td>\n",
       "      <td>Standard</td>\n",
       "      <td>0.0</td>\n",
       "    </tr>\n",
       "  </tbody>\n",
       "</table>\n",
       "<p>44 rows × 29 columns</p>\n",
       "</div>"
      ],
      "text/plain": [
       "            ID Customer_ID     Month    Name  Age          SSN  Occupation  \\\n",
       "16      0x161a  CUS_0x2dbc   January  Langep   34  486-85-3974     _______   \n",
       "18      0x161c  CUS_0x2dbc     March  Langep   34  486-85-3974     _______   \n",
       "19      0x161d  CUS_0x2dbc     April  Langep   34  486-85-3974    Engineer   \n",
       "20      0x161e  CUS_0x2dbc       May  Langep   34  486-85-3974     _______   \n",
       "21      0x161f  CUS_0x2dbc      June  Langep   34  486-85-3974    Engineer   \n",
       "23      0x1621  CUS_0x2dbc    August  Langep   34  486-85-3974    Engineer   \n",
       "11872   0x5b92  CUS_0xaf95   January  Langep   38  917-87-3520  Accountant   \n",
       "11873   0x5b93  CUS_0xaf95  February  Langep   38  917-87-3520     _______   \n",
       "11874   0x5b94  CUS_0xaf95     March  Langep   38  917-87-3520  Accountant   \n",
       "11875   0x5b95  CUS_0xaf95     April  Langep   38  917-87-3520  Accountant   \n",
       "11876   0x5b96  CUS_0xaf95       May  Langep   38  917-87-3520  Accountant   \n",
       "11877   0x5b97  CUS_0xaf95      June  Langep   38  917-87-3520  Accountant   \n",
       "11878   0x5b98  CUS_0xaf95      July  Langep   39    #F%$D@*&8  Accountant   \n",
       "11879   0x5b99  CUS_0xaf95    August  Langep   39  917-87-3520  Accountant   \n",
       "44856  0x11cd6  CUS_0x109d   January  Langep  500  260-21-1290      Writer   \n",
       "44857  0x11cd7  CUS_0x109d  February  Langep   44  260-21-1290      Writer   \n",
       "44858  0x11cd8  CUS_0x109d     March  Langep   45    #F%$D@*&8      Writer   \n",
       "44859  0x11cd9  CUS_0x109d     April  Langep   45  260-21-1290      Writer   \n",
       "44860  0x11cda  CUS_0x109d       May  Langep   45  260-21-1290      Writer   \n",
       "44861  0x11cdb  CUS_0x109d      June  Langep   45  260-21-1290      Writer   \n",
       "44862  0x11cdc  CUS_0x109d      July  Langep   45  260-21-1290      Writer   \n",
       "44863  0x11cdd  CUS_0x109d    August  Langep   45  260-21-1290      Writer   \n",
       "53272  0x14e26  CUS_0x4854   January  Langep   44  564-50-3217  Accountant   \n",
       "53273  0x14e27  CUS_0x4854  February  Langep   44  564-50-3217  Accountant   \n",
       "53274  0x14e28  CUS_0x4854     March  Langep   44  564-50-3217  Accountant   \n",
       "53275  0x14e29  CUS_0x4854     April  Langep   44  564-50-3217  Accountant   \n",
       "53276  0x14e2a  CUS_0x4854       May  Langep   44  564-50-3217  Accountant   \n",
       "53277  0x14e2b  CUS_0x4854      June  Langep   44    #F%$D@*&8  Accountant   \n",
       "53278  0x14e2c  CUS_0x4854      July  Langep   44  564-50-3217  Accountant   \n",
       "53279  0x14e2d  CUS_0x4854    August  Langep   44  564-50-3217  Accountant   \n",
       "61376  0x17da2  CUS_0xba1c   January  Langep   32  419-82-4747      Lawyer   \n",
       "61377  0x17da3  CUS_0xba1c  February  Langep   32  419-82-4747      Lawyer   \n",
       "61378  0x17da4  CUS_0xba1c     March  Langep   32  419-82-4747      Lawyer   \n",
       "61379  0x17da5  CUS_0xba1c     April  Langep   32  419-82-4747      Lawyer   \n",
       "61381  0x17da7  CUS_0xba1c      June  Langep   32  419-82-4747      Lawyer   \n",
       "61382  0x17da8  CUS_0xba1c      July  Langep   32  419-82-4747      Lawyer   \n",
       "61383  0x17da9  CUS_0xba1c    August  Langep   33  419-82-4747      Lawyer   \n",
       "76872  0x1d86e  CUS_0x7a96   January  Langep   29  255-67-1198     Manager   \n",
       "76873  0x1d86f  CUS_0x7a96  February  Langep   29  255-67-1198     Manager   \n",
       "76874  0x1d870  CUS_0x7a96     March  Langep   29  255-67-1198     Manager   \n",
       "76875  0x1d871  CUS_0x7a96     April  Langep   29  255-67-1198     Manager   \n",
       "76876  0x1d872  CUS_0x7a96       May  Langep   30  255-67-1198     Manager   \n",
       "76878  0x1d874  CUS_0x7a96      July  Langep   30  255-67-1198     Manager   \n",
       "76879  0x1d875  CUS_0x7a96    August  Langep   30  255-67-1198     Manager   \n",
       "\n",
       "       Annual_Income  Monthly_Inhand_Salary  Num_Bank_Accounts  ...  \\\n",
       "16        143162.640           12187.220000                  1  ...   \n",
       "18        143162.640                    NaN                  1  ...   \n",
       "19        143162.640           12187.220000                  1  ...   \n",
       "20        143162.640           12187.220000                  1  ...   \n",
       "21        143162.640           12187.220000                  1  ...   \n",
       "23        143162.640           12187.220000                  1  ...   \n",
       "11872      10418.045             994.170417                  9  ...   \n",
       "11873      10418.045             994.170417                  9  ...   \n",
       "11874      10418.045             994.170417                  9  ...   \n",
       "11875      10418.045             994.170417                  9  ...   \n",
       "11876      10418.045             994.170417                  9  ...   \n",
       "11877      10418.045             994.170417                  9  ...   \n",
       "11878      10418.045                    NaN                  9  ...   \n",
       "11879      10418.045             994.170417                  9  ...   \n",
       "44856      49140.870            4377.072500                 10  ...   \n",
       "44857      49140.870            4377.072500                 10  ...   \n",
       "44858      49140.870            4377.072500                232  ...   \n",
       "44859      49140.870            4377.072500                 10  ...   \n",
       "44860      49140.870            4377.072500                 10  ...   \n",
       "44861      49140.870            4377.072500                 10  ...   \n",
       "44862      49140.870            4377.072500                 10  ...   \n",
       "44863      49140.870            4377.072500                 10  ...   \n",
       "53272      66012.280            5400.023333                 10  ...   \n",
       "53273      66012.280            5400.023333                 10  ...   \n",
       "53274      66012.280                    NaN                 10  ...   \n",
       "53275      66012.280            5400.023333                 10  ...   \n",
       "53276      66012.280                    NaN                 10  ...   \n",
       "53277      66012.280            5400.023333                 10  ...   \n",
       "53278      66012.280            5400.023333                 10  ...   \n",
       "53279      66012.280            5400.023333                 10  ...   \n",
       "61376      41757.440            3317.786667                  6  ...   \n",
       "61377      41757.440            3317.786667                  6  ...   \n",
       "61378      41757.440                    NaN                  6  ...   \n",
       "61379      41757.440            3317.786667                  6  ...   \n",
       "61381      41757.440            3317.786667                  6  ...   \n",
       "61382      41757.440            3317.786667                  6  ...   \n",
       "61383      41757.440                    NaN                  6  ...   \n",
       "76872      24424.700            2051.391667                  8  ...   \n",
       "76873      24424.700            2051.391667                  8  ...   \n",
       "76874      24424.700            2051.391667                  8  ...   \n",
       "76875      24424.700            2051.391667                  8  ...   \n",
       "76876      24424.700            2051.391667                  8  ...   \n",
       "76878      24424.700                    NaN                  8  ...   \n",
       "76879      24424.700            2051.391667                  8  ...   \n",
       "\n",
       "       Outstanding_Debt  Credit_Utilization_Ratio Credit_History_Age  \\\n",
       "16              1303.01                 28.616735              17.90   \n",
       "18              1303.01                 26.519815              17.11   \n",
       "19              1303.01                 39.501648                NaN   \n",
       "20              1303.01                 31.376150              18.10   \n",
       "21              1303.01                 39.783993              18.20   \n",
       "23              1303.01                 38.374753              18.40   \n",
       "11872           3599.97                 25.100129               8.70   \n",
       "11873           3599.97                 39.090271               8.80   \n",
       "11874           3599.97                 34.731204                NaN   \n",
       "11875           3599.97                 23.725047               8.10   \n",
       "11876           3599.97                 29.596306               8.11   \n",
       "11877           3599.97                 25.640773               9.00   \n",
       "11878           3599.97                 24.789920               9.10   \n",
       "11879           3599.97                 26.751006               9.20   \n",
       "44856           2950.80                 28.875662                NaN   \n",
       "44857           2950.80                 25.294527               6.00   \n",
       "44858           2950.80                 34.142258               6.10   \n",
       "44859           2950.80                 26.586091               6.20   \n",
       "44860           2950.80                 40.657363               6.30   \n",
       "44861           2950.80                 28.706417               6.40   \n",
       "44862           2950.80                 28.446317               6.50   \n",
       "44863           2950.80                 31.163786               6.60   \n",
       "53272           3696.36                 38.731936              13.70   \n",
       "53273           3696.36                 38.395068              13.80   \n",
       "53274           3696.36                 33.302369              13.90   \n",
       "53275           3696.36                 39.774138              13.10   \n",
       "53276           3696.36                 26.076722              13.11   \n",
       "53277           3696.36                 23.408542              14.00   \n",
       "53278           3696.36                 27.893745              14.10   \n",
       "53279           3696.36                 29.570505              14.20   \n",
       "61376           1360.45                 33.287966              17.40   \n",
       "61377           1360.45                 34.432490              17.50   \n",
       "61378           1360.45                 34.007853              17.60   \n",
       "61379           1360.45                 25.616749              17.70   \n",
       "61381           1360.45                 38.816413              17.90   \n",
       "61382           1360.45                 28.265031              17.10   \n",
       "61383           1360.45                 37.542362              17.11   \n",
       "76872            626.57                 26.238410              22.20   \n",
       "76873            626.57                 27.436075              22.30   \n",
       "76874            626.57                 35.133788              22.40   \n",
       "76875            626.57                 38.554934              22.50   \n",
       "76876            626.57                 26.159936              22.60   \n",
       "76878            626.57                 29.053649              22.80   \n",
       "76879            626.57                 41.621925              22.90   \n",
       "\n",
       "      Payment_of_Min_Amount  Total_EMI_per_month  Amount_invested_monthly  \\\n",
       "16                       No           246.992319               168.413703   \n",
       "18                       No           246.992319             10000.000000   \n",
       "19                       No           246.992319               825.216270   \n",
       "20                       No           246.992319               430.947528   \n",
       "21                       No           246.992319               257.808099   \n",
       "23                       No           246.992319             10000.000000   \n",
       "11872                   Yes            27.594591                38.346524   \n",
       "11873                   Yes            27.594591                91.720676   \n",
       "11874                    NM            27.594591               107.005518   \n",
       "11875                   Yes            27.594591                49.791413   \n",
       "11876                   Yes            27.594591                39.661098   \n",
       "11877                   Yes         54106.000000                88.849888   \n",
       "11878                   Yes            27.594591                83.308248   \n",
       "11879                   Yes            27.594591                30.093083   \n",
       "44856                    NM           154.172426               113.594707   \n",
       "44857                   Yes           154.172426                      NaN   \n",
       "44858                   Yes           154.172426               177.298309   \n",
       "44859                    NM           154.172426               102.231219   \n",
       "44860                   Yes           154.172426               112.356043   \n",
       "44861                   Yes           154.172426               226.731296   \n",
       "44862                   Yes           154.172426               269.190939   \n",
       "44863                    NM           154.172426               301.593795   \n",
       "53272                   Yes           227.301860             10000.000000   \n",
       "53273                   Yes           227.301860               302.328788   \n",
       "53274                   Yes           227.301860               285.728217   \n",
       "53275                   Yes           227.301860               226.804565   \n",
       "53276                   Yes           227.301860                      NaN   \n",
       "53277                   Yes           227.301860               353.263028   \n",
       "53278                   Yes           227.301860               219.868867   \n",
       "53279                   Yes           227.301860               118.053016   \n",
       "61376                   Yes           100.069628                35.226764   \n",
       "61377                   Yes           100.069628               116.263980   \n",
       "61378                   Yes           100.069628                66.570683   \n",
       "61379                   Yes           100.069628                31.565207   \n",
       "61381                    NM           100.069628                79.967735   \n",
       "61382                   Yes           100.069628               248.389449   \n",
       "61383                   Yes           100.069628               117.109002   \n",
       "76872                   Yes             0.000000                      NaN   \n",
       "76873                    NM             0.000000                34.482412   \n",
       "76874                   Yes             0.000000                33.299352   \n",
       "76875                   Yes             0.000000                67.214001   \n",
       "76876                   Yes             0.000000                48.404571   \n",
       "76878                   Yes             0.000000               198.737512   \n",
       "76879                   Yes             0.000000                      NaN   \n",
       "\n",
       "                      Payment_Behaviour  Monthly_Balance Credit_Score  \\\n",
       "16                               !@9#%8      1043.315978         Good   \n",
       "18      High_spent_Small_value_payments       715.741367         Good   \n",
       "19      Low_spent_Medium_value_payments       426.513411         Good   \n",
       "20       Low_spent_Large_value_payments       810.782153         Good   \n",
       "21     High_spent_Medium_value_payments       963.921581         Good   \n",
       "23      High_spent_Small_value_payments       895.494583     Standard   \n",
       "11872    Low_spent_Small_value_payments       323.475926     Standard   \n",
       "11873    Low_spent_Large_value_payments       250.101775     Standard   \n",
       "11874    Low_spent_Small_value_payments       254.816932     Standard   \n",
       "11875    Low_spent_Small_value_payments       312.031038     Standard   \n",
       "11876                            !@9#%8       322.161353     Standard   \n",
       "11877    Low_spent_Small_value_payments       272.972562     Standard   \n",
       "11878    Low_spent_Small_value_payments       278.514203     Standard   \n",
       "11879   Low_spent_Medium_value_payments       321.729368     Standard   \n",
       "44856   High_spent_Large_value_payments       409.940117     Standard   \n",
       "44857                            !@9#%8       361.536898     Standard   \n",
       "44858   High_spent_Small_value_payments       366.236515     Standard   \n",
       "44859   High_spent_Large_value_payments       421.303604     Standard   \n",
       "44860   High_spent_Small_value_payments       431.178781     Standard   \n",
       "44861   High_spent_Small_value_payments       316.803528     Standard   \n",
       "44862   High_spent_Small_value_payments       274.343885     Standard   \n",
       "44863    Low_spent_Small_value_payments       271.941029     Standard   \n",
       "53272  High_spent_Medium_value_payments       441.231197     Standard   \n",
       "53273   High_spent_Small_value_payments       270.371686     Standard   \n",
       "53274    Low_spent_Small_value_payments       316.972257     Standard   \n",
       "53275    Low_spent_Small_value_payments       375.895908     Standard   \n",
       "53276    Low_spent_Small_value_payments              NaN     Standard   \n",
       "53277   High_spent_Small_value_payments       219.437445     Standard   \n",
       "53278    Low_spent_Large_value_payments       362.831606     Standard   \n",
       "53279  High_spent_Medium_value_payments       444.647458     Standard   \n",
       "61376                            !@9#%8       436.482274         Poor   \n",
       "61377  High_spent_Medium_value_payments       365.445059         Poor   \n",
       "61378                            !@9#%8       425.138356         Poor   \n",
       "61379   High_spent_Large_value_payments       440.143831     Standard   \n",
       "61381   High_spent_Large_value_payments       391.741304         Poor   \n",
       "61382    Low_spent_Small_value_payments       273.319589         Poor   \n",
       "61383   High_spent_Small_value_payments       374.600037         Poor   \n",
       "76872    Low_spent_Small_value_payments       336.324382     Standard   \n",
       "76873   High_spent_Large_value_payments       410.656754     Standard   \n",
       "76874  High_spent_Medium_value_payments       421.839814     Standard   \n",
       "76875    Low_spent_Large_value_payments       407.925166     Standard   \n",
       "76876   High_spent_Small_value_payments       416.734596     Standard   \n",
       "76878    Low_spent_Small_value_payments       296.401654     Standard   \n",
       "76879                            !@9#%8       364.518337     Standard   \n",
       "\n",
       "       Num_of_loan2  \n",
       "16              3.0  \n",
       "18              3.0  \n",
       "19              3.0  \n",
       "20              3.0  \n",
       "21              3.0  \n",
       "23              3.0  \n",
       "11872           6.0  \n",
       "11873           6.0  \n",
       "11874           6.0  \n",
       "11875           6.0  \n",
       "11876           6.0  \n",
       "11877           6.0  \n",
       "11878           6.0  \n",
       "11879           6.0  \n",
       "44856           6.0  \n",
       "44857           6.0  \n",
       "44858           6.0  \n",
       "44859           6.0  \n",
       "44860           6.0  \n",
       "44861           6.0  \n",
       "44862           6.0  \n",
       "44863           6.0  \n",
       "53272           6.0  \n",
       "53273           6.0  \n",
       "53274           6.0  \n",
       "53275           6.0  \n",
       "53276           6.0  \n",
       "53277           6.0  \n",
       "53278           6.0  \n",
       "53279           6.0  \n",
       "61376           3.0  \n",
       "61377           3.0  \n",
       "61378           3.0  \n",
       "61379           3.0  \n",
       "61381           3.0  \n",
       "61382           3.0  \n",
       "61383           3.0  \n",
       "76872           0.0  \n",
       "76873           0.0  \n",
       "76874           0.0  \n",
       "76875           0.0  \n",
       "76876           0.0  \n",
       "76878           0.0  \n",
       "76879           0.0  \n",
       "\n",
       "[44 rows x 29 columns]"
      ]
     },
     "execution_count": 51,
     "metadata": {},
     "output_type": "execute_result"
    }
   ],
   "source": [
    "df[df.Name == 'Langep']"
   ]
  },
  {
   "cell_type": "code",
   "execution_count": 52,
   "id": "c959f500",
   "metadata": {},
   "outputs": [
    {
     "data": {
      "text/html": [
       "<div>\n",
       "<style scoped>\n",
       "    .dataframe tbody tr th:only-of-type {\n",
       "        vertical-align: middle;\n",
       "    }\n",
       "\n",
       "    .dataframe tbody tr th {\n",
       "        vertical-align: top;\n",
       "    }\n",
       "\n",
       "    .dataframe thead th {\n",
       "        text-align: right;\n",
       "    }\n",
       "</style>\n",
       "<table border=\"1\" class=\"dataframe\">\n",
       "  <thead>\n",
       "    <tr style=\"text-align: right;\">\n",
       "      <th></th>\n",
       "      <th>ID</th>\n",
       "      <th>Customer_ID</th>\n",
       "      <th>Month</th>\n",
       "      <th>Name</th>\n",
       "      <th>Age</th>\n",
       "      <th>SSN</th>\n",
       "      <th>Occupation</th>\n",
       "      <th>Annual_Income</th>\n",
       "      <th>Monthly_Inhand_Salary</th>\n",
       "      <th>Num_Bank_Accounts</th>\n",
       "      <th>...</th>\n",
       "      <th>Outstanding_Debt</th>\n",
       "      <th>Credit_Utilization_Ratio</th>\n",
       "      <th>Credit_History_Age</th>\n",
       "      <th>Payment_of_Min_Amount</th>\n",
       "      <th>Total_EMI_per_month</th>\n",
       "      <th>Amount_invested_monthly</th>\n",
       "      <th>Payment_Behaviour</th>\n",
       "      <th>Monthly_Balance</th>\n",
       "      <th>Credit_Score</th>\n",
       "      <th>Num_of_loan2</th>\n",
       "    </tr>\n",
       "  </thead>\n",
       "  <tbody>\n",
       "    <tr>\n",
       "      <th>99928</th>\n",
       "      <td>0x25f86</td>\n",
       "      <td>CUS_0xb11c</td>\n",
       "      <td>January</td>\n",
       "      <td>Yinka Adegokej</td>\n",
       "      <td>38</td>\n",
       "      <td>546-94-4789</td>\n",
       "      <td>Manager</td>\n",
       "      <td>15319.65</td>\n",
       "      <td>NaN</td>\n",
       "      <td>6</td>\n",
       "      <td>...</td>\n",
       "      <td>1453.61</td>\n",
       "      <td>36.518222</td>\n",
       "      <td>10.90</td>\n",
       "      <td>Yes</td>\n",
       "      <td>28.182033</td>\n",
       "      <td>167.888435</td>\n",
       "      <td>Low_spent_Small_value_payments</td>\n",
       "      <td>NaN</td>\n",
       "      <td>Poor</td>\n",
       "      <td>4.0</td>\n",
       "    </tr>\n",
       "    <tr>\n",
       "      <th>99929</th>\n",
       "      <td>0x25f87</td>\n",
       "      <td>CUS_0xb11c</td>\n",
       "      <td>February</td>\n",
       "      <td>Yinka Adegokej</td>\n",
       "      <td>38</td>\n",
       "      <td>546-94-4789</td>\n",
       "      <td>Manager</td>\n",
       "      <td>15319.65</td>\n",
       "      <td>1460.6375</td>\n",
       "      <td>6</td>\n",
       "      <td>...</td>\n",
       "      <td>1453.61</td>\n",
       "      <td>39.705561</td>\n",
       "      <td>10.10</td>\n",
       "      <td>Yes</td>\n",
       "      <td>28.182033</td>\n",
       "      <td>162.662497</td>\n",
       "      <td>Low_spent_Small_value_payments</td>\n",
       "      <td>NaN</td>\n",
       "      <td>Poor</td>\n",
       "      <td>4.0</td>\n",
       "    </tr>\n",
       "    <tr>\n",
       "      <th>99930</th>\n",
       "      <td>0x25f88</td>\n",
       "      <td>CUS_0xb11c</td>\n",
       "      <td>March</td>\n",
       "      <td>Yinka Adegokej</td>\n",
       "      <td>38</td>\n",
       "      <td>546-94-4789</td>\n",
       "      <td>Manager</td>\n",
       "      <td>15319.65</td>\n",
       "      <td>1460.6375</td>\n",
       "      <td>6</td>\n",
       "      <td>...</td>\n",
       "      <td>1453.61</td>\n",
       "      <td>37.266724</td>\n",
       "      <td>10.11</td>\n",
       "      <td>Yes</td>\n",
       "      <td>28.182033</td>\n",
       "      <td>91.565818</td>\n",
       "      <td>Low_spent_Medium_value_payments</td>\n",
       "      <td>NaN</td>\n",
       "      <td>Poor</td>\n",
       "      <td>4.0</td>\n",
       "    </tr>\n",
       "    <tr>\n",
       "      <th>99931</th>\n",
       "      <td>0x25f89</td>\n",
       "      <td>CUS_0xb11c</td>\n",
       "      <td>April</td>\n",
       "      <td>Yinka Adegokej</td>\n",
       "      <td>38</td>\n",
       "      <td>546-94-4789</td>\n",
       "      <td>Manager</td>\n",
       "      <td>15319.65</td>\n",
       "      <td>1460.6375</td>\n",
       "      <td>6</td>\n",
       "      <td>...</td>\n",
       "      <td>1453.61</td>\n",
       "      <td>34.243058</td>\n",
       "      <td>11.00</td>\n",
       "      <td>Yes</td>\n",
       "      <td>28.182033</td>\n",
       "      <td>0.000000</td>\n",
       "      <td>High_spent_Large_value_payments</td>\n",
       "      <td>NaN</td>\n",
       "      <td>Standard</td>\n",
       "      <td>4.0</td>\n",
       "    </tr>\n",
       "    <tr>\n",
       "      <th>99932</th>\n",
       "      <td>0x25f8a</td>\n",
       "      <td>CUS_0xb11c</td>\n",
       "      <td>May</td>\n",
       "      <td>Yinka Adegokej</td>\n",
       "      <td>38</td>\n",
       "      <td>546-94-4789</td>\n",
       "      <td>Manager</td>\n",
       "      <td>15319.65</td>\n",
       "      <td>1460.6375</td>\n",
       "      <td>6</td>\n",
       "      <td>...</td>\n",
       "      <td>1453.61</td>\n",
       "      <td>25.539990</td>\n",
       "      <td>11.10</td>\n",
       "      <td>Yes</td>\n",
       "      <td>28.182033</td>\n",
       "      <td>89.757305</td>\n",
       "      <td>Low_spent_Small_value_payments</td>\n",
       "      <td>NaN</td>\n",
       "      <td>Standard</td>\n",
       "      <td>4.0</td>\n",
       "    </tr>\n",
       "    <tr>\n",
       "      <th>99933</th>\n",
       "      <td>0x25f8b</td>\n",
       "      <td>CUS_0xb11c</td>\n",
       "      <td>June</td>\n",
       "      <td>Yinka Adegokej</td>\n",
       "      <td>38</td>\n",
       "      <td>546-94-4789</td>\n",
       "      <td>Manager</td>\n",
       "      <td>15319.65</td>\n",
       "      <td>1460.6375</td>\n",
       "      <td>6</td>\n",
       "      <td>...</td>\n",
       "      <td>1453.61</td>\n",
       "      <td>24.846424</td>\n",
       "      <td>11.20</td>\n",
       "      <td>Yes</td>\n",
       "      <td>28.182033</td>\n",
       "      <td>45.611718</td>\n",
       "      <td>High_spent_Small_value_payments</td>\n",
       "      <td>NaN</td>\n",
       "      <td>Standard</td>\n",
       "      <td>4.0</td>\n",
       "    </tr>\n",
       "    <tr>\n",
       "      <th>99934</th>\n",
       "      <td>0x25f8c</td>\n",
       "      <td>CUS_0xb11c</td>\n",
       "      <td>July</td>\n",
       "      <td>Yinka Adegokej</td>\n",
       "      <td>38</td>\n",
       "      <td>546-94-4789</td>\n",
       "      <td>Manager</td>\n",
       "      <td>15319.65</td>\n",
       "      <td>1460.6375</td>\n",
       "      <td>6</td>\n",
       "      <td>...</td>\n",
       "      <td>1453.61</td>\n",
       "      <td>38.987835</td>\n",
       "      <td>NaN</td>\n",
       "      <td>Yes</td>\n",
       "      <td>28.182033</td>\n",
       "      <td>70.241785</td>\n",
       "      <td>Low_spent_Large_value_payments</td>\n",
       "      <td>NaN</td>\n",
       "      <td>Poor</td>\n",
       "      <td>4.0</td>\n",
       "    </tr>\n",
       "    <tr>\n",
       "      <th>99935</th>\n",
       "      <td>0x25f8d</td>\n",
       "      <td>CUS_0xb11c</td>\n",
       "      <td>August</td>\n",
       "      <td>Yinka Adegokej</td>\n",
       "      <td>38</td>\n",
       "      <td>546-94-4789</td>\n",
       "      <td>_______</td>\n",
       "      <td>15319.65</td>\n",
       "      <td>1460.6375</td>\n",
       "      <td>6</td>\n",
       "      <td>...</td>\n",
       "      <td>1453.61</td>\n",
       "      <td>34.557510</td>\n",
       "      <td>11.40</td>\n",
       "      <td>Yes</td>\n",
       "      <td>28.182033</td>\n",
       "      <td>191.877779</td>\n",
       "      <td>Low_spent_Small_value_payments</td>\n",
       "      <td>NaN</td>\n",
       "      <td>Poor</td>\n",
       "      <td>4.0</td>\n",
       "    </tr>\n",
       "  </tbody>\n",
       "</table>\n",
       "<p>8 rows × 29 columns</p>\n",
       "</div>"
      ],
      "text/plain": [
       "            ID Customer_ID     Month            Name  Age          SSN  \\\n",
       "99928  0x25f86  CUS_0xb11c   January  Yinka Adegokej   38  546-94-4789   \n",
       "99929  0x25f87  CUS_0xb11c  February  Yinka Adegokej   38  546-94-4789   \n",
       "99930  0x25f88  CUS_0xb11c     March  Yinka Adegokej   38  546-94-4789   \n",
       "99931  0x25f89  CUS_0xb11c     April  Yinka Adegokej   38  546-94-4789   \n",
       "99932  0x25f8a  CUS_0xb11c       May  Yinka Adegokej   38  546-94-4789   \n",
       "99933  0x25f8b  CUS_0xb11c      June  Yinka Adegokej   38  546-94-4789   \n",
       "99934  0x25f8c  CUS_0xb11c      July  Yinka Adegokej   38  546-94-4789   \n",
       "99935  0x25f8d  CUS_0xb11c    August  Yinka Adegokej   38  546-94-4789   \n",
       "\n",
       "      Occupation  Annual_Income  Monthly_Inhand_Salary  Num_Bank_Accounts  \\\n",
       "99928    Manager       15319.65                    NaN                  6   \n",
       "99929    Manager       15319.65              1460.6375                  6   \n",
       "99930    Manager       15319.65              1460.6375                  6   \n",
       "99931    Manager       15319.65              1460.6375                  6   \n",
       "99932    Manager       15319.65              1460.6375                  6   \n",
       "99933    Manager       15319.65              1460.6375                  6   \n",
       "99934    Manager       15319.65              1460.6375                  6   \n",
       "99935    _______       15319.65              1460.6375                  6   \n",
       "\n",
       "       ...  Outstanding_Debt  Credit_Utilization_Ratio Credit_History_Age  \\\n",
       "99928  ...           1453.61                 36.518222              10.90   \n",
       "99929  ...           1453.61                 39.705561              10.10   \n",
       "99930  ...           1453.61                 37.266724              10.11   \n",
       "99931  ...           1453.61                 34.243058              11.00   \n",
       "99932  ...           1453.61                 25.539990              11.10   \n",
       "99933  ...           1453.61                 24.846424              11.20   \n",
       "99934  ...           1453.61                 38.987835                NaN   \n",
       "99935  ...           1453.61                 34.557510              11.40   \n",
       "\n",
       "      Payment_of_Min_Amount  Total_EMI_per_month  Amount_invested_monthly  \\\n",
       "99928                   Yes            28.182033               167.888435   \n",
       "99929                   Yes            28.182033               162.662497   \n",
       "99930                   Yes            28.182033                91.565818   \n",
       "99931                   Yes            28.182033                 0.000000   \n",
       "99932                   Yes            28.182033                89.757305   \n",
       "99933                   Yes            28.182033                45.611718   \n",
       "99934                   Yes            28.182033                70.241785   \n",
       "99935                   Yes            28.182033               191.877779   \n",
       "\n",
       "                     Payment_Behaviour  Monthly_Balance Credit_Score  \\\n",
       "99928   Low_spent_Small_value_payments              NaN         Poor   \n",
       "99929   Low_spent_Small_value_payments              NaN         Poor   \n",
       "99930  Low_spent_Medium_value_payments              NaN         Poor   \n",
       "99931  High_spent_Large_value_payments              NaN     Standard   \n",
       "99932   Low_spent_Small_value_payments              NaN     Standard   \n",
       "99933  High_spent_Small_value_payments              NaN     Standard   \n",
       "99934   Low_spent_Large_value_payments              NaN         Poor   \n",
       "99935   Low_spent_Small_value_payments              NaN         Poor   \n",
       "\n",
       "       Num_of_loan2  \n",
       "99928           4.0  \n",
       "99929           4.0  \n",
       "99930           4.0  \n",
       "99931           4.0  \n",
       "99932           4.0  \n",
       "99933           4.0  \n",
       "99934           4.0  \n",
       "99935           4.0  \n",
       "\n",
       "[8 rows x 29 columns]"
      ]
     },
     "execution_count": 52,
     "metadata": {},
     "output_type": "execute_result"
    }
   ],
   "source": [
    "df[df.Customer_ID == 'CUS_0xb11c']"
   ]
  },
  {
   "cell_type": "code",
   "execution_count": 53,
   "id": "371cf5de",
   "metadata": {},
   "outputs": [],
   "source": [
    "##create function\n",
    "#customner ID of person who has ---- in occupation\n",
    "#   check for other occupation of that same person\n",
    "#   if not ---- then replace occupation else impute null\n",
    "\n",
    "# customner ID of person who has --- or null or abnormal value\n",
    "# them check for same id where not null or not ---- and fill value form there\n",
    "import warnings\n",
    "warnings.filterwarnings('ignore')"
   ]
  },
  {
   "cell_type": "code",
   "execution_count": 54,
   "id": "71b5df02",
   "metadata": {
    "scrolled": true
   },
   "outputs": [
    {
     "data": {
      "text/plain": [
       "(7024, 29)"
      ]
     },
     "execution_count": 54,
     "metadata": {},
     "output_type": "execute_result"
    }
   ],
   "source": [
    "df[df.Occupation == '_______'].shape"
   ]
  },
  {
   "cell_type": "raw",
   "id": "4a85477d",
   "metadata": {},
   "source": [
    "#for i in df.Customer_ID[df.Occupation == '_______']:\n",
    "#    for j in df.Occupation[(df.Customer_ID ==i) & (df.Occupation != '_______')]:\n",
    "#        df.Occupation[(df.Customer_ID == i) & (df.Occupation == '_______')] = j \n",
    "    #rint(i)"
   ]
  },
  {
   "cell_type": "code",
   "execution_count": null,
   "id": "98a15866",
   "metadata": {},
   "outputs": [],
   "source": [
    "\n",
    "job=\"\"\n",
    "for i in df.Customer_ID[df.Occupation == '_______']:\n",
    "    job = df.Occupation[(df.Customer_ID ==i) & (df.Occupation != '_______')].unique()\n",
    "    df.Occupation[df.Customer_ID == i] = job \n",
    "    #rint(i)"
   ]
  },
  {
   "cell_type": "code",
   "execution_count": null,
   "id": "0eef4e8a",
   "metadata": {},
   "outputs": [],
   "source": [
    "#df.Occupation[df.Customer_ID == 'CUS_0x6649']\n",
    "df.Occupation[(df.Customer_ID == 'CUS_0xbffe') & (df.Occupation != '_______')]"
   ]
  },
  {
   "cell_type": "code",
   "execution_count": null,
   "id": "afe5ebcb",
   "metadata": {
    "scrolled": true
   },
   "outputs": [],
   "source": [
    "#job = df.Occupation[(df.Customer_ID == 'CUS_0x6649') & (df.Occupation != '_______')]\n",
    "#job\n",
    "df.Occupation[df.Customer_ID == 'CUS_0x6649']"
   ]
  },
  {
   "cell_type": "code",
   "execution_count": null,
   "id": "0a24c643",
   "metadata": {
    "scrolled": true
   },
   "outputs": [],
   "source": [
    "Credit_Age = df[df.Credit_History_Age.isnull()]"
   ]
  },
  {
   "cell_type": "code",
   "execution_count": null,
   "id": "6778f95d",
   "metadata": {},
   "outputs": [],
   "source": [
    "df.loc[df.Name == 'Langep', ['Customer_ID','Month', 'Credit_History_Age']]"
   ]
  },
  {
   "cell_type": "code",
   "execution_count": null,
   "id": "ce72d2f3",
   "metadata": {
    "scrolled": false
   },
   "outputs": [],
   "source": [
    "df.loc[df.Name == 'Aaron Maashoh', ['Customer_ID','Month', 'Credit_History_Age']]"
   ]
  },
  {
   "cell_type": "code",
   "execution_count": null,
   "id": "3900c82e",
   "metadata": {
    "scrolled": true
   },
   "outputs": [],
   "source": [
    "df.isnull().sum()"
   ]
  },
  {
   "cell_type": "code",
   "execution_count": null,
   "id": "fcfcdb37",
   "metadata": {},
   "outputs": [],
   "source": [
    "df.Num_of_Delayed_Payment"
   ]
  },
  {
   "cell_type": "code",
   "execution_count": null,
   "id": "7239b931",
   "metadata": {},
   "outputs": [],
   "source": [
    "df.isnull().sum()"
   ]
  },
  {
   "cell_type": "code",
   "execution_count": null,
   "id": "1df3d604",
   "metadata": {},
   "outputs": [],
   "source": [
    "# Credit_History_Age - Knn\n",
    "# Num_of_Delayed_Payment, Num_Credit_Inquiry, Amount_Invested_Monthly, Monthly_Balance"
   ]
  },
  {
   "cell_type": "code",
   "execution_count": null,
   "id": "77b5fb38",
   "metadata": {},
   "outputs": [],
   "source": [
    "(df.isnull().sum()/df.shape[0])*100"
   ]
  },
  {
   "cell_type": "code",
   "execution_count": null,
   "id": "5696361a",
   "metadata": {},
   "outputs": [],
   "source": [
    "df.Credit_Utilization_Ratio.describe()"
   ]
  },
  {
   "cell_type": "code",
   "execution_count": null,
   "id": "e3859223",
   "metadata": {},
   "outputs": [],
   "source": [
    "df.Credit_Mix.value_counts()"
   ]
  },
  {
   "cell_type": "code",
   "execution_count": null,
   "id": "314f8640",
   "metadata": {},
   "outputs": [],
   "source": [
    "# Checking for the garbage values and taking necessary steps to clean it\n",
    "\n",
    "df.Payment_Behaviour.value_counts()"
   ]
  },
  {
   "cell_type": "code",
   "execution_count": null,
   "id": "c1776df4",
   "metadata": {},
   "outputs": [],
   "source": [
    "df[df[\"Payment_Behaviour\"]==\"!@9#%8\"]"
   ]
  },
  {
   "cell_type": "code",
   "execution_count": null,
   "id": "c7fd4e9e",
   "metadata": {},
   "outputs": [],
   "source": [
    "df[df[\"Customer_ID\"]==\"CUS_0x2dbc\"]"
   ]
  },
  {
   "cell_type": "code",
   "execution_count": null,
   "id": "dae4afd0",
   "metadata": {},
   "outputs": [],
   "source": [
    "#df[df[\"Customer_ID\"]==\"CUS_0x1cdb\"]\n",
    "df.loc[df.Customer_ID == 'CUS_0x1cdb', ['Customer_ID','Credit_Utilization_Ratio', 'Credit_Mix',\"Payment_Behaviour\"]]\n",
    "\n",
    "# Trying to find pattern in order to fill the garbage value in Payment_Behaviour columns \"!@9#%8\""
   ]
  },
  {
   "cell_type": "code",
   "execution_count": null,
   "id": "06fe704a",
   "metadata": {},
   "outputs": [],
   "source": [
    "#df[df[\"Customer_ID\"]==\"CUS_0x95ee\"]\n",
    "df.loc[df.Customer_ID == 'CUS_0x95ee', ['Customer_ID','Credit_Utilization_Ratio', 'Credit_Mix',\"Payment_Behaviour\"]]"
   ]
  },
  {
   "cell_type": "code",
   "execution_count": null,
   "id": "57fe0c9c",
   "metadata": {},
   "outputs": [],
   "source": [
    "df.Payment_Behaviour.value_counts(normalize=True)"
   ]
  },
  {
   "cell_type": "code",
   "execution_count": null,
   "id": "e7001ce8",
   "metadata": {},
   "outputs": [],
   "source": [
    "pb = \"\"\n",
    "for i in df.Customer_ID[df[\"Payment_Behaviour\"]==\"!@9#%8\"]:\n",
    "    pb = df.Payment_Behaviour[df[\"Customer_ID\"] ==i].mode()[0]\n",
    "    df.Payment_Behaviour[(df[\"Customer_ID\"] == i) & (df[\"Payment_Behaviour\"]==\"!@9#%8\")] = pb"
   ]
  },
  {
   "cell_type": "code",
   "execution_count": null,
   "id": "dcd22cfa",
   "metadata": {},
   "outputs": [],
   "source": [
    "# Successfully imputed the garbage values inside the Payment_Behaviour column\n",
    "\n",
    "df.Payment_Behaviour.value_counts(normalize= True)"
   ]
  },
  {
   "cell_type": "code",
   "execution_count": null,
   "id": "7c9466cf",
   "metadata": {},
   "outputs": [],
   "source": [
    "#now the left value will be filled with mode of all the given value( As the garbage value is just 1.7%)"
   ]
  },
  {
   "cell_type": "code",
   "execution_count": null,
   "id": "5b9798cb",
   "metadata": {},
   "outputs": [],
   "source": [
    "df.Payment_Behaviour[df[\"Payment_Behaviour\"]==\"!@9#%8\"] = df.Payment_Behaviour.mode()[0]"
   ]
  },
  {
   "cell_type": "code",
   "execution_count": null,
   "id": "b7f57f24",
   "metadata": {},
   "outputs": [],
   "source": [
    "pd.set_option('display.max_columns', None)"
   ]
  },
  {
   "cell_type": "code",
   "execution_count": null,
   "id": "20e4c5dc",
   "metadata": {},
   "outputs": [],
   "source": [
    "df.Payment_Behaviour.value_counts(normalize= True)"
   ]
  },
  {
   "cell_type": "code",
   "execution_count": null,
   "id": "0b89809e",
   "metadata": {},
   "outputs": [],
   "source": [
    "df.Credit_Mix.value_counts()"
   ]
  },
  {
   "cell_type": "code",
   "execution_count": null,
   "id": "3dd73fd7",
   "metadata": {},
   "outputs": [],
   "source": [
    "df.tail()"
   ]
  },
  {
   "cell_type": "code",
   "execution_count": null,
   "id": "4aba598e",
   "metadata": {},
   "outputs": [],
   "source": [
    "df.Credit_Mix.value_counts()"
   ]
  },
  {
   "cell_type": "code",
   "execution_count": null,
   "id": "425f791e",
   "metadata": {
    "scrolled": true
   },
   "outputs": [],
   "source": [
    "df.Credit_Mix.value_counts(normalize=True)"
   ]
  },
  {
   "cell_type": "code",
   "execution_count": null,
   "id": "27c21e67",
   "metadata": {},
   "outputs": [],
   "source": [
    "# Treating the garbage value in Credit_Mix columnn (\"_\")\n",
    "\n",
    "cm = \"\"\n",
    "for i in df.Customer_ID[df[\"Credit_Mix\"]==\"_\"]:\n",
    "    cm = df.Credit_Mix[df.Customer_ID == i].mode()[0]\n",
    "    df.Credit_Mix[(df[\"Customer_ID\"] == i) & (df[\"Credit_Mix\"]==\"_\")] = cm"
   ]
  },
  {
   "cell_type": "code",
   "execution_count": null,
   "id": "e7998e1f",
   "metadata": {},
   "outputs": [],
   "source": [
    "df.Credit_Mix.value_counts(normalize= True)"
   ]
  },
  {
   "cell_type": "code",
   "execution_count": null,
   "id": "6c05befa",
   "metadata": {},
   "outputs": [],
   "source": [
    " df.Credit_Mix[df[\"Credit_Mix\"]==\"_\"] =  df.Credit_Mix.mode()[0]"
   ]
  },
  {
   "cell_type": "code",
   "execution_count": null,
   "id": "d83b5599",
   "metadata": {},
   "outputs": [],
   "source": [
    "df.Credit_Mix.value_counts(normalize= True)"
   ]
  },
  {
   "cell_type": "code",
   "execution_count": null,
   "id": "911ca091",
   "metadata": {},
   "outputs": [],
   "source": [
    "df.isnull().sum()"
   ]
  },
  {
   "cell_type": "code",
   "execution_count": null,
   "id": "af85b8de",
   "metadata": {},
   "outputs": [],
   "source": [
    "#now we fix missing values\n",
    "df.Amount_invested_monthly"
   ]
  },
  {
   "cell_type": "code",
   "execution_count": null,
   "id": "36275b27",
   "metadata": {},
   "outputs": [],
   "source": [
    "#we will fill it by knnimputer or deleting"
   ]
  },
  {
   "cell_type": "code",
   "execution_count": null,
   "id": "46a9a0b3",
   "metadata": {},
   "outputs": [],
   "source": [
    "df.Monthly_Balance.value_counts()"
   ]
  },
  {
   "cell_type": "code",
   "execution_count": null,
   "id": "3612ae75",
   "metadata": {},
   "outputs": [],
   "source": [
    "#df[(df.Monthly_Balance.isnull()) & (df.Customer_ID == 'CUS_0x942c')]\n",
    "# we will fill this with KNNimputer"
   ]
  },
  {
   "cell_type": "code",
   "execution_count": null,
   "id": "c39956dd",
   "metadata": {},
   "outputs": [],
   "source": [
    "df[df.Num_Credit_Inquiries.isnull()].head()\n",
    "#KNN imputer and no has no garbeage"
   ]
  },
  {
   "cell_type": "code",
   "execution_count": null,
   "id": "ab4636fd",
   "metadata": {},
   "outputs": [],
   "source": [
    "df.isnull().sum()"
   ]
  },
  {
   "cell_type": "code",
   "execution_count": null,
   "id": "ed1acb8b",
   "metadata": {},
   "outputs": [],
   "source": [
    "df[df.Num_of_Delayed_Payment.isnull()]"
   ]
  },
  {
   "cell_type": "code",
   "execution_count": null,
   "id": "e4b33c21",
   "metadata": {},
   "outputs": [],
   "source": [
    "df[df.Credit_History_Age.isnull()]\n",
    "#it has no garbage value only missing so do knn imputer"
   ]
  },
  {
   "cell_type": "code",
   "execution_count": null,
   "id": "2532d727",
   "metadata": {},
   "outputs": [],
   "source": [
    "df.Customer_ID.nunique()"
   ]
  },
  {
   "cell_type": "code",
   "execution_count": null,
   "id": "4ffa92e1",
   "metadata": {},
   "outputs": [],
   "source": [
    "df.ID.nunique()"
   ]
  },
  {
   "cell_type": "code",
   "execution_count": null,
   "id": "44a702ac",
   "metadata": {},
   "outputs": [],
   "source": [
    "df.Outstanding_Debt.value_counts()"
   ]
  },
  {
   "cell_type": "code",
   "execution_count": null,
   "id": "3807f70f",
   "metadata": {},
   "outputs": [],
   "source": [
    "df.Changed_Credit_Limit.value_counts()"
   ]
  },
  {
   "cell_type": "code",
   "execution_count": null,
   "id": "72dade6b",
   "metadata": {},
   "outputs": [],
   "source": [
    "df.Changed_Credit_Limit = np.round(df.Changed_Credit_Limit,2)"
   ]
  },
  {
   "cell_type": "code",
   "execution_count": null,
   "id": "c025a002",
   "metadata": {},
   "outputs": [],
   "source": [
    "df.Changed_Credit_Limit.isnull().sum()\n",
    "#we will impute this using KNN imputer"
   ]
  },
  {
   "cell_type": "code",
   "execution_count": null,
   "id": "bd5a0bf2",
   "metadata": {},
   "outputs": [],
   "source": [
    "#now we will drop the unnecessary and redundant columns "
   ]
  },
  {
   "cell_type": "code",
   "execution_count": null,
   "id": "22cf888f",
   "metadata": {},
   "outputs": [],
   "source": [
    "df.isnull().sum()\n",
    "df.drop(['Name','Monthly_Inhand_Salary','Num_of_Loan','Type_of_Loan','ID','SSN'],axis = 1,inplace= True)\n"
   ]
  },
  {
   "cell_type": "code",
   "execution_count": null,
   "id": "681faa45",
   "metadata": {},
   "outputs": [],
   "source": [
    "df.Num_of_loan2.isnull().sum()"
   ]
  },
  {
   "cell_type": "code",
   "execution_count": null,
   "id": "3c30267d",
   "metadata": {},
   "outputs": [],
   "source": [
    "df.select_dtypes(include= np.number)"
   ]
  },
  {
   "cell_type": "code",
   "execution_count": null,
   "id": "e0acf93e",
   "metadata": {},
   "outputs": [],
   "source": [
    "df.select_dtypes(include= object)"
   ]
  },
  {
   "cell_type": "code",
   "execution_count": null,
   "id": "38d13ab8",
   "metadata": {},
   "outputs": [],
   "source": [
    "df.isnull().sum()\n",
    "#all these null values will be filled with KNN imputer after all the absurd or junk values are dealt with"
   ]
  },
  {
   "cell_type": "code",
   "execution_count": null,
   "id": "763cb842",
   "metadata": {},
   "outputs": [],
   "source": [
    "df.head()"
   ]
  },
  {
   "cell_type": "code",
   "execution_count": null,
   "id": "f1bbcb3b",
   "metadata": {},
   "outputs": [],
   "source": [
    "df.Monthly_Balance.value_counts()"
   ]
  },
  {
   "cell_type": "code",
   "execution_count": null,
   "id": "0ce06d6a",
   "metadata": {},
   "outputs": [],
   "source": [
    "cat_cols = ['Customer_ID','Month','Occupation','Credit_Mix','Payment_of_Min_Amount','Payment_Behaviour','Credit_Score',\n",
    "            'Num_Bank_Accounts','Num_Credit_Card','Interest_Rate','Num_of_Delayed_Payment','Num_Credit_Inquiries',\n",
    "           'Num_of_loan2']"
   ]
  },
  {
   "cell_type": "code",
   "execution_count": null,
   "id": "d7b083f0",
   "metadata": {},
   "outputs": [],
   "source": [
    "num_cols = ['Age', 'Annual_Income', 'Delay_from_due_date','Changed_Credit_Limit','Outstanding_Debt',\n",
    "           'Credit_Utilization_Ratio', 'Credit_History_Age', 'Total_EMI_per_month',\n",
    "           'Amount_invested_monthly', 'Monthly_Balance']"
   ]
  },
  {
   "cell_type": "code",
   "execution_count": null,
   "id": "abf861d6",
   "metadata": {},
   "outputs": [],
   "source": [
    "df.Monthly_Balance[df.Monthly_Balance < 0] = np.nan "
   ]
  },
  {
   "cell_type": "code",
   "execution_count": null,
   "id": "bd56beb0",
   "metadata": {},
   "outputs": [],
   "source": [
    "##KNN imputer to fill num values\n",
    "\n",
    "sc = StandardScaler()"
   ]
  },
  {
   "cell_type": "code",
   "execution_count": null,
   "id": "75854671",
   "metadata": {},
   "outputs": [],
   "source": [
    "scaled_data = pd.DataFrame(sc.fit_transform(df[num_cols]),columns = num_cols)    \n",
    "\n",
    "scaled_data.isnull().sum()"
   ]
  },
  {
   "cell_type": "code",
   "execution_count": null,
   "id": "a3101e0e",
   "metadata": {},
   "outputs": [],
   "source": [
    "scaled_data.Monthly_Balance.value_counts()"
   ]
  },
  {
   "cell_type": "code",
   "execution_count": null,
   "id": "64afae42",
   "metadata": {},
   "outputs": [],
   "source": [
    "from sklearn.impute import KNNImputer   \n",
    "\n",
    "kn = KNNImputer()"
   ]
  },
  {
   "cell_type": "code",
   "execution_count": null,
   "id": "ef59b6f8",
   "metadata": {},
   "outputs": [],
   "source": [
    "knn_imputer = pd.DataFrame(kn.fit_transform(scaled_data), columns = scaled_data.columns)\n"
   ]
  },
  {
   "cell_type": "code",
   "execution_count": null,
   "id": "9b7952e2",
   "metadata": {},
   "outputs": [],
   "source": [
    "knn_imputer.isnull().sum()\n"
   ]
  },
  {
   "cell_type": "code",
   "execution_count": null,
   "id": "f42150c4",
   "metadata": {},
   "outputs": [],
   "source": [
    "new_data = pd.DataFrame(sc.inverse_transform(knn_imputer), columns = knn_imputer.columns)\n"
   ]
  },
  {
   "cell_type": "code",
   "execution_count": null,
   "id": "cc0550f6",
   "metadata": {},
   "outputs": [],
   "source": [
    "new_data.isnull().sum()\n"
   ]
  },
  {
   "cell_type": "code",
   "execution_count": null,
   "id": "7afdf155",
   "metadata": {},
   "outputs": [],
   "source": [
    "cat_data = df[cat_cols]\n",
    "cat_data.shape"
   ]
  },
  {
   "cell_type": "code",
   "execution_count": null,
   "id": "11d2f0df",
   "metadata": {},
   "outputs": [],
   "source": [
    "new_data.reset_index(drop=True, inplace=True)\n",
    "cat_data.reset_index(drop=True, inplace=True)\n",
    "# Concatenate them along columns (axis=1)\n",
    "df1 = pd.concat([new_data,cat_data], axis=1)"
   ]
  },
  {
   "cell_type": "code",
   "execution_count": null,
   "id": "1e081798",
   "metadata": {},
   "outputs": [],
   "source": [
    "df1.Monthly_Balance.value_counts()"
   ]
  },
  {
   "cell_type": "code",
   "execution_count": null,
   "id": "872b4b3e",
   "metadata": {},
   "outputs": [],
   "source": [
    "df1.isnull().sum()\n"
   ]
  },
  {
   "cell_type": "code",
   "execution_count": null,
   "id": "c534e8e8",
   "metadata": {},
   "outputs": [],
   "source": [
    "#now we will fix num_credit_inquiries\n",
    "\n",
    "df1.Num_Credit_Inquiries.value_counts()"
   ]
  },
  {
   "cell_type": "code",
   "execution_count": null,
   "id": "07429468",
   "metadata": {},
   "outputs": [],
   "source": [
    "\n",
    "\n",
    "nci = \"\"\n",
    "for i in df1.Customer_ID[df1.Num_Credit_Inquiries.isnull()]:\n",
    "    nci = df1.Num_Credit_Inquiries[(df1.Customer_ID ==i) & (df1.Num_Credit_Inquiries.notnull())]\n",
    "    df1.Num_Credit_Inquiries[(df1.Customer_ID == i) & (df1.Num_Credit_Inquiries.isnull())] = nci.mode()[0]\n"
   ]
  },
  {
   "cell_type": "code",
   "execution_count": null,
   "id": "4d568eb5",
   "metadata": {},
   "outputs": [],
   "source": [
    "df1.Num_Credit_Inquiries.value_counts()"
   ]
  },
  {
   "cell_type": "code",
   "execution_count": null,
   "id": "d32ac768",
   "metadata": {},
   "outputs": [],
   "source": [
    "\n",
    "df1.Num_of_Delayed_Payment.value_counts()\n",
    "#now we will treat delayed payment"
   ]
  },
  {
   "cell_type": "code",
   "execution_count": null,
   "id": "c228f943",
   "metadata": {},
   "outputs": [],
   "source": [
    "ndp = \"\"\n",
    "for i in df1.Customer_ID[df1.Num_of_Delayed_Payment.isnull()]:\n",
    "    ndp = df1.Num_of_Delayed_Payment[(df1.Customer_ID ==i) & (df1.Num_of_Delayed_Payment.notnull())]\n",
    "    df1.Num_of_Delayed_Payment[(df1.Customer_ID == i) & (df1.Num_of_Delayed_Payment.isnull())] = ndp.mode()[0]\n"
   ]
  },
  {
   "cell_type": "code",
   "execution_count": null,
   "id": "fc9732c3",
   "metadata": {},
   "outputs": [],
   "source": [
    "df1.isnull().sum()"
   ]
  },
  {
   "cell_type": "code",
   "execution_count": null,
   "id": "e724c2e1",
   "metadata": {},
   "outputs": [],
   "source": [
    "#Univariate analysis"
   ]
  },
  {
   "cell_type": "code",
   "execution_count": null,
   "id": "17cf25f2",
   "metadata": {},
   "outputs": [],
   "source": [
    "##Now we will check for outliers using boxplot\n",
    "t=1\n",
    "plt.figure(figsize=(12,10))\n",
    "for i in num_cols:\n",
    "    plt.subplot(4,3,t)\n",
    "    sns.boxplot(df1[i], orient='h')\n",
    "    plt.title(i)\n",
    "    t+=1\n",
    "    \n",
    "plt.tight_layout()\n",
    "plt.show()"
   ]
  },
  {
   "cell_type": "code",
   "execution_count": null,
   "id": "6a519343",
   "metadata": {},
   "outputs": [],
   "source": [
    "t=1\n",
    "plt.figure(figsize=(50,40))\n",
    "for i in cat_cols:\n",
    "    if i != 'Customer_ID':\n",
    "        plt.subplot(4,3,t)\n",
    "        sns.countplot(x=df1[i])\n",
    "        plt.title(i)\n",
    "        t+=1\n",
    "    \n",
    "plt.tight_layout()\n",
    "plt.show()\n"
   ]
  },
  {
   "cell_type": "markdown",
   "id": "7a2412a1",
   "metadata": {},
   "source": [
    "# Outlier Treatment"
   ]
  },
  {
   "cell_type": "code",
   "execution_count": null,
   "id": "c8df6bfa",
   "metadata": {},
   "outputs": [],
   "source": [
    "df1.describe().T"
   ]
  },
  {
   "cell_type": "code",
   "execution_count": null,
   "id": "d448e623",
   "metadata": {},
   "outputs": [],
   "source": [
    "# we have already done for num_of_loan2 , creadit_history_age in the above missing values segment."
   ]
  },
  {
   "cell_type": "code",
   "execution_count": null,
   "id": "7cd75e1c",
   "metadata": {},
   "outputs": [],
   "source": [
    "# as age has anomalous data we will try to check for age as value are absurd with ranging uptio 1000\n",
    "#-----------for every name check other entries with same name----------\n",
    "\n",
    "df1.Age[df1.Age < 100].unique()"
   ]
  },
  {
   "cell_type": "code",
   "execution_count": null,
   "id": "d4e9ca06",
   "metadata": {},
   "outputs": [],
   "source": [
    "#now we will make these values null and try to impute them\n",
    "\n",
    "# Doing Treatment for the age Column\n",
    "\n",
    "df1.Age[df1['Age']>100] = np.nan"
   ]
  },
  {
   "cell_type": "code",
   "execution_count": null,
   "id": "2127f6d3",
   "metadata": {},
   "outputs": [],
   "source": [
    "df1['Age'].isnull().sum()"
   ]
  },
  {
   "cell_type": "code",
   "execution_count": null,
   "id": "e4abd790",
   "metadata": {},
   "outputs": [],
   "source": [
    "df1.Age[df1.Age.isnull()]\n"
   ]
  },
  {
   "cell_type": "code",
   "execution_count": null,
   "id": "8b647893",
   "metadata": {},
   "outputs": [],
   "source": [
    "age=\"\"\n",
    "Age1=\"\"\n",
    "for i in df1.Customer_ID[df1.Age.isnull()]:\n",
    "    age = df1.Age[(df1.Customer_ID ==i) & (df1.Age.notnull())]\n",
    "    Age1 = age.to_list()\n",
    "    df1.Age[df1.Customer_ID == i] = Age1[0]"
   ]
  },
  {
   "cell_type": "code",
   "execution_count": null,
   "id": "9863aa17",
   "metadata": {},
   "outputs": [],
   "source": [
    "# successfully Treated the Null Valuedf.Age.isnull()]\n",
    "df1.Age.isnull().sum()"
   ]
  },
  {
   "cell_type": "code",
   "execution_count": null,
   "id": "93c2844e",
   "metadata": {},
   "outputs": [],
   "source": [
    "## Annual_income"
   ]
  },
  {
   "cell_type": "code",
   "execution_count": null,
   "id": "01505139",
   "metadata": {},
   "outputs": [],
   "source": [
    "df1.Annual_Income.value_counts()\n",
    "#here people have some"
   ]
  },
  {
   "cell_type": "code",
   "execution_count": null,
   "id": "3ab37a52",
   "metadata": {},
   "outputs": [],
   "source": [
    "df1[df1.Annual_Income < 0]"
   ]
  },
  {
   "cell_type": "code",
   "execution_count": null,
   "id": "785fcdd7",
   "metadata": {},
   "outputs": [],
   "source": [
    "#we will keep all these high values as people can earn such high incomes"
   ]
  },
  {
   "cell_type": "code",
   "execution_count": null,
   "id": "5573c5de",
   "metadata": {},
   "outputs": [],
   "source": [
    "df1.Num_Bank_Accounts.value_counts()\n",
    "#here we can see there are some junk values as a person cannot possibly have 887 or 1221 loans, so we will fix this"
   ]
  },
  {
   "cell_type": "code",
   "execution_count": null,
   "id": "d39df83d",
   "metadata": {},
   "outputs": [],
   "source": [
    "df1[df1.Customer_ID == 'CUS_0x4004']"
   ]
  },
  {
   "cell_type": "code",
   "execution_count": null,
   "id": "048bc645",
   "metadata": {},
   "outputs": [],
   "source": [
    "df1.Num_Bank_Accounts[(df1.Num_Bank_Accounts > 10) | (df1.Num_Bank_Accounts <0)] = np.nan\n",
    "#The average number of accounts can vary, but many individuals might have a combination of savings and checking accounts, \n",
    "#along with one or two other specialized accounts. \n",
    "#Keep in mind that these are general observations, So we have considered 10 as maximum Number of bank accounts."
   ]
  },
  {
   "cell_type": "code",
   "execution_count": null,
   "id": "8a66df00",
   "metadata": {},
   "outputs": [],
   "source": [
    "df1.Num_Bank_Accounts.isnull().sum()"
   ]
  },
  {
   "cell_type": "code",
   "execution_count": null,
   "id": "c48d92cc",
   "metadata": {},
   "outputs": [],
   "source": [
    "#now we will fill these values using customer id as done in above columns\n",
    "df1.Num_Bank_Accounts[(df1.Customer_ID =='CUS_0x4004') & (df1.Num_Bank_Accounts.notnull())]\n"
   ]
  },
  {
   "cell_type": "code",
   "execution_count": null,
   "id": "359090c1",
   "metadata": {},
   "outputs": [],
   "source": [
    "nba=\"\"\n",
    "nba1=\"\"\n",
    "for i in df1.Customer_ID[df1.Num_Bank_Accounts.isnull()]:\n",
    "    nba = df1.Num_Bank_Accounts[(df1.Customer_ID ==i) & (df1.Num_Bank_Accounts.notnull())]\n",
    "    nba1 = nba.to_list()\n",
    "    df1.Num_Bank_Accounts[df1.Customer_ID == i] = nba1[0]"
   ]
  },
  {
   "cell_type": "code",
   "execution_count": null,
   "id": "855d3300",
   "metadata": {},
   "outputs": [],
   "source": [
    "df1[df1.Customer_ID =='CUS_0x4004']"
   ]
  },
  {
   "cell_type": "code",
   "execution_count": null,
   "id": "ecc72c47",
   "metadata": {},
   "outputs": [],
   "source": [
    "df1.Num_Bank_Accounts.value_counts()\n",
    "#now we have fixed num bank accounts"
   ]
  },
  {
   "cell_type": "code",
   "execution_count": null,
   "id": "b89ecde6",
   "metadata": {},
   "outputs": [],
   "source": [
    "#now we will work on num of credit cards"
   ]
  },
  {
   "cell_type": "code",
   "execution_count": null,
   "id": "73f2ce40",
   "metadata": {},
   "outputs": [],
   "source": [
    "df1[df1.Num_Credit_Card > 10]\n",
    "#as we have taken 10 no of accounts so we will take 10 num of credit cards"
   ]
  },
  {
   "cell_type": "code",
   "execution_count": null,
   "id": "ca647925",
   "metadata": {},
   "outputs": [],
   "source": [
    "df1[df1.Num_Credit_Card < 0]\n",
    "#no person  havong credit card < 0"
   ]
  },
  {
   "cell_type": "code",
   "execution_count": null,
   "id": "508e24b9",
   "metadata": {},
   "outputs": [],
   "source": [
    "df1.Num_Credit_Card[df1.Num_Credit_Card > 10] = np.nan\n"
   ]
  },
  {
   "cell_type": "code",
   "execution_count": null,
   "id": "f0c9f3f6",
   "metadata": {},
   "outputs": [],
   "source": [
    "df1.Num_Credit_Card.isnull().sum ()"
   ]
  },
  {
   "cell_type": "code",
   "execution_count": null,
   "id": "b83c138f",
   "metadata": {},
   "outputs": [],
   "source": [
    "ncc=\"\"\n",
    "ncc1=\"\"\n",
    "for i in df1.Customer_ID[df1.Num_Credit_Card.isnull()]:\n",
    "    ncc = df1.Num_Credit_Card[(df1.Customer_ID ==i) & (df1.Num_Credit_Card.notnull())]\n",
    "    ncc1 = ncc.to_list()\n",
    "    df1.Num_Credit_Card[df1.Customer_ID == i] = ncc1[0]"
   ]
  },
  {
   "cell_type": "code",
   "execution_count": null,
   "id": "b27cedb2",
   "metadata": {},
   "outputs": [],
   "source": [
    "df1.Num_Credit_Card.value_counts()\n",
    "#now we have fixed the garbage values in num credit card"
   ]
  },
  {
   "cell_type": "code",
   "execution_count": null,
   "id": "ad72739f",
   "metadata": {},
   "outputs": [],
   "source": [
    "#now we will work oon interest rate\n",
    "df1.Interest_Rate.value_counts()"
   ]
  },
  {
   "cell_type": "code",
   "execution_count": null,
   "id": "80daadb3",
   "metadata": {},
   "outputs": [],
   "source": [
    "df1[df1.Interest_Rate > 32].shape[0]"
   ]
  },
  {
   "cell_type": "code",
   "execution_count": null,
   "id": "aa7a4d19",
   "metadata": {},
   "outputs": [],
   "source": [
    "df1[df1.Interest_Rate > 33].shape[0]"
   ]
  },
  {
   "cell_type": "code",
   "execution_count": null,
   "id": "c86a4c04",
   "metadata": {},
   "outputs": [],
   "source": [
    "df1[df1.Interest_Rate > 34].shape[0]"
   ]
  },
  {
   "cell_type": "code",
   "execution_count": null,
   "id": "f88545a8",
   "metadata": {},
   "outputs": [],
   "source": [
    "df1[df1.Interest_Rate > 35].shape[0]"
   ]
  },
  {
   "cell_type": "code",
   "execution_count": null,
   "id": "4a30c895",
   "metadata": {},
   "outputs": [],
   "source": [
    "df1[df1.Interest_Rate > 36].shape[0]"
   ]
  },
  {
   "cell_type": "code",
   "execution_count": null,
   "id": "988c12ae",
   "metadata": {},
   "outputs": [],
   "source": [
    "# as we can see after 34% interst rate  the no of entries is constant so we will procedd with 34% and above it all are junk"
   ]
  },
  {
   "cell_type": "code",
   "execution_count": null,
   "id": "9924b451",
   "metadata": {},
   "outputs": [],
   "source": [
    "df1.Interest_Rate[df1.Interest_Rate > 34] = np.nan"
   ]
  },
  {
   "cell_type": "code",
   "execution_count": null,
   "id": "342cc437",
   "metadata": {},
   "outputs": [],
   "source": [
    "df1.Interest_Rate.isnull().sum()"
   ]
  },
  {
   "cell_type": "code",
   "execution_count": null,
   "id": "36f61e0b",
   "metadata": {},
   "outputs": [],
   "source": [
    "df1[df1.Interest_Rate.isnull()]"
   ]
  },
  {
   "cell_type": "code",
   "execution_count": null,
   "id": "ff3e540d",
   "metadata": {},
   "outputs": [],
   "source": [
    "nic = \"\"\n",
    "nic1 = \"\"\n",
    "for i in df1.Customer_ID[df1.Interest_Rate.isnull()]:\n",
    "    nic = df1.Interest_Rate[(df1.Customer_ID ==i) & (df1.Interest_Rate.notnull())]\n",
    "    nic1 = nic.to_list()\n",
    "    df1.Interest_Rate[df1.Customer_ID == i] = nic1[0]"
   ]
  },
  {
   "cell_type": "code",
   "execution_count": null,
   "id": "1ef93d79",
   "metadata": {},
   "outputs": [],
   "source": [
    "df1.Interest_Rate.isnull().sum()"
   ]
  },
  {
   "cell_type": "code",
   "execution_count": null,
   "id": "6e06b506",
   "metadata": {},
   "outputs": [],
   "source": [
    "df1[df1.Customer_ID == 'CUS_0x95ee']"
   ]
  },
  {
   "cell_type": "code",
   "execution_count": null,
   "id": "90484f02",
   "metadata": {},
   "outputs": [],
   "source": [
    "df1.Delay_from_due_date.value_counts()"
   ]
  },
  {
   "cell_type": "code",
   "execution_count": null,
   "id": "49efc5a6",
   "metadata": {},
   "outputs": [],
   "source": [
    "df1[df1.Delay_from_due_date < 0]"
   ]
  },
  {
   "cell_type": "code",
   "execution_count": null,
   "id": "b885ad17",
   "metadata": {},
   "outputs": [],
   "source": [
    "print(df1.Delay_from_due_date.max())\n",
    "print(df1.Delay_from_due_date.min())\n",
    "#This columns look good and all the values are justified so we will move ahead"
   ]
  },
  {
   "cell_type": "code",
   "execution_count": null,
   "id": "6396c561",
   "metadata": {},
   "outputs": [],
   "source": [
    "#now we will treat Num_of_Delayed_Payment"
   ]
  },
  {
   "cell_type": "code",
   "execution_count": null,
   "id": "a80d8a1a",
   "metadata": {},
   "outputs": [],
   "source": [
    "df1[df1.Num_of_Delayed_Payment == 0]"
   ]
  },
  {
   "cell_type": "code",
   "execution_count": null,
   "id": "aa02b7fe",
   "metadata": {},
   "outputs": [],
   "source": [
    "df1.Num_of_Delayed_Payment.isnull().sum()"
   ]
  },
  {
   "cell_type": "code",
   "execution_count": null,
   "id": "5fa0dbbe",
   "metadata": {},
   "outputs": [],
   "source": [
    "df1.Num_of_Delayed_Payment.value_counts()"
   ]
  },
  {
   "cell_type": "code",
   "execution_count": null,
   "id": "0a17c971",
   "metadata": {},
   "outputs": [],
   "source": [
    "df1[df1.Num_of_Delayed_Payment > 28]\n",
    "#after this the number of entries is constant so we will make everything above this null and impute them later with KNN"
   ]
  },
  {
   "cell_type": "code",
   "execution_count": null,
   "id": "3f78f2ba",
   "metadata": {},
   "outputs": [],
   "source": [
    "df1.Num_of_Delayed_Payment[df1.Num_of_Delayed_Payment > 28] = np.nan"
   ]
  },
  {
   "cell_type": "code",
   "execution_count": null,
   "id": "93725a3c",
   "metadata": {},
   "outputs": [],
   "source": [
    "# now we have fixed garbage values and rest nan will be filled by mode\n",
    "df1.Num_of_Delayed_Payment.mode()[0]"
   ]
  },
  {
   "cell_type": "code",
   "execution_count": null,
   "id": "1c88d89a",
   "metadata": {},
   "outputs": [],
   "source": [
    "df1.Num_of_Delayed_Payment[df1.Num_of_Delayed_Payment.isnull()] = df1.Num_of_Delayed_Payment.mode()[0]"
   ]
  },
  {
   "cell_type": "code",
   "execution_count": null,
   "id": "13ba1cce",
   "metadata": {},
   "outputs": [],
   "source": [
    "df1[df1.Num_of_Delayed_Payment.isnull()]"
   ]
  },
  {
   "cell_type": "code",
   "execution_count": null,
   "id": "b44a6998",
   "metadata": {},
   "outputs": [],
   "source": [
    "#now we will work on Changed credit limit"
   ]
  },
  {
   "cell_type": "code",
   "execution_count": null,
   "id": "50e432bc",
   "metadata": {},
   "outputs": [],
   "source": [
    "df1[df1.Changed_Credit_Limit < 0]"
   ]
  },
  {
   "cell_type": "code",
   "execution_count": null,
   "id": "1d4753f2",
   "metadata": {},
   "outputs": [],
   "source": [
    "df1.Changed_Credit_Limit.value_counts()"
   ]
  },
  {
   "cell_type": "code",
   "execution_count": null,
   "id": "4e9cde35",
   "metadata": {},
   "outputs": [],
   "source": [
    "df1.Changed_Credit_Limit.max()"
   ]
  },
  {
   "cell_type": "code",
   "execution_count": null,
   "id": "c7ea780a",
   "metadata": {},
   "outputs": [],
   "source": [
    "df1.Changed_Credit_Limit.min()\n",
    "#it looks good and we will proceed with it and move on"
   ]
  },
  {
   "cell_type": "code",
   "execution_count": null,
   "id": "612ea621",
   "metadata": {},
   "outputs": [],
   "source": [
    "df1.describe().T"
   ]
  },
  {
   "cell_type": "code",
   "execution_count": null,
   "id": "a4ea14d3",
   "metadata": {},
   "outputs": [],
   "source": [
    "# now we will work on Num_Credit_Inquiries"
   ]
  },
  {
   "cell_type": "code",
   "execution_count": null,
   "id": "d947af8a",
   "metadata": {},
   "outputs": [],
   "source": [
    "df1[df1.Num_Credit_Inquiries < 0]"
   ]
  },
  {
   "cell_type": "code",
   "execution_count": null,
   "id": "67cc2780",
   "metadata": {},
   "outputs": [],
   "source": [
    "df1.Num_Credit_Inquiries.value_counts()"
   ]
  },
  {
   "cell_type": "code",
   "execution_count": null,
   "id": "e6405516",
   "metadata": {},
   "outputs": [],
   "source": [
    "df1.Num_Credit_Inquiries.max()"
   ]
  },
  {
   "cell_type": "code",
   "execution_count": null,
   "id": "5e4da60f",
   "metadata": {},
   "outputs": [],
   "source": [
    "df1[df1.Num_Credit_Inquiries > 17]\n",
    "#after 17 the change in number of entries is almost constant so we will proceed with it and make other null"
   ]
  },
  {
   "cell_type": "code",
   "execution_count": null,
   "id": "2d464322",
   "metadata": {},
   "outputs": [],
   "source": [
    "df1.Num_Credit_Inquiries[df1.Num_Credit_Inquiries > 17] = np.nan\n",
    "#now we have fixed garbage values and will impute them later with mode"
   ]
  },
  {
   "cell_type": "code",
   "execution_count": null,
   "id": "48378518",
   "metadata": {},
   "outputs": [],
   "source": [
    "df1.Num_Credit_Inquiries[df1.Num_Credit_Inquiries.isnull()] = df1.Num_Credit_Inquiries.mode()[0]"
   ]
  },
  {
   "cell_type": "code",
   "execution_count": null,
   "id": "7ba3594f",
   "metadata": {},
   "outputs": [],
   "source": [
    "df1.Num_Credit_Inquiries.isnull().sum()"
   ]
  },
  {
   "cell_type": "code",
   "execution_count": null,
   "id": "9508a182",
   "metadata": {},
   "outputs": [],
   "source": [
    "##Now we will fix Outstanding Debt\n",
    "df1[df1.Outstanding_Debt < 0]"
   ]
  },
  {
   "cell_type": "code",
   "execution_count": null,
   "id": "cf4f3d86",
   "metadata": {},
   "outputs": [],
   "source": [
    "df1.Outstanding_Debt.value_counts()"
   ]
  },
  {
   "cell_type": "code",
   "execution_count": null,
   "id": "8766fa91",
   "metadata": {},
   "outputs": [],
   "source": [
    "df1.Outstanding_Debt.min()"
   ]
  },
  {
   "cell_type": "code",
   "execution_count": null,
   "id": "a2d57558",
   "metadata": {},
   "outputs": [],
   "source": [
    "df1.Outstanding_Debt.max()\n",
    "#this column is fine and we will proceed"
   ]
  },
  {
   "cell_type": "code",
   "execution_count": null,
   "id": "59540ae2",
   "metadata": {},
   "outputs": [],
   "source": [
    "#now we will work on Credit_Utilization_Ratio\n",
    "\n",
    "df1[df1.Credit_Utilization_Ratio < 0]"
   ]
  },
  {
   "cell_type": "code",
   "execution_count": null,
   "id": "a4536325",
   "metadata": {},
   "outputs": [],
   "source": [
    "df1.Credit_Utilization_Ratio.value_counts()"
   ]
  },
  {
   "cell_type": "code",
   "execution_count": null,
   "id": "1a9d5395",
   "metadata": {},
   "outputs": [],
   "source": [
    "df1.Credit_Utilization_Ratio.min()"
   ]
  },
  {
   "cell_type": "code",
   "execution_count": null,
   "id": "6794b61a",
   "metadata": {},
   "outputs": [],
   "source": [
    "df1.Credit_Utilization_Ratio.max() \n",
    "#this is fine and we will proceed further"
   ]
  },
  {
   "cell_type": "code",
   "execution_count": null,
   "id": "24ae649d",
   "metadata": {},
   "outputs": [],
   "source": [
    "# now we will work on Credit_History_Age\n",
    "\n",
    "df1[df1.Credit_History_Age < 0]"
   ]
  },
  {
   "cell_type": "code",
   "execution_count": null,
   "id": "3fa4a985",
   "metadata": {},
   "outputs": [],
   "source": [
    "df1.Credit_History_Age.value_counts()"
   ]
  },
  {
   "cell_type": "code",
   "execution_count": null,
   "id": "7920b6b7",
   "metadata": {},
   "outputs": [],
   "source": [
    "df1.Credit_History_Age.min()"
   ]
  },
  {
   "cell_type": "code",
   "execution_count": null,
   "id": "49d20645",
   "metadata": {},
   "outputs": [],
   "source": [
    "df1.Credit_History_Age.max()\n",
    "#this is fine and we will proceed furter"
   ]
  },
  {
   "cell_type": "code",
   "execution_count": null,
   "id": "bf379ff1",
   "metadata": {},
   "outputs": [],
   "source": [
    "#now we will work on Total_EMI_per_month\n",
    "\n",
    "df1[df1.Total_EMI_per_month < 0]"
   ]
  },
  {
   "cell_type": "code",
   "execution_count": null,
   "id": "92e4f264",
   "metadata": {},
   "outputs": [],
   "source": [
    "df1.Total_EMI_per_month.value_counts()"
   ]
  },
  {
   "cell_type": "code",
   "execution_count": null,
   "id": "a8600209",
   "metadata": {},
   "outputs": [],
   "source": [
    "df1.Total_EMI_per_month.min()"
   ]
  },
  {
   "cell_type": "code",
   "execution_count": null,
   "id": "4464ad71",
   "metadata": {},
   "outputs": [],
   "source": [
    "df1.Total_EMI_per_month.max()"
   ]
  },
  {
   "cell_type": "code",
   "execution_count": null,
   "id": "5b2fe02a",
   "metadata": {},
   "outputs": [],
   "source": [
    "df1[df1.Total_EMI_per_month > 58638.000000]"
   ]
  },
  {
   "cell_type": "code",
   "execution_count": null,
   "id": "fc999d69",
   "metadata": {},
   "outputs": [],
   "source": [
    "df1[df1.Customer_ID == 'CUS_0x942c']"
   ]
  },
  {
   "cell_type": "code",
   "execution_count": null,
   "id": "07b17134",
   "metadata": {},
   "outputs": [],
   "source": [
    "df1[df1.Customer_ID == 'CUS_0xc0ab']"
   ]
  },
  {
   "cell_type": "code",
   "execution_count": null,
   "id": "70dac3fe",
   "metadata": {},
   "outputs": [],
   "source": [
    "df1[df1.Customer_ID == 'CUS_0x5d6d']"
   ]
  },
  {
   "cell_type": "code",
   "execution_count": null,
   "id": "ee2cd28b",
   "metadata": {},
   "outputs": [],
   "source": [
    "df1[df1.Total_EMI_per_month > 1000]"
   ]
  },
  {
   "cell_type": "code",
   "execution_count": null,
   "id": "91fad4e3",
   "metadata": {},
   "outputs": [],
   "source": [
    "df1[df1.Customer_ID == 'CUS_0x95ee']"
   ]
  },
  {
   "cell_type": "code",
   "execution_count": null,
   "id": "c35552b0",
   "metadata": {},
   "outputs": [],
   "source": [
    "df1[df1.Customer_ID == 'CUS_0x284a']\n",
    "\n",
    "###do later"
   ]
  },
  {
   "cell_type": "code",
   "execution_count": null,
   "id": "65aedc1d",
   "metadata": {},
   "outputs": [],
   "source": [
    "#now we will fix amount inversted monthly\n",
    "df1[df1.Amount_invested_monthly < 0]"
   ]
  },
  {
   "cell_type": "code",
   "execution_count": null,
   "id": "47b8c60a",
   "metadata": {},
   "outputs": [],
   "source": [
    "df1.Amount_invested_monthly.value_counts()"
   ]
  },
  {
   "cell_type": "code",
   "execution_count": null,
   "id": "ecd0df27",
   "metadata": {},
   "outputs": [],
   "source": [
    "df1.Amount_invested_monthly.max()"
   ]
  },
  {
   "cell_type": "code",
   "execution_count": null,
   "id": "19ee7a14",
   "metadata": {},
   "outputs": [],
   "source": [
    "df1.Amount_invested_monthly.min()"
   ]
  },
  {
   "cell_type": "code",
   "execution_count": null,
   "id": "525a0d3d",
   "metadata": {},
   "outputs": [],
   "source": [
    "df1[df1.Amount_invested_monthly == 10000]"
   ]
  },
  {
   "cell_type": "code",
   "execution_count": null,
   "id": "585ffcaf",
   "metadata": {},
   "outputs": [],
   "source": [
    "df1[df1.Customer_ID == 'CUS_0x33d2']"
   ]
  },
  {
   "cell_type": "code",
   "execution_count": null,
   "id": "5feabfd6",
   "metadata": {},
   "outputs": [],
   "source": [
    "df1[df1.Customer_ID == 'CUS_0x1619']\n",
    "#it look's and we will procceed further"
   ]
  },
  {
   "cell_type": "code",
   "execution_count": null,
   "id": "484d0e5b",
   "metadata": {},
   "outputs": [],
   "source": [
    "##now we will work on Monthly_Balance\n",
    "\n",
    "df1.Monthly_Balance[df1.Monthly_Balance < 0] = np.nan "
   ]
  },
  {
   "cell_type": "code",
   "execution_count": null,
   "id": "bf9259fc",
   "metadata": {},
   "outputs": [],
   "source": [
    "df1.Monthly_Balance.value_counts()"
   ]
  },
  {
   "cell_type": "code",
   "execution_count": null,
   "id": "1a2322be",
   "metadata": {},
   "outputs": [],
   "source": [
    "df1.Monthly_Balance.min()"
   ]
  },
  {
   "cell_type": "code",
   "execution_count": null,
   "id": "4a2624b6",
   "metadata": {},
   "outputs": [],
   "source": [
    "df1.Monthly_Balance.max()\n",
    "#this is fine and we will proceed further"
   ]
  },
  {
   "cell_type": "code",
   "execution_count": null,
   "id": "e48de949",
   "metadata": {},
   "outputs": [],
   "source": [
    "# now we will work on num of loan"
   ]
  },
  {
   "cell_type": "code",
   "execution_count": null,
   "id": "81be230b",
   "metadata": {},
   "outputs": [],
   "source": [
    "df1[df1.Num_of_loan2 < 0]"
   ]
  },
  {
   "cell_type": "code",
   "execution_count": null,
   "id": "82c24304",
   "metadata": {},
   "outputs": [],
   "source": [
    "df1.Num_of_loan2.value_counts()\n",
    "#this is fine and we will proceed futher"
   ]
  },
  {
   "cell_type": "code",
   "execution_count": null,
   "id": "ffdebc5a",
   "metadata": {},
   "outputs": [],
   "source": [
    "df1.select_dtypes(object).columns"
   ]
  },
  {
   "cell_type": "code",
   "execution_count": null,
   "id": "38fae743",
   "metadata": {},
   "outputs": [],
   "source": [
    "df1.select_dtypes(include='number').columns"
   ]
  },
  {
   "cell_type": "code",
   "execution_count": null,
   "id": "935d17db",
   "metadata": {
    "scrolled": true
   },
   "outputs": [],
   "source": [
    "df1.Annual_Income.value_counts().sort_index(ascending=False)"
   ]
  },
  {
   "cell_type": "code",
   "execution_count": null,
   "id": "aea39af3",
   "metadata": {},
   "outputs": [],
   "source": [
    "df1.isnull().sum()"
   ]
  },
  {
   "cell_type": "code",
   "execution_count": null,
   "id": "1ccb2a09",
   "metadata": {},
   "outputs": [],
   "source": [
    "df1[\"Amount_invested_monthly\"][df1[\"Amount_invested_monthly\"]==10000] = np.nan"
   ]
  },
  {
   "cell_type": "code",
   "execution_count": null,
   "id": "2702f414",
   "metadata": {},
   "outputs": [],
   "source": [
    "df1[df1[\"Amount_invested_monthly\"].isnull()]"
   ]
  },
  {
   "cell_type": "code",
   "execution_count": null,
   "id": "1c1ff069",
   "metadata": {},
   "outputs": [],
   "source": [
    "aim = \"\"\n",
    "for i in df1.Customer_ID[df1.Amount_invested_monthly.isnull()]:\n",
    "    aim = df1.Amount_invested_monthly[(df1.Customer_ID ==i) & (df1.Amount_invested_monthly.notnull())]\n",
    "    df1.Amount_invested_monthly[(df1.Customer_ID == i) & (df1.Amount_invested_monthly.isnull())] = aim.mean()"
   ]
  },
  {
   "cell_type": "code",
   "execution_count": null,
   "id": "01ef31ec",
   "metadata": {},
   "outputs": [],
   "source": [
    "df1[df1.Customer_ID == 'CUS_0x2dbc']"
   ]
  },
  {
   "cell_type": "code",
   "execution_count": null,
   "id": "86484023",
   "metadata": {},
   "outputs": [],
   "source": [
    "df1[\"Amount_invested_monthly\"].max()"
   ]
  },
  {
   "cell_type": "code",
   "execution_count": null,
   "id": "79e259f5",
   "metadata": {},
   "outputs": [],
   "source": [
    "df1[df1[\"Customer_ID\"]==\"CUS_0xb891\"]"
   ]
  },
  {
   "cell_type": "code",
   "execution_count": null,
   "id": "082b9e76",
   "metadata": {},
   "outputs": [],
   "source": [
    "df1.Annual_Income[df1.Customer_ID ==\"CUS_0xb891\"].mode()[0]"
   ]
  },
  {
   "cell_type": "code",
   "execution_count": null,
   "id": "fbcb761b",
   "metadata": {},
   "outputs": [],
   "source": [
    "df1[df1[\"Customer_ID\"]==\"CUS_0xbffe\"] #CUS_0xd40 # CUS_0x942c #CUS_0x21b1"
   ]
  },
  {
   "cell_type": "code",
   "execution_count": null,
   "id": "7f3d2b70",
   "metadata": {},
   "outputs": [],
   "source": [
    "df1[df1[\"Customer_ID\"]==\"CUS_0x51b3\"]"
   ]
  },
  {
   "cell_type": "code",
   "execution_count": null,
   "id": "b87c2c96",
   "metadata": {},
   "outputs": [],
   "source": [
    "df1[df1[\"Customer_ID\"]==\"CUS_0x284a\"]"
   ]
  },
  {
   "cell_type": "code",
   "execution_count": null,
   "id": "c8b0d567",
   "metadata": {},
   "outputs": [],
   "source": [
    "ai = \"\"\n",
    "for i in df1.Customer_ID.unique():\n",
    "    ai = df1.Annual_Income[df1.Customer_ID ==i]\n",
    "    df1.Annual_Income[df1.Customer_ID == i] = ai.mode()[0]"
   ]
  },
  {
   "cell_type": "code",
   "execution_count": null,
   "id": "424e6085",
   "metadata": {},
   "outputs": [],
   "source": [
    "df1[df1[\"Customer_ID\"]==\"CUS_0xbffe\"]"
   ]
  },
  {
   "cell_type": "code",
   "execution_count": null,
   "id": "46d4f61f",
   "metadata": {},
   "outputs": [],
   "source": [
    "df1[df1[\"Customer_ID\"]==\"CUS_0x51b3\"]"
   ]
  },
  {
   "cell_type": "code",
   "execution_count": null,
   "id": "4d7e9912",
   "metadata": {},
   "outputs": [],
   "source": [
    "df1[df1[\"Customer_ID\"]==\"CUS_0x284a\"]"
   ]
  },
  {
   "cell_type": "code",
   "execution_count": null,
   "id": "85281417",
   "metadata": {},
   "outputs": [],
   "source": [
    "sns.boxplot(df1[\"Annual_Income\"], orient='h')"
   ]
  },
  {
   "cell_type": "code",
   "execution_count": null,
   "id": "f60b2908",
   "metadata": {},
   "outputs": [],
   "source": [
    "df1[\"Total_EMI_per_month\"].max()"
   ]
  },
  {
   "cell_type": "code",
   "execution_count": null,
   "id": "ada866d0",
   "metadata": {},
   "outputs": [],
   "source": [
    "df1[\"Total_EMI_per_month\"].value_counts()"
   ]
  },
  {
   "cell_type": "code",
   "execution_count": null,
   "id": "f59d341d",
   "metadata": {},
   "outputs": [],
   "source": [
    "df1[df1[\"Total_EMI_per_month\"]>1000]"
   ]
  },
  {
   "cell_type": "code",
   "execution_count": null,
   "id": "425340ce",
   "metadata": {},
   "outputs": [],
   "source": [
    "df1[df1[\"Customer_ID\"]==\"CUS_0x95ee\"] "
   ]
  },
  {
   "cell_type": "code",
   "execution_count": null,
   "id": "e54447b3",
   "metadata": {},
   "outputs": [],
   "source": [
    "df1[df1[\"Customer_ID\"]==\"CUS_0x284a\"]"
   ]
  },
  {
   "cell_type": "code",
   "execution_count": null,
   "id": "f168c422",
   "metadata": {
    "scrolled": false
   },
   "outputs": [],
   "source": [
    "df1.Total_EMI_per_month.describe().T"
   ]
  },
  {
   "cell_type": "code",
   "execution_count": null,
   "id": "b271129f",
   "metadata": {},
   "outputs": [],
   "source": [
    "q1 = df1.Total_EMI_per_month.quantile(0.25)\n",
    "q3 = df1.Total_EMI_per_month.quantile(0.75)\n",
    "\n",
    "iqr =q3-q1\n",
    "\n",
    "ul = iqr+5.0*q3\n",
    "#ll = iqr+1.5*q3\n",
    "ul"
   ]
  },
  {
   "cell_type": "code",
   "execution_count": null,
   "id": "0c7fe3fc",
   "metadata": {},
   "outputs": [],
   "source": [
    "df1.Total_EMI_per_month[df1.Total_EMI_per_month > ul]=np.nan"
   ]
  },
  {
   "cell_type": "code",
   "execution_count": null,
   "id": "73d6c334",
   "metadata": {},
   "outputs": [],
   "source": [
    "tpm = \"\"\n",
    "for i in df1.Customer_ID[df1.Total_EMI_per_month.isnull()]:\n",
    "    tpm = df1.Total_EMI_per_month[(df1.Customer_ID ==i) & (df1.Total_EMI_per_month.notnull())]\n",
    "    df1.Total_EMI_per_month[(df1.Customer_ID == i) & (df1.Total_EMI_per_month.isnull())] = tpm.mean()"
   ]
  },
  {
   "cell_type": "code",
   "execution_count": null,
   "id": "96097519",
   "metadata": {
    "scrolled": true
   },
   "outputs": [],
   "source": [
    "df1.Total_EMI_per_month.isnull().sum()"
   ]
  },
  {
   "cell_type": "code",
   "execution_count": null,
   "id": "da5564bd",
   "metadata": {},
   "outputs": [],
   "source": [
    "df1[df1.Total_EMI_per_month.isnull()]"
   ]
  },
  {
   "cell_type": "code",
   "execution_count": null,
   "id": "b5e27bc5",
   "metadata": {},
   "outputs": [],
   "source": [
    "df1.shape"
   ]
  },
  {
   "cell_type": "code",
   "execution_count": null,
   "id": "db395a98",
   "metadata": {},
   "outputs": [],
   "source": [
    "df1.dropna(subset= ['Total_EMI_per_month'],inplace= True)"
   ]
  },
  {
   "cell_type": "code",
   "execution_count": null,
   "id": "51d0beda",
   "metadata": {},
   "outputs": [],
   "source": [
    "df1.Monthly_Balance.describe()"
   ]
  },
  {
   "cell_type": "code",
   "execution_count": null,
   "id": "e8071a6e",
   "metadata": {},
   "outputs": [],
   "source": [
    "df1.shape\n",
    "df1.drop('Customer_ID',axis = 1,inplace= True)\n",
    "cat_cols.remove('Customer_ID')"
   ]
  },
  {
   "cell_type": "code",
   "execution_count": null,
   "id": "6960aba5",
   "metadata": {},
   "outputs": [],
   "source": [
    "t=1\n",
    "plt.figure(figsize=(12,10))\n",
    "for i in num_cols:\n",
    "    plt.subplot(4,3,t)\n",
    "    sns.boxplot(df1[i], orient='h')\n",
    "    plt.title(i)\n",
    "    t+=1\n",
    "    \n",
    "plt.tight_layout()\n",
    "plt.show()"
   ]
  },
  {
   "cell_type": "code",
   "execution_count": null,
   "id": "829f8570",
   "metadata": {},
   "outputs": [],
   "source": [
    "df1.isnull().sum()"
   ]
  },
  {
   "cell_type": "code",
   "execution_count": null,
   "id": "95c61f2f",
   "metadata": {},
   "outputs": [],
   "source": [
    "#now we have fixed aLL THE VALUES and we will proceed with bivariate and univariate analysis\n"
   ]
  },
  {
   "cell_type": "markdown",
   "id": "6195f682",
   "metadata": {},
   "source": [
    "## Numerical with Categorical(Target) columns"
   ]
  },
  {
   "cell_type": "code",
   "execution_count": null,
   "id": "9f665012",
   "metadata": {},
   "outputs": [],
   "source": [
    "j=1\n",
    "plt.figure(figsize=(20,30))\n",
    "for i in num_cols:\n",
    "    plt.subplot(5,2,j)\n",
    "    sns.boxplot(x=df1[i], y=df1[\"Credit_Score\"])\n",
    "    plt.title(i)\n",
    "    j+=1\n",
    "    \n",
    "plt.tight_layout()\n",
    "plt.show()"
   ]
  },
  {
   "cell_type": "code",
   "execution_count": null,
   "id": "85b27215",
   "metadata": {},
   "outputs": [],
   "source": [
    "df1.Num_Bank_Accounts.value_counts()"
   ]
  },
  {
   "cell_type": "markdown",
   "id": "33d6ad58",
   "metadata": {},
   "source": [
    "## Categorical with Categorical(Target) column"
   ]
  },
  {
   "cell_type": "code",
   "execution_count": null,
   "id": "d7540fa1",
   "metadata": {},
   "outputs": [],
   "source": [
    "plt.figure(figsize=(20,40))\n",
    "t = 1\n",
    "for i in cat_cols:\n",
    "    plt.subplot(6,2,t)\n",
    "    sns.countplot(data=df1, x=i, hue='Credit_Score')\n",
    "    t+=1\n",
    "    plt.title(i)\n",
    "    plt.xticks(rotation=60)\n",
    "plt.tight_layout()\n",
    "plt.show()"
   ]
  },
  {
   "cell_type": "markdown",
   "id": "19167b13",
   "metadata": {},
   "source": [
    "# Encoding"
   ]
  },
  {
   "cell_type": "code",
   "execution_count": null,
   "id": "c0947a06",
   "metadata": {},
   "outputs": [],
   "source": [
    "df1.select_dtypes(include=np.number)"
   ]
  },
  {
   "cell_type": "code",
   "execution_count": null,
   "id": "003a0fae",
   "metadata": {},
   "outputs": [],
   "source": [
    "df1.select_dtypes(include=object)"
   ]
  },
  {
   "cell_type": "code",
   "execution_count": null,
   "id": "6678a107",
   "metadata": {},
   "outputs": [],
   "source": [
    "df1[\"Credit_Score\"].value_counts()"
   ]
  },
  {
   "cell_type": "code",
   "execution_count": null,
   "id": "750ed59a",
   "metadata": {},
   "outputs": [],
   "source": [
    "cat_cols.remove(\"Credit_Score\")\n"
   ]
  },
  {
   "cell_type": "code",
   "execution_count": null,
   "id": "0b5c2bf6",
   "metadata": {},
   "outputs": [],
   "source": [
    "df1['Credit_Score'] = df1['Credit_Score'].map({'Standard':1,'Poor':0,'Good':2})"
   ]
  },
  {
   "cell_type": "code",
   "execution_count": null,
   "id": "76c38570",
   "metadata": {},
   "outputs": [],
   "source": [
    "df1.Credit_Score"
   ]
  },
  {
   "cell_type": "code",
   "execution_count": null,
   "id": "a3c065a4",
   "metadata": {},
   "outputs": [],
   "source": [
    "df1[\"Credit_Score\"].value_counts()"
   ]
  },
  {
   "cell_type": "code",
   "execution_count": null,
   "id": "6c0c1505",
   "metadata": {},
   "outputs": [],
   "source": [
    "df1.select_dtypes(include=object)"
   ]
  },
  {
   "cell_type": "code",
   "execution_count": null,
   "id": "51f27487",
   "metadata": {},
   "outputs": [],
   "source": [
    "cat_cols1 = ['Month','Occupation','Credit_Mix','Payment_of_Min_Amount','Payment_Behaviour']"
   ]
  },
  {
   "cell_type": "code",
   "execution_count": null,
   "id": "e02b5310",
   "metadata": {},
   "outputs": [],
   "source": [
    "df1[cat_cols1]"
   ]
  },
  {
   "cell_type": "code",
   "execution_count": null,
   "id": "3a85a951",
   "metadata": {},
   "outputs": [],
   "source": [
    "from sklearn.preprocessing import LabelEncoder"
   ]
  },
  {
   "cell_type": "code",
   "execution_count": null,
   "id": "c6595d9e",
   "metadata": {},
   "outputs": [],
   "source": [
    "le = LabelEncoder()"
   ]
  },
  {
   "cell_type": "code",
   "execution_count": null,
   "id": "528e6738",
   "metadata": {},
   "outputs": [],
   "source": [
    "for i in cat_cols1:\n",
    "    df1[i] = le.fit_transform(df1[i])\n",
    "df1.head()"
   ]
  },
  {
   "cell_type": "markdown",
   "id": "b5336013",
   "metadata": {},
   "source": [
    "## Modelling"
   ]
  },
  {
   "cell_type": "code",
   "execution_count": null,
   "id": "aa0f73e3",
   "metadata": {},
   "outputs": [],
   "source": [
    "from sklearn.model_selection import train_test_split"
   ]
  },
  {
   "cell_type": "code",
   "execution_count": null,
   "id": "b49976e0",
   "metadata": {},
   "outputs": [],
   "source": [
    "x = df1.drop(['Credit_Score'],axis = 1)\n",
    "y = df1.Credit_Score"
   ]
  },
  {
   "cell_type": "code",
   "execution_count": null,
   "id": "ba6cc4b3",
   "metadata": {},
   "outputs": [],
   "source": [
    "xtrain, xtest, ytrain, ytest = train_test_split(x,y,\n",
    "                                                test_size=0.20,\n",
    "                                                random_state = 2,stratify=y)"
   ]
  },
  {
   "cell_type": "code",
   "execution_count": null,
   "id": "f56a2193",
   "metadata": {},
   "outputs": [],
   "source": [
    "xtrain.shape, xtest.shape, ytrain.shape, ytest.shape"
   ]
  },
  {
   "cell_type": "code",
   "execution_count": null,
   "id": "6ba6c1be",
   "metadata": {},
   "outputs": [],
   "source": [
    "ytrain.value_counts(normalize = True)  "
   ]
  },
  {
   "cell_type": "code",
   "execution_count": null,
   "id": "7b680fe8",
   "metadata": {},
   "outputs": [],
   "source": [
    "ytest.value_counts(normalize= True)"
   ]
  },
  {
   "cell_type": "code",
   "execution_count": null,
   "id": "893273d5",
   "metadata": {},
   "outputs": [],
   "source": [
    "y.value_counts(normalize = True)"
   ]
  },
  {
   "cell_type": "code",
   "execution_count": null,
   "id": "55dcfc6c",
   "metadata": {},
   "outputs": [],
   "source": [
    "from sklearn.metrics import accuracy_score,confusion_matrix,classification_report,roc_curve,roc_auc_score, cohen_kappa_score"
   ]
  },
  {
   "cell_type": "code",
   "execution_count": null,
   "id": "d0eeccc9",
   "metadata": {},
   "outputs": [],
   "source": [
    "from sklearn.metrics import f1_score"
   ]
  },
  {
   "cell_type": "code",
   "execution_count": null,
   "id": "5b33c9b9",
   "metadata": {},
   "outputs": [],
   "source": [
    "def validation(test,pred):\n",
    "    print('Accuracy Score:',accuracy_score(test,pred))\n",
    "    print('Confusion Matrix:\\n',confusion_matrix(test,pred))\n",
    "    print('Classification report:\\n',classification_report(test,pred))"
   ]
  },
  {
   "cell_type": "code",
   "execution_count": null,
   "id": "d494de7e",
   "metadata": {},
   "outputs": [],
   "source": [
    "from sklearn.tree import DecisionTreeClassifier"
   ]
  },
  {
   "cell_type": "code",
   "execution_count": null,
   "id": "5e8cbe45",
   "metadata": {},
   "outputs": [],
   "source": [
    "dt = DecisionTreeClassifier()"
   ]
  },
  {
   "cell_type": "code",
   "execution_count": null,
   "id": "295281d6",
   "metadata": {},
   "outputs": [],
   "source": [
    "dt.fit(xtrain,ytrain)"
   ]
  },
  {
   "cell_type": "code",
   "execution_count": null,
   "id": "ce2afb18",
   "metadata": {},
   "outputs": [],
   "source": [
    "y_pred_dt = dt.predict(xtest)"
   ]
  },
  {
   "cell_type": "code",
   "execution_count": null,
   "id": "af39e211",
   "metadata": {},
   "outputs": [],
   "source": [
    "validation(ytest,y_pred_dt)"
   ]
  },
  {
   "cell_type": "code",
   "execution_count": null,
   "id": "07bc7143",
   "metadata": {},
   "outputs": [],
   "source": [
    "f1_score(ytest,y_pred_dt,average= 'weighted')"
   ]
  },
  {
   "cell_type": "code",
   "execution_count": null,
   "id": "baa04586",
   "metadata": {},
   "outputs": [],
   "source": [
    "cohen_kappa_score(ytest,y_pred_dt)"
   ]
  },
  {
   "cell_type": "code",
   "execution_count": null,
   "id": "2bede0d7",
   "metadata": {},
   "outputs": [],
   "source": [
    "from sklearn.ensemble import RandomForestClassifier"
   ]
  },
  {
   "cell_type": "code",
   "execution_count": null,
   "id": "624036be",
   "metadata": {},
   "outputs": [],
   "source": [
    "rf = RandomForestClassifier()"
   ]
  },
  {
   "cell_type": "code",
   "execution_count": null,
   "id": "b2b86fde",
   "metadata": {},
   "outputs": [],
   "source": [
    "rf.fit(xtrain,ytrain)"
   ]
  },
  {
   "cell_type": "code",
   "execution_count": null,
   "id": "04966faa",
   "metadata": {},
   "outputs": [],
   "source": [
    "y_pred_rf = rf.predict(xtest)"
   ]
  },
  {
   "cell_type": "code",
   "execution_count": null,
   "id": "d0fa16f7",
   "metadata": {
    "scrolled": true
   },
   "outputs": [],
   "source": [
    "validation(ytest,y_pred_rf)"
   ]
  },
  {
   "cell_type": "code",
   "execution_count": null,
   "id": "24131352",
   "metadata": {},
   "outputs": [],
   "source": [
    "###use gridserchCV with rf for better results AND Tuning"
   ]
  },
  {
   "cell_type": "code",
   "execution_count": null,
   "id": "8a921d59",
   "metadata": {},
   "outputs": [],
   "source": [
    "from sklearn.model_selection import GridSearchCV"
   ]
  },
  {
   "cell_type": "code",
   "execution_count": null,
   "id": "cf4cbf7d",
   "metadata": {},
   "outputs": [],
   "source": [
    "params = {'criterion' : ['gini','entropy'],\n",
    "         'max_depth' : [3,4,5,6,7],\n",
    "         'n_estimators' : [100,300,500]}"
   ]
  },
  {
   "cell_type": "code",
   "execution_count": null,
   "id": "cb93d9a5",
   "metadata": {},
   "outputs": [],
   "source": [
    "gscv = GridSearchCV(estimator= RandomForestClassifier(),param_grid= params,scoring = 'f1',cv=3,verbose= 4)"
   ]
  },
  {
   "cell_type": "code",
   "execution_count": null,
   "id": "5344c3a2",
   "metadata": {},
   "outputs": [],
   "source": [
    "gscv.fit(xtrain,ytrain)"
   ]
  },
  {
   "cell_type": "code",
   "execution_count": null,
   "id": "4005ce21",
   "metadata": {},
   "outputs": [],
   "source": [
    "gscv.best_params_"
   ]
  },
  {
   "cell_type": "code",
   "execution_count": null,
   "id": "6872653e",
   "metadata": {},
   "outputs": [],
   "source": [
    "rf = RandomForestClassifier(**gscv.best_params_)"
   ]
  },
  {
   "cell_type": "code",
   "execution_count": null,
   "id": "057cfea9",
   "metadata": {},
   "outputs": [],
   "source": [
    "rf.fit(xtrain,ytrain)"
   ]
  },
  {
   "cell_type": "code",
   "execution_count": null,
   "id": "ba737c0a",
   "metadata": {},
   "outputs": [],
   "source": [
    "y_pred_rf = rf.predict(xtest)"
   ]
  },
  {
   "cell_type": "code",
   "execution_count": null,
   "id": "b5b97d2c",
   "metadata": {},
   "outputs": [],
   "source": [
    "validation(ytest,y_pred_rf)"
   ]
  },
  {
   "cell_type": "code",
   "execution_count": null,
   "id": "a53094b6",
   "metadata": {},
   "outputs": [],
   "source": [
    "cohen_kappa_score(ytest,y_pred_rf)"
   ]
  },
  {
   "cell_type": "code",
   "execution_count": null,
   "id": "dd91b2f0",
   "metadata": {},
   "outputs": [],
   "source": [
    "from xgboost import XGBClassifier"
   ]
  },
  {
   "cell_type": "code",
   "execution_count": null,
   "id": "72479162",
   "metadata": {},
   "outputs": [],
   "source": [
    "xg = XGBClassifier()"
   ]
  },
  {
   "cell_type": "code",
   "execution_count": null,
   "id": "82326c9d",
   "metadata": {},
   "outputs": [],
   "source": [
    "xg.fit(xtrain,ytrain)"
   ]
  },
  {
   "cell_type": "code",
   "execution_count": null,
   "id": "3a8fc6bc",
   "metadata": {},
   "outputs": [],
   "source": [
    "y_prd_xg = xg.predict(xtest)"
   ]
  },
  {
   "cell_type": "code",
   "execution_count": null,
   "id": "3d829957",
   "metadata": {},
   "outputs": [],
   "source": [
    "validation(ytest,y_prd_xg)"
   ]
  },
  {
   "cell_type": "code",
   "execution_count": null,
   "id": "985f01f3",
   "metadata": {},
   "outputs": [],
   "source": [
    "cohen_kappa_score(ytest,y_prd_xg)"
   ]
  },
  {
   "cell_type": "code",
   "execution_count": null,
   "id": "5d8416a0",
   "metadata": {},
   "outputs": [],
   "source": [
    "pd.DataFrame({'features' : xg.feature_importances_},index = xtrain.columns).sort_values(by = 'features',ascending= False)"
   ]
  },
  {
   "cell_type": "code",
   "execution_count": null,
   "id": "b9cd43f4",
   "metadata": {},
   "outputs": [],
   "source": [
    "params = {'max_depth' : [3,4,5,6,7],\n",
    "         'n_estimators' : [100,300,500]}"
   ]
  },
  {
   "cell_type": "code",
   "execution_count": null,
   "id": "2eb5d680",
   "metadata": {},
   "outputs": [],
   "source": [
    "gscv_xg = GridSearchCV(estimator= XGBClassifier(),param_grid= params,scoring = 'f1',cv=3,verbose= 4)"
   ]
  },
  {
   "cell_type": "code",
   "execution_count": null,
   "id": "ae04ea1e",
   "metadata": {},
   "outputs": [],
   "source": [
    "gscv_xg.fit(xtrain,ytrain)"
   ]
  },
  {
   "cell_type": "code",
   "execution_count": null,
   "id": "5adfe433",
   "metadata": {},
   "outputs": [],
   "source": [
    "gscv_xg.best_params_"
   ]
  },
  {
   "cell_type": "code",
   "execution_count": null,
   "id": "58bbbf31",
   "metadata": {},
   "outputs": [],
   "source": [
    "xg1 = XGBClassifier(**gscv_xg.best_params_)"
   ]
  },
  {
   "cell_type": "code",
   "execution_count": null,
   "id": "114c687a",
   "metadata": {},
   "outputs": [],
   "source": [
    "xg1.fit(xtrain,ytrain)"
   ]
  },
  {
   "cell_type": "code",
   "execution_count": null,
   "id": "b6c6a6a5",
   "metadata": {},
   "outputs": [],
   "source": [
    "y_prd_xg1 = xg.predict(xtest)"
   ]
  },
  {
   "cell_type": "code",
   "execution_count": null,
   "id": "c7570341",
   "metadata": {},
   "outputs": [],
   "source": [
    "validation(ytest,y_prd_xg1)"
   ]
  },
  {
   "cell_type": "code",
   "execution_count": null,
   "id": "ec67c115",
   "metadata": {},
   "outputs": [],
   "source": [
    "from sklearn.ensemble import AdaBoostClassifier"
   ]
  },
  {
   "cell_type": "code",
   "execution_count": null,
   "id": "d4f16475",
   "metadata": {},
   "outputs": [],
   "source": [
    "ad = AdaBoostClassifier()"
   ]
  },
  {
   "cell_type": "code",
   "execution_count": null,
   "id": "9db7dd65",
   "metadata": {},
   "outputs": [],
   "source": [
    "ad.fit(xtrain,ytrain)"
   ]
  },
  {
   "cell_type": "code",
   "execution_count": null,
   "id": "8d9544c9",
   "metadata": {},
   "outputs": [],
   "source": [
    "y_prd_ada = ad.predict(xtest)"
   ]
  },
  {
   "cell_type": "code",
   "execution_count": null,
   "id": "98feb6cc",
   "metadata": {},
   "outputs": [],
   "source": [
    "validation(ytest,y_prd_ada)"
   ]
  },
  {
   "cell_type": "code",
   "execution_count": null,
   "id": "e33bedf9",
   "metadata": {},
   "outputs": [],
   "source": [
    "cohen_kappa_score(ytest,y_prd_ada)"
   ]
  },
  {
   "cell_type": "code",
   "execution_count": null,
   "id": "1df7aca4",
   "metadata": {},
   "outputs": [],
   "source": [
    "#Xg boost is giving the best results"
   ]
  },
  {
   "cell_type": "code",
   "execution_count": null,
   "id": "0aeab794",
   "metadata": {},
   "outputs": [],
   "source": []
  }
 ],
 "metadata": {
  "kernelspec": {
   "display_name": "Python 3 (ipykernel)",
   "language": "python",
   "name": "python3"
  },
  "language_info": {
   "codemirror_mode": {
    "name": "ipython",
    "version": 3
   },
   "file_extension": ".py",
   "mimetype": "text/x-python",
   "name": "python",
   "nbconvert_exporter": "python",
   "pygments_lexer": "ipython3",
   "version": "3.9.12"
  }
 },
 "nbformat": 4,
 "nbformat_minor": 5
}
